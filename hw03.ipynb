{
 "cells": [
  {
   "cell_type": "markdown",
   "metadata": {
    "id": "AnG9DXhe49cH"
   },
   "source": [
    "## Теоретическая часть"
   ]
  },
  {
   "cell_type": "markdown",
   "metadata": {
    "id": "RxDIQTAh49cO"
   },
   "source": [
    "1. Вспомним прошлый вебинар, мы рассматривали User-User рекомендации и Item-Item рекомендации. Чем они отличаются и чем они похожи? Если есть функция item_item_rec(interaction_matrix). Можно ли использовать эту функцию для user_user_rec?  \n",
    "В чем принципиальные отличия item-item рекомендаций от ALS?\n"
   ]
  },
  {
   "cell_type": "markdown",
   "metadata": {},
   "source": [
    "<li>Похоже тем что используют и туже матрицу(транпонированную в одном из случаев), используют для поиска KNN\n",
    "<li>Да можно, транспонировав матрицу\n",
    "<li>item-item использует KNN, a ALS использует градиентный спуск, минимизируя функцию потерь создает две матрицы UxK и KxI, чтобы потом их перемножить и получить предсказания по всей матрице"
   ]
  },
  {
   "cell_type": "markdown",
   "metadata": {
    "id": "XnuQ5DDD49cP"
   },
   "source": [
    "2. Приведите 3 примера весов (те, которых не было на вебинаре: сумма покупок, количество покупок - неинтересно) user-item матрицы для задачи рекомендаций товаров \n"
   ]
  },
  {
   "cell_type": "markdown",
   "metadata": {},
   "source": [
    "цена\n",
    "\n",
    "прибыль\n",
    "\n",
    "срок годности"
   ]
  },
  {
   "cell_type": "markdown",
   "metadata": {
    "id": "UmKifKo649cQ"
   },
   "source": [
    "3. Какие ограничения есть у ALS? (Тип информации, линейность/нелинейность факторов и т д)\n"
   ]
  },
  {
   "cell_type": "markdown",
   "metadata": {},
   "source": [
    "АЛС учитывает  линейные зависимости"
   ]
  },
  {
   "cell_type": "markdown",
   "metadata": {
    "id": "ZFhlzsTb49cR"
   },
   "source": [
    "## Практическая часть\n"
   ]
  },
  {
   "cell_type": "code",
   "execution_count": 57,
   "metadata": {
    "execution": {
     "iopub.execute_input": "2021-10-22T19:38:11.295157Z",
     "iopub.status.busy": "2021-10-22T19:38:11.294511Z",
     "iopub.status.idle": "2021-10-22T19:38:11.304132Z",
     "shell.execute_reply": "2021-10-22T19:38:11.303282Z",
     "shell.execute_reply.started": "2021-10-22T19:38:11.295122Z"
    },
    "id": "qI6TyXCL49cS"
   },
   "outputs": [],
   "source": [
    "import pandas as pd\n",
    "import numpy as np\n",
    "import matplotlib.pyplot as plt\n",
    "%matplotlib inline\n",
    "\n",
    "from scipy.sparse import csr_matrix\n",
    "from implicit.als import AlternatingLeastSquares\n",
    "from implicit.nearest_neighbours import bm25_weight, tfidf_weight\n",
    "\n",
    "\n",
    "import os, sys\n"
   ]
  },
  {
   "cell_type": "code",
   "execution_count": 58,
   "metadata": {
    "execution": {
     "iopub.execute_input": "2021-10-22T19:38:16.028239Z",
     "iopub.status.busy": "2021-10-22T19:38:16.027741Z",
     "iopub.status.idle": "2021-10-22T19:38:16.038015Z",
     "shell.execute_reply": "2021-10-22T19:38:16.036868Z",
     "shell.execute_reply.started": "2021-10-22T19:38:16.02817Z"
    }
   },
   "outputs": [],
   "source": [
    "def precision(recommended_list, bought_list):\n",
    "    bought_list = np.array(bought_list)\n",
    "    recommended_list = np.array(recommended_list)\n",
    "    flags = np.isin(bought_list, recommended_list)\n",
    "    return flags.sum() / len(recommended_list)\n",
    "\n",
    "def precision_at_k(recommended_list, bought_list, k=5):\n",
    "    return precision(recommended_list[:k], bought_list)\n",
    "\n",
    "def get_recommendations(user, model, N=5):\n",
    "    result = [id_to_itemid[rec[0]] for rec in \n",
    "                    model.recommend(userid=userid_to_id[user], \n",
    "                                    user_items=sparse_user_item,   # на вход user-item matrix\n",
    "                                    N=N, \n",
    "                                    filter_already_liked_items=False, \n",
    "                                    filter_items=[itemid_to_id[999999]],\n",
    "                                    #filter_items=None, \n",
    "                                    recalculate_user=True)]\n",
    "    return result"
   ]
  },
  {
   "cell_type": "code",
   "execution_count": 89,
   "metadata": {
    "execution": {
     "iopub.execute_input": "2021-10-22T19:38:21.938312Z",
     "iopub.status.busy": "2021-10-22T19:38:21.937992Z",
     "iopub.status.idle": "2021-10-22T19:38:26.351566Z",
     "shell.execute_reply": "2021-10-22T19:38:26.35082Z",
     "shell.execute_reply.started": "2021-10-22T19:38:21.938278Z"
    }
   },
   "outputs": [
    {
     "data": {
      "text/html": [
       "<div>\n",
       "<style scoped>\n",
       "    .dataframe tbody tr th:only-of-type {\n",
       "        vertical-align: middle;\n",
       "    }\n",
       "\n",
       "    .dataframe tbody tr th {\n",
       "        vertical-align: top;\n",
       "    }\n",
       "\n",
       "    .dataframe thead th {\n",
       "        text-align: right;\n",
       "    }\n",
       "</style>\n",
       "<table border=\"1\" class=\"dataframe\">\n",
       "  <thead>\n",
       "    <tr style=\"text-align: right;\">\n",
       "      <th></th>\n",
       "      <th>user_id</th>\n",
       "      <th>basket_id</th>\n",
       "      <th>day</th>\n",
       "      <th>item_id</th>\n",
       "      <th>quantity</th>\n",
       "      <th>sales_value</th>\n",
       "      <th>store_id</th>\n",
       "      <th>retail_disc</th>\n",
       "      <th>trans_time</th>\n",
       "      <th>week_no</th>\n",
       "      <th>coupon_disc</th>\n",
       "      <th>coupon_match_disc</th>\n",
       "    </tr>\n",
       "  </thead>\n",
       "  <tbody>\n",
       "    <tr>\n",
       "      <th>0</th>\n",
       "      <td>2375</td>\n",
       "      <td>26984851472</td>\n",
       "      <td>1</td>\n",
       "      <td>1004906</td>\n",
       "      <td>1</td>\n",
       "      <td>1.39</td>\n",
       "      <td>364</td>\n",
       "      <td>-0.6</td>\n",
       "      <td>1631</td>\n",
       "      <td>1</td>\n",
       "      <td>0.0</td>\n",
       "      <td>0.0</td>\n",
       "    </tr>\n",
       "    <tr>\n",
       "      <th>1</th>\n",
       "      <td>2375</td>\n",
       "      <td>26984851472</td>\n",
       "      <td>1</td>\n",
       "      <td>1033142</td>\n",
       "      <td>1</td>\n",
       "      <td>0.82</td>\n",
       "      <td>364</td>\n",
       "      <td>0.0</td>\n",
       "      <td>1631</td>\n",
       "      <td>1</td>\n",
       "      <td>0.0</td>\n",
       "      <td>0.0</td>\n",
       "    </tr>\n",
       "    <tr>\n",
       "      <th>2</th>\n",
       "      <td>2375</td>\n",
       "      <td>26984851472</td>\n",
       "      <td>1</td>\n",
       "      <td>1036325</td>\n",
       "      <td>1</td>\n",
       "      <td>0.99</td>\n",
       "      <td>364</td>\n",
       "      <td>-0.3</td>\n",
       "      <td>1631</td>\n",
       "      <td>1</td>\n",
       "      <td>0.0</td>\n",
       "      <td>0.0</td>\n",
       "    </tr>\n",
       "  </tbody>\n",
       "</table>\n",
       "</div>"
      ],
      "text/plain": [
       "   user_id    basket_id  day  item_id  quantity  sales_value  store_id  \\\n",
       "0     2375  26984851472    1  1004906         1         1.39       364   \n",
       "1     2375  26984851472    1  1033142         1         0.82       364   \n",
       "2     2375  26984851472    1  1036325         1         0.99       364   \n",
       "\n",
       "   retail_disc  trans_time  week_no  coupon_disc  coupon_match_disc  \n",
       "0         -0.6        1631        1          0.0                0.0  \n",
       "1          0.0        1631        1          0.0                0.0  \n",
       "2         -0.3        1631        1          0.0                0.0  "
      ]
     },
     "execution_count": 89,
     "metadata": {},
     "output_type": "execute_result"
    }
   ],
   "source": [
    "data = pd.read_csv('retail_train.csv')\n",
    "data.head(3)"
   ]
  },
  {
   "cell_type": "code",
   "execution_count": 60,
   "metadata": {
    "execution": {
     "iopub.execute_input": "2021-10-22T19:38:28.576464Z",
     "iopub.status.busy": "2021-10-22T19:38:28.576171Z",
     "iopub.status.idle": "2021-10-22T19:38:28.764322Z",
     "shell.execute_reply": "2021-10-22T19:38:28.763445Z",
     "shell.execute_reply.started": "2021-10-22T19:38:28.576435Z"
    },
    "id": "LsYDeTEC49cU",
    "outputId": "768ddf88-4ed7-4b07-9af2-582ccef9b4ab"
   },
   "outputs": [
    {
     "data": {
      "text/html": [
       "<div>\n",
       "<style scoped>\n",
       "    .dataframe tbody tr th:only-of-type {\n",
       "        vertical-align: middle;\n",
       "    }\n",
       "\n",
       "    .dataframe tbody tr th {\n",
       "        vertical-align: top;\n",
       "    }\n",
       "\n",
       "    .dataframe thead th {\n",
       "        text-align: right;\n",
       "    }\n",
       "</style>\n",
       "<table border=\"1\" class=\"dataframe\">\n",
       "  <thead>\n",
       "    <tr style=\"text-align: right;\">\n",
       "      <th></th>\n",
       "      <th>user_id</th>\n",
       "      <th>basket_id</th>\n",
       "      <th>day</th>\n",
       "      <th>item_id</th>\n",
       "      <th>quantity</th>\n",
       "      <th>sales_value</th>\n",
       "      <th>store_id</th>\n",
       "      <th>retail_disc</th>\n",
       "      <th>trans_time</th>\n",
       "      <th>week_no</th>\n",
       "      <th>coupon_disc</th>\n",
       "      <th>coupon_match_disc</th>\n",
       "    </tr>\n",
       "  </thead>\n",
       "  <tbody>\n",
       "    <tr>\n",
       "      <th>0</th>\n",
       "      <td>2375</td>\n",
       "      <td>26984851472</td>\n",
       "      <td>1</td>\n",
       "      <td>1004906</td>\n",
       "      <td>1</td>\n",
       "      <td>1.39</td>\n",
       "      <td>364</td>\n",
       "      <td>-0.6</td>\n",
       "      <td>1631</td>\n",
       "      <td>1</td>\n",
       "      <td>0.0</td>\n",
       "      <td>0.0</td>\n",
       "    </tr>\n",
       "    <tr>\n",
       "      <th>1</th>\n",
       "      <td>2375</td>\n",
       "      <td>26984851472</td>\n",
       "      <td>1</td>\n",
       "      <td>1033142</td>\n",
       "      <td>1</td>\n",
       "      <td>0.82</td>\n",
       "      <td>364</td>\n",
       "      <td>0.0</td>\n",
       "      <td>1631</td>\n",
       "      <td>1</td>\n",
       "      <td>0.0</td>\n",
       "      <td>0.0</td>\n",
       "    </tr>\n",
       "  </tbody>\n",
       "</table>\n",
       "</div>"
      ],
      "text/plain": [
       "   user_id    basket_id  day  item_id  quantity  sales_value  store_id  \\\n",
       "0     2375  26984851472    1  1004906         1         1.39       364   \n",
       "1     2375  26984851472    1  1033142         1         0.82       364   \n",
       "\n",
       "   retail_disc  trans_time  week_no  coupon_disc  coupon_match_disc  \n",
       "0         -0.6        1631        1          0.0                0.0  \n",
       "1          0.0        1631        1          0.0                0.0  "
      ]
     },
     "execution_count": 60,
     "metadata": {},
     "output_type": "execute_result"
    }
   ],
   "source": [
    "#data.columns = [col.lower() for col in data.columns]\n",
    "#data.rename(columns={'household_key': 'user_id','product_id': 'item_id'},inplace=True)\n",
    "\n",
    "\n",
    "test_size_weeks = 3\n",
    "\n",
    "data_train = data[data['week_no'] < data['week_no'].max() - test_size_weeks]\n",
    "data_test = data[data['week_no'] >= data['week_no'].max() - test_size_weeks]\n",
    "\n",
    "data_train.head(2)"
   ]
  },
  {
   "cell_type": "code",
   "execution_count": 62,
   "metadata": {
    "execution": {
     "iopub.execute_input": "2021-10-22T19:38:39.0549Z",
     "iopub.status.busy": "2021-10-22T19:38:39.054598Z",
     "iopub.status.idle": "2021-10-22T19:38:39.185967Z",
     "shell.execute_reply": "2021-10-22T19:38:39.184999Z",
     "shell.execute_reply.started": "2021-10-22T19:38:39.054867Z"
    }
   },
   "outputs": [
    {
     "data": {
      "text/html": [
       "<div>\n",
       "<style scoped>\n",
       "    .dataframe tbody tr th:only-of-type {\n",
       "        vertical-align: middle;\n",
       "    }\n",
       "\n",
       "    .dataframe tbody tr th {\n",
       "        vertical-align: top;\n",
       "    }\n",
       "\n",
       "    .dataframe thead th {\n",
       "        text-align: right;\n",
       "    }\n",
       "</style>\n",
       "<table border=\"1\" class=\"dataframe\">\n",
       "  <thead>\n",
       "    <tr style=\"text-align: right;\">\n",
       "      <th></th>\n",
       "      <th>user_id</th>\n",
       "      <th>actual</th>\n",
       "    </tr>\n",
       "  </thead>\n",
       "  <tbody>\n",
       "    <tr>\n",
       "      <th>0</th>\n",
       "      <td>1</td>\n",
       "      <td>[821867, 834484, 856942, 865456, 889248, 90795...</td>\n",
       "    </tr>\n",
       "    <tr>\n",
       "      <th>1</th>\n",
       "      <td>3</td>\n",
       "      <td>[835476, 851057, 872021, 878302, 879948, 90963...</td>\n",
       "    </tr>\n",
       "    <tr>\n",
       "      <th>2</th>\n",
       "      <td>6</td>\n",
       "      <td>[920308, 926804, 946489, 1006718, 1017061, 107...</td>\n",
       "    </tr>\n",
       "    <tr>\n",
       "      <th>3</th>\n",
       "      <td>7</td>\n",
       "      <td>[840386, 889774, 898068, 909714, 929067, 95347...</td>\n",
       "    </tr>\n",
       "    <tr>\n",
       "      <th>4</th>\n",
       "      <td>8</td>\n",
       "      <td>[835098, 872137, 910439, 924610, 992977, 10412...</td>\n",
       "    </tr>\n",
       "  </tbody>\n",
       "</table>\n",
       "</div>"
      ],
      "text/plain": [
       "   user_id                                             actual\n",
       "0        1  [821867, 834484, 856942, 865456, 889248, 90795...\n",
       "1        3  [835476, 851057, 872021, 878302, 879948, 90963...\n",
       "2        6  [920308, 926804, 946489, 1006718, 1017061, 107...\n",
       "3        7  [840386, 889774, 898068, 909714, 929067, 95347...\n",
       "4        8  [835098, 872137, 910439, 924610, 992977, 10412..."
      ]
     },
     "execution_count": 62,
     "metadata": {},
     "output_type": "execute_result"
    }
   ],
   "source": [
    "result = data_test.groupby('user_id')['item_id'].unique().reset_index()\n",
    "result.columns=['user_id', 'actual']\n",
    "result.head(5)"
   ]
  },
  {
   "cell_type": "code",
   "execution_count": 63,
   "metadata": {
    "execution": {
     "iopub.execute_input": "2021-10-22T19:38:43.144567Z",
     "iopub.status.busy": "2021-10-22T19:38:43.144253Z",
     "iopub.status.idle": "2021-10-22T19:38:43.303076Z",
     "shell.execute_reply": "2021-10-22T19:38:43.30234Z",
     "shell.execute_reply.started": "2021-10-22T19:38:43.144538Z"
    }
   },
   "outputs": [],
   "source": [
    "popularity = data_train.groupby('item_id')['quantity'].sum().reset_index()\n",
    "popularity.rename(columns={'quantity': 'n_sold'}, inplace=True)\n",
    "\n",
    "top_5000 = popularity.sort_values('n_sold', ascending=False).head(5000).item_id.tolist()"
   ]
  },
  {
   "cell_type": "code",
   "execution_count": 64,
   "metadata": {
    "execution": {
     "iopub.execute_input": "2021-10-22T19:38:46.178023Z",
     "iopub.status.busy": "2021-10-22T19:38:46.177478Z",
     "iopub.status.idle": "2021-10-22T19:38:46.262768Z",
     "shell.execute_reply": "2021-10-22T19:38:46.262083Z",
     "shell.execute_reply.started": "2021-10-22T19:38:46.17797Z"
    }
   },
   "outputs": [
    {
     "name": "stderr",
     "output_type": "stream",
     "text": [
      "C:\\Users\\User\\anaconda3\\lib\\site-packages\\pandas\\core\\indexing.py:1817: SettingWithCopyWarning: \n",
      "A value is trying to be set on a copy of a slice from a DataFrame.\n",
      "Try using .loc[row_indexer,col_indexer] = value instead\n",
      "\n",
      "See the caveats in the documentation: https://pandas.pydata.org/pandas-docs/stable/user_guide/indexing.html#returning-a-view-versus-a-copy\n",
      "  self._setitem_single_column(loc, value, pi)\n"
     ]
    }
   ],
   "source": [
    "# Заведем фиктивный item_id (если юзер покупал товары из топ-5000, то он \"купил\" такой товар)\n",
    "data_train.loc[~data_train['item_id'].isin(top_5000), 'item_id'] = 999999"
   ]
  },
  {
   "cell_type": "code",
   "execution_count": null,
   "metadata": {
    "execution": {
     "iopub.execute_input": "2021-10-22T10:47:31.344794Z",
     "iopub.status.busy": "2021-10-22T10:47:31.344506Z",
     "iopub.status.idle": "2021-10-22T10:47:33.999076Z",
     "shell.execute_reply": "2021-10-22T10:47:33.998204Z",
     "shell.execute_reply.started": "2021-10-22T10:47:31.344761Z"
    }
   },
   "outputs": [],
   "source": [
    "user_item_matrix = pd.pivot_table(data_train, \n",
    "                                  index='user_id', columns='item_id', \n",
    "                                  values='quantity', \n",
    "                                  aggfunc='count', \n",
    "                                  fill_value=0 )\n",
    "\n",
    "user_item_matrix = user_item_matrix.astype(float) # необходимый тип матрицы для implicit\n",
    "\n",
    "sparse_user_item = csr_matrix(user_item_matrix).tocsr() # переведем в формат saprse matrix\n",
    "\n",
    "sparse_user_item"
   ]
  },
  {
   "cell_type": "code",
   "execution_count": null,
   "metadata": {
    "execution": {
     "iopub.execute_input": "2021-10-22T10:48:50.473629Z",
     "iopub.status.busy": "2021-10-22T10:48:50.473124Z",
     "iopub.status.idle": "2021-10-22T10:48:50.506549Z",
     "shell.execute_reply": "2021-10-22T10:48:50.505708Z",
     "shell.execute_reply.started": "2021-10-22T10:48:50.473593Z"
    }
   },
   "outputs": [],
   "source": [
    "user_item_matrix.head(5)"
   ]
  },
  {
   "cell_type": "code",
   "execution_count": null,
   "metadata": {
    "execution": {
     "iopub.execute_input": "2021-10-22T10:57:26.682678Z",
     "iopub.status.busy": "2021-10-22T10:57:26.681808Z",
     "iopub.status.idle": "2021-10-22T10:57:26.690045Z",
     "shell.execute_reply": "2021-10-22T10:57:26.689207Z",
     "shell.execute_reply.started": "2021-10-22T10:57:26.682638Z"
    }
   },
   "outputs": [],
   "source": [
    "userids = user_item_matrix.index.values\n",
    "itemids = user_item_matrix.columns.values\n",
    "\n",
    "matrix_userids = np.arange(len(userids))\n",
    "matrix_itemids = np.arange(len(itemids))\n",
    "\n",
    "id_to_itemid = dict(zip(matrix_itemids, itemids))\n",
    "id_to_userid = dict(zip(matrix_userids, userids))\n",
    "\n",
    "itemid_to_id = dict(zip(itemids, matrix_itemids))\n",
    "userid_to_id = dict(zip(userids, matrix_userids))"
   ]
  },
  {
   "cell_type": "code",
   "execution_count": null,
   "metadata": {
    "execution": {
     "iopub.execute_input": "2021-10-22T10:57:30.795354Z",
     "iopub.status.busy": "2021-10-22T10:57:30.795086Z",
     "iopub.status.idle": "2021-10-22T10:57:30.801559Z",
     "shell.execute_reply": "2021-10-22T10:57:30.800583Z",
     "shell.execute_reply.started": "2021-10-22T10:57:30.79532Z"
    }
   },
   "outputs": [],
   "source": [
    "matrix_userids,matrix_itemids"
   ]
  },
  {
   "cell_type": "code",
   "execution_count": null,
   "metadata": {
    "execution": {
     "iopub.execute_input": "2021-10-22T10:58:24.895167Z",
     "iopub.status.busy": "2021-10-22T10:58:24.89453Z",
     "iopub.status.idle": "2021-10-22T10:58:33.064208Z",
     "shell.execute_reply": "2021-10-22T10:58:33.062856Z",
     "shell.execute_reply.started": "2021-10-22T10:58:24.895127Z"
    }
   },
   "outputs": [],
   "source": [
    "model = AlternatingLeastSquares(factors=100, regularization=0.001, iterations=15, calculate_training_loss=True, num_threads=8) # K - кол-во билжайших соседей\n",
    "\n",
    "model.fit(csr_matrix(user_item_matrix).T.tocsr(),  # На вход item-user matrix\n",
    "          show_progress=True)\n"
   ]
  },
  {
   "cell_type": "code",
   "execution_count": null,
   "metadata": {
    "execution": {
     "iopub.execute_input": "2021-10-22T10:59:49.06234Z",
     "iopub.status.busy": "2021-10-22T10:59:49.062056Z",
     "iopub.status.idle": "2021-10-22T11:00:27.046578Z",
     "shell.execute_reply": "2021-10-22T11:00:27.045601Z",
     "shell.execute_reply.started": "2021-10-22T10:59:49.062311Z"
    }
   },
   "outputs": [],
   "source": [
    "result['count'] = result['user_id'].apply(lambda x: get_recommendations(x, model=model, N=5))"
   ]
  },
  {
   "cell_type": "code",
   "execution_count": null,
   "metadata": {
    "execution": {
     "iopub.execute_input": "2021-10-22T12:12:24.438085Z",
     "iopub.status.busy": "2021-10-22T12:12:24.437049Z",
     "iopub.status.idle": "2021-10-22T12:13:21.246299Z",
     "shell.execute_reply": "2021-10-22T12:13:21.245308Z",
     "shell.execute_reply.started": "2021-10-22T12:12:24.438029Z"
    }
   },
   "outputs": [],
   "source": [
    "user_item_matrix = pd.pivot_table(data_train, \n",
    "                                  index='user_id', columns='item_id', \n",
    "                                  values='quantity', \n",
    "                                  aggfunc='mean', \n",
    "                                  fill_value=0 )\n",
    "\n",
    "\n",
    "user_item_matrix = user_item_matrix.astype(float) # необходимый тип матрицы для implicit\n",
    "sparse_user_item = csr_matrix(user_item_matrix).tocsr() # переведем в формат saprse matrix\n",
    "\n",
    "userids = user_item_matrix.index.values\n",
    "itemids = user_item_matrix.columns.values\n",
    "\n",
    "matrix_userids = np.arange(len(userids))\n",
    "matrix_itemids = np.arange(len(itemids))\n",
    "\n",
    "id_to_itemid = dict(zip(matrix_itemids, itemids))\n",
    "id_to_userid = dict(zip(matrix_userids, userids))\n",
    "\n",
    "itemid_to_id = dict(zip(itemids, matrix_itemids))\n",
    "userid_to_id = dict(zip(userids, matrix_userids))\n",
    "\n",
    "model = AlternatingLeastSquares(factors=100, regularization=0.001, iterations=15, calculate_training_loss=True, num_threads=8) # K - кол-во билжайших соседей\n",
    "model.fit(csr_matrix(user_item_matrix).T.tocsr(),  # На вход item-user matrix\n",
    "          show_progress=True)\n",
    "\n",
    "result['mean'] = result['user_id'].apply(lambda x: get_recommendations(x, model=model, N=5))\n",
    "\n",
    "def get_recommendations(user, model, N=5):\n",
    "    result = [id_to_itemid[rec[0]] for rec in \n",
    "                    model.recommend(userid=userid_to_id[user], \n",
    "                                    user_items=sparse_user_item,   # на вход user-item matrix\n",
    "                                    N=N, \n",
    "                                    filter_already_liked_items=False, \n",
    "                                    filter_items=[itemid_to_id[999999]],\n",
    "                                    #filter_items=None, \n",
    "                                    recalculate_user=True)]\n",
    "    return result"
   ]
  },
  {
   "cell_type": "code",
   "execution_count": null,
   "metadata": {
    "execution": {
     "iopub.execute_input": "2021-10-22T12:13:31.468092Z",
     "iopub.status.busy": "2021-10-22T12:13:31.467465Z",
     "iopub.status.idle": "2021-10-22T12:13:31.49746Z",
     "shell.execute_reply": "2021-10-22T12:13:31.496503Z",
     "shell.execute_reply.started": "2021-10-22T12:13:31.468036Z"
    }
   },
   "outputs": [],
   "source": [
    "result"
   ]
  },
  {
   "cell_type": "code",
   "execution_count": null,
   "metadata": {
    "execution": {
     "iopub.execute_input": "2021-10-22T11:05:00.569581Z",
     "iopub.status.busy": "2021-10-22T11:05:00.569292Z",
     "iopub.status.idle": "2021-10-22T11:05:00.824572Z",
     "shell.execute_reply": "2021-10-22T11:05:00.82363Z",
     "shell.execute_reply.started": "2021-10-22T11:05:00.569551Z"
    }
   },
   "outputs": [],
   "source": [
    "df = pd.DataFrame(columns=['aggfunc', 'presision_at_k'])\n",
    "i = 0\n",
    "for column in result.columns[2:]:\n",
    "    presision = round(result.apply(lambda row: precision_at_k(row[column], row['actual']), axis=1).mean(), 5)\n",
    "    df.loc[i] = [column, presision]\n",
    "    i += 1\n",
    "\n",
    "df.sort_values(by='presision_at_k', ascending=False)"
   ]
  },
  {
   "cell_type": "code",
   "execution_count": 65,
   "metadata": {
    "execution": {
     "iopub.execute_input": "2021-10-22T19:41:45.184171Z",
     "iopub.status.busy": "2021-10-22T19:41:45.183473Z",
     "iopub.status.idle": "2021-10-22T19:41:45.193767Z",
     "shell.execute_reply": "2021-10-22T19:41:45.193212Z",
     "shell.execute_reply.started": "2021-10-22T19:41:45.184127Z"
    }
   },
   "outputs": [],
   "source": [
    "def matrix_weight_test(data, functioname):\n",
    "    global sparse_user_item\n",
    "    global userid_to_id\n",
    "    global itemid_to_id\n",
    "    global id_to_itemid\n",
    "    user_item_matrix = pd.pivot_table(data, \n",
    "                                  index='user_id', columns='item_id', \n",
    "                                  values='quantity', \n",
    "                                  aggfunc= functioname, \n",
    "                                  fill_value=0 )\n",
    "    \n",
    "    user_item_matrix = user_item_matrix.astype(float) \n",
    "    sparse_user_item = csr_matrix(user_item_matrix).tocsr()\n",
    "    \n",
    "    userids = user_item_matrix.index.values\n",
    "    itemids = user_item_matrix.columns.values\n",
    "    \n",
    "    matrix_userids = np.arange(len(userids))\n",
    "    matrix_itemids = np.arange(len(itemids))\n",
    "    \n",
    "    id_to_itemid = dict(zip(matrix_itemids, itemids))\n",
    "    id_to_userid = dict(zip(matrix_userids, userids))\n",
    "    \n",
    "    itemid_to_id = dict(zip(itemids, matrix_itemids))\n",
    "    userid_to_id = dict(zip(userids, matrix_userids))\n",
    "    \n",
    "    model = AlternatingLeastSquares(factors=100, \n",
    "                                    regularization=0.001,\n",
    "                                    iterations=10, \n",
    "                                    calculate_training_loss=True, \n",
    "                                    num_threads=0) \n",
    "    model.fit(csr_matrix(user_item_matrix).T.tocsr(), \n",
    "          show_progress=False)\n",
    "    result[functioname] = result['user_id'].apply(lambda x: get_recommendations(x, model=model, N=5))"
   ]
  },
  {
   "cell_type": "markdown",
   "metadata": {
    "id": "wk05OovH49cY"
   },
   "source": [
    "### Подбор матрицы $c_{ui}$\n",
    "Попробуйте различные варианты матрицы весов (3+ вариантов). Обучите алгоритм для различных $C$. В качестве результата приведите таблицу: матрица весов - результат на train и validation.\n",
    "Сделате качественные выводы.\n"
   ]
  },
  {
   "cell_type": "code",
   "execution_count": 66,
   "metadata": {
    "execution": {
     "iopub.execute_input": "2021-10-22T19:41:50.559231Z",
     "iopub.status.busy": "2021-10-22T19:41:50.558806Z"
    }
   },
   "outputs": [
    {
     "data": {
      "application/vnd.jupyter.widget-view+json": {
       "model_id": "a9a602e54b774144a147c0fa5ea25cf5",
       "version_major": 2,
       "version_minor": 0
      },
      "text/plain": [
       "  0%|          | 0/10 [00:00<?, ?it/s]"
      ]
     },
     "metadata": {},
     "output_type": "display_data"
    },
    {
     "data": {
      "application/vnd.jupyter.widget-view+json": {
       "model_id": "bc1c8b0951f4482ca34fa7dad974f955",
       "version_major": 2,
       "version_minor": 0
      },
      "text/plain": [
       "  0%|          | 0/10 [00:00<?, ?it/s]"
      ]
     },
     "metadata": {},
     "output_type": "display_data"
    },
    {
     "data": {
      "application/vnd.jupyter.widget-view+json": {
       "model_id": "be188f67488b4c329dfaed3b326326ec",
       "version_major": 2,
       "version_minor": 0
      },
      "text/plain": [
       "  0%|          | 0/10 [00:00<?, ?it/s]"
      ]
     },
     "metadata": {},
     "output_type": "display_data"
    },
    {
     "data": {
      "application/vnd.jupyter.widget-view+json": {
       "model_id": "2bc0aaabb8e747b9841952dd1d3b6fd8",
       "version_major": 2,
       "version_minor": 0
      },
      "text/plain": [
       "  0%|          | 0/10 [00:00<?, ?it/s]"
      ]
     },
     "metadata": {},
     "output_type": "display_data"
    },
    {
     "data": {
      "application/vnd.jupyter.widget-view+json": {
       "model_id": "036d7bc88dea478091771f9ca849e983",
       "version_major": 2,
       "version_minor": 0
      },
      "text/plain": [
       "  0%|          | 0/10 [00:00<?, ?it/s]"
      ]
     },
     "metadata": {},
     "output_type": "display_data"
    },
    {
     "name": "stdout",
     "output_type": "stream",
     "text": [
      "Wall time: 7min 16s\n"
     ]
    }
   ],
   "source": [
    "%%time\n",
    "list = ['mean','nunique','max','size','count']\n",
    "for aggfunc in list:\n",
    "    matrix_weight_test(data_train, aggfunc)"
   ]
  },
  {
   "cell_type": "code",
   "execution_count": null,
   "metadata": {},
   "outputs": [],
   "source": [
    "!set MKL_NUM_THREADS=1"
   ]
  },
  {
   "cell_type": "code",
   "execution_count": 67,
   "metadata": {
    "execution": {
     "iopub.execute_input": "2021-10-22T12:19:51.337793Z",
     "iopub.status.busy": "2021-10-22T12:19:51.336389Z",
     "iopub.status.idle": "2021-10-22T12:19:52.029854Z",
     "shell.execute_reply": "2021-10-22T12:19:52.028876Z",
     "shell.execute_reply.started": "2021-10-22T12:19:51.337746Z"
    }
   },
   "outputs": [
    {
     "data": {
      "text/html": [
       "<div>\n",
       "<style scoped>\n",
       "    .dataframe tbody tr th:only-of-type {\n",
       "        vertical-align: middle;\n",
       "    }\n",
       "\n",
       "    .dataframe tbody tr th {\n",
       "        vertical-align: top;\n",
       "    }\n",
       "\n",
       "    .dataframe thead th {\n",
       "        text-align: right;\n",
       "    }\n",
       "</style>\n",
       "<table border=\"1\" class=\"dataframe\">\n",
       "  <thead>\n",
       "    <tr style=\"text-align: right;\">\n",
       "      <th></th>\n",
       "      <th>aggfunc</th>\n",
       "      <th>presision_at_k</th>\n",
       "    </tr>\n",
       "  </thead>\n",
       "  <tbody>\n",
       "    <tr>\n",
       "      <th>1</th>\n",
       "      <td>nunique</td>\n",
       "      <td>0.20411</td>\n",
       "    </tr>\n",
       "    <tr>\n",
       "      <th>0</th>\n",
       "      <td>mean</td>\n",
       "      <td>0.19119</td>\n",
       "    </tr>\n",
       "    <tr>\n",
       "      <th>2</th>\n",
       "      <td>max</td>\n",
       "      <td>0.18854</td>\n",
       "    </tr>\n",
       "    <tr>\n",
       "      <th>3</th>\n",
       "      <td>size</td>\n",
       "      <td>0.18071</td>\n",
       "    </tr>\n",
       "    <tr>\n",
       "      <th>4</th>\n",
       "      <td>count</td>\n",
       "      <td>0.17591</td>\n",
       "    </tr>\n",
       "  </tbody>\n",
       "</table>\n",
       "</div>"
      ],
      "text/plain": [
       "   aggfunc  presision_at_k\n",
       "1  nunique         0.20411\n",
       "0     mean         0.19119\n",
       "2      max         0.18854\n",
       "3     size         0.18071\n",
       "4    count         0.17591"
      ]
     },
     "execution_count": 67,
     "metadata": {},
     "output_type": "execute_result"
    }
   ],
   "source": [
    "df = pd.DataFrame(columns=['aggfunc', 'presision_at_k'])\n",
    "i = 0\n",
    "for column in result.columns[2:]:\n",
    "    presision = round(result.apply(lambda row: precision_at_k(row[column], row['actual']), axis=1).mean(), 5)\n",
    "    df.loc[i] = [column, presision]\n",
    "    i += 1\n",
    "\n",
    "df.sort_values(by='presision_at_k', ascending=False)"
   ]
  },
  {
   "cell_type": "markdown",
   "metadata": {},
   "source": [
    "Наилучший результат у **nunique** "
   ]
  },
  {
   "cell_type": "markdown",
   "metadata": {
    "id": "PHer9wto49cZ"
   },
   "source": [
    "### Оптимизация гипперпараметров\n",
    "Для лучшей матрицы весов из первого задания подберите оптимальные $\\lambda$ и n_factors. Подбор можно делать вручную (цикл в цикле, аналог sklearn.GridSearch, или случайно - sklearn.RandomSearch). Или Вы можете воспользоваться библиотеками для автоматического подбора гипперпараметров (любые на Ваш вкус). В качестве результата постройте графики:\n",
    "1. Значение параметра - время обучения \n",
    "2. Значение параметра - качество train, качество validation  \n",
    "\n",
    "Сделайте качественные выводы"
   ]
  },
  {
   "cell_type": "code",
   "execution_count": 71,
   "metadata": {
    "execution": {
     "iopub.execute_input": "2021-10-22T12:29:12.486521Z",
     "iopub.status.busy": "2021-10-22T12:29:12.484993Z",
     "iopub.status.idle": "2021-10-22T12:29:16.219355Z",
     "shell.execute_reply": "2021-10-22T12:29:16.218384Z",
     "shell.execute_reply.started": "2021-10-22T12:29:12.486455Z"
    }
   },
   "outputs": [],
   "source": [
    "user_item_matrix = pd.pivot_table(data_train, \n",
    "                              index='user_id', columns='item_id', \n",
    "                              values='quantity', \n",
    "                              aggfunc='nunique', # Лучший параметр \n",
    "                              fill_value=0\n",
    "                             )\n",
    "user_item_matrix = user_item_matrix.astype(float) \n",
    "sparse_user_item = csr_matrix(user_item_matrix).tocsr()\n",
    "userids = user_item_matrix.index.values\n",
    "itemids = user_item_matrix.columns.values\n",
    "matrix_userids = np.arange(len(userids))\n",
    "matrix_itemids = np.arange(len(itemids))\n",
    "id_to_itemid = dict(zip(matrix_itemids, itemids))\n",
    "id_to_userid = dict(zip(matrix_userids, userids))\n",
    "itemid_to_id = dict(zip(itemids, matrix_itemids))\n",
    "userid_to_id = dict(zip(userids, matrix_userids))"
   ]
  },
  {
   "cell_type": "code",
   "execution_count": 72,
   "metadata": {
    "execution": {
     "iopub.execute_input": "2021-10-22T12:46:29.850235Z",
     "iopub.status.busy": "2021-10-22T12:46:29.849842Z",
     "iopub.status.idle": "2021-10-22T12:46:30.121539Z",
     "shell.execute_reply": "2021-10-22T12:46:30.120575Z",
     "shell.execute_reply.started": "2021-10-22T12:46:29.850176Z"
    }
   },
   "outputs": [],
   "source": [
    "valid = data_train.groupby('user_id')['item_id'].unique().reset_index()\n",
    "valid.columns=['user_id', 'actual']"
   ]
  },
  {
   "cell_type": "code",
   "execution_count": 74,
   "metadata": {
    "execution": {
     "iopub.execute_input": "2021-10-22T12:46:33.032025Z",
     "iopub.status.busy": "2021-10-22T12:46:33.030689Z",
     "iopub.status.idle": "2021-10-22T13:54:18.352405Z",
     "shell.execute_reply": "2021-10-22T13:54:18.351443Z",
     "shell.execute_reply.started": "2021-10-22T12:46:33.031961Z"
    }
   },
   "outputs": [
    {
     "name": "stdout",
     "output_type": "stream",
     "text": [
      "Wall time: 42min 48s\n"
     ]
    }
   ],
   "source": [
    "%%time\n",
    "\n",
    "result_k_valid = dict()\n",
    "n=1\n",
    "\n",
    "for factors in range(20,220,40):\n",
    "    for regularization in np.geomspace(0.0001,0.1,4):\n",
    "\n",
    "        model = AlternatingLeastSquares(factors=int(factors), \n",
    "                                        regularization=regularization,\n",
    "                                        iterations=8, \n",
    "                                        calculate_training_loss=True, \n",
    "                                        num_threads=0)\n",
    "\n",
    "        model.fit(csr_matrix(user_item_matrix).T.tocsr(),show_progress=False)\n",
    "        \n",
    "        # train data\n",
    "        result[f'fs={factors}_rg={regularization}'] = result['user_id'].apply(lambda x: get_recommendations(x, model=model, N=5))\n",
    "\n",
    "        k = result.apply(lambda row: precision_at_k(row[f'fs={factors}_rg={regularization}'], row['actual']), axis=1).mean()\n",
    "        # test data\n",
    "        valid[f'fs={factors}_rg={regularization}'] = valid['user_id'].apply(lambda x: get_recommendations(x, model=model, N=5))\n",
    "\n",
    "        k_valid = valid.apply(lambda row: precision_at_k(row[f'fs={factors}_rg={regularization}'],row['actual']), axis=1).mean()\n",
    "        \n",
    "        result_k_valid[n] = [factors, regularization, k, k_valid]\n",
    "        n+=1"
   ]
  },
  {
   "cell_type": "code",
   "execution_count": 75,
   "metadata": {
    "execution": {
     "iopub.execute_input": "2021-10-22T13:54:18.713086Z",
     "iopub.status.busy": "2021-10-22T13:54:18.712808Z",
     "iopub.status.idle": "2021-10-22T13:54:18.728587Z",
     "shell.execute_reply": "2021-10-22T13:54:18.727902Z",
     "shell.execute_reply.started": "2021-10-22T13:54:18.713057Z"
    }
   },
   "outputs": [
    {
     "data": {
      "text/html": [
       "<div>\n",
       "<style scoped>\n",
       "    .dataframe tbody tr th:only-of-type {\n",
       "        vertical-align: middle;\n",
       "    }\n",
       "\n",
       "    .dataframe tbody tr th {\n",
       "        vertical-align: top;\n",
       "    }\n",
       "\n",
       "    .dataframe thead th {\n",
       "        text-align: right;\n",
       "    }\n",
       "</style>\n",
       "<table border=\"1\" class=\"dataframe\">\n",
       "  <thead>\n",
       "    <tr style=\"text-align: right;\">\n",
       "      <th></th>\n",
       "      <th>factors</th>\n",
       "      <th>regularization</th>\n",
       "      <th>train_precision_at_k</th>\n",
       "      <th>valid_precision_at_k</th>\n",
       "    </tr>\n",
       "  </thead>\n",
       "  <tbody>\n",
       "    <tr>\n",
       "      <th>18</th>\n",
       "      <td>180</td>\n",
       "      <td>0.0010</td>\n",
       "      <td>0.178648</td>\n",
       "      <td>0.948219</td>\n",
       "    </tr>\n",
       "    <tr>\n",
       "      <th>17</th>\n",
       "      <td>180</td>\n",
       "      <td>0.0001</td>\n",
       "      <td>0.178355</td>\n",
       "      <td>0.947899</td>\n",
       "    </tr>\n",
       "    <tr>\n",
       "      <th>19</th>\n",
       "      <td>180</td>\n",
       "      <td>0.0100</td>\n",
       "      <td>0.182566</td>\n",
       "      <td>0.945418</td>\n",
       "    </tr>\n",
       "    <tr>\n",
       "      <th>20</th>\n",
       "      <td>180</td>\n",
       "      <td>0.1000</td>\n",
       "      <td>0.178648</td>\n",
       "      <td>0.943577</td>\n",
       "    </tr>\n",
       "    <tr>\n",
       "      <th>14</th>\n",
       "      <td>140</td>\n",
       "      <td>0.0010</td>\n",
       "      <td>0.191969</td>\n",
       "      <td>0.930132</td>\n",
       "    </tr>\n",
       "    <tr>\n",
       "      <th>13</th>\n",
       "      <td>140</td>\n",
       "      <td>0.0001</td>\n",
       "      <td>0.187071</td>\n",
       "      <td>0.928211</td>\n",
       "    </tr>\n",
       "    <tr>\n",
       "      <th>15</th>\n",
       "      <td>140</td>\n",
       "      <td>0.0100</td>\n",
       "      <td>0.192458</td>\n",
       "      <td>0.924290</td>\n",
       "    </tr>\n",
       "    <tr>\n",
       "      <th>16</th>\n",
       "      <td>140</td>\n",
       "      <td>0.1000</td>\n",
       "      <td>0.193732</td>\n",
       "      <td>0.921569</td>\n",
       "    </tr>\n",
       "    <tr>\n",
       "      <th>10</th>\n",
       "      <td>100</td>\n",
       "      <td>0.0010</td>\n",
       "      <td>0.205191</td>\n",
       "      <td>0.896999</td>\n",
       "    </tr>\n",
       "    <tr>\n",
       "      <th>11</th>\n",
       "      <td>100</td>\n",
       "      <td>0.0100</td>\n",
       "      <td>0.201861</td>\n",
       "      <td>0.894038</td>\n",
       "    </tr>\n",
       "  </tbody>\n",
       "</table>\n",
       "</div>"
      ],
      "text/plain": [
       "    factors  regularization  train_precision_at_k  valid_precision_at_k\n",
       "18      180          0.0010              0.178648              0.948219\n",
       "17      180          0.0001              0.178355              0.947899\n",
       "19      180          0.0100              0.182566              0.945418\n",
       "20      180          0.1000              0.178648              0.943577\n",
       "14      140          0.0010              0.191969              0.930132\n",
       "13      140          0.0001              0.187071              0.928211\n",
       "15      140          0.0100              0.192458              0.924290\n",
       "16      140          0.1000              0.193732              0.921569\n",
       "10      100          0.0010              0.205191              0.896999\n",
       "11      100          0.0100              0.201861              0.894038"
      ]
     },
     "execution_count": 75,
     "metadata": {},
     "output_type": "execute_result"
    }
   ],
   "source": [
    "summary = pd.DataFrame.from_dict(result_k_valid,orient='index',columns=['factors', 'regularization',\"train_precision_at_k\", \"valid_precision_at_k\"])\n",
    "summary[['factors', 'regularization',\"train_precision_at_k\", \"valid_precision_at_k\"]].sort_values(by='valid_precision_at_k', ascending=False).head(10)"
   ]
  },
  {
   "cell_type": "code",
   "execution_count": 21,
   "metadata": {
    "execution": {
     "iopub.execute_input": "2021-10-22T19:27:01.150914Z",
     "iopub.status.busy": "2021-10-22T19:27:01.150592Z",
     "iopub.status.idle": "2021-10-22T19:27:01.228458Z",
     "shell.execute_reply": "2021-10-22T19:27:01.227278Z",
     "shell.execute_reply.started": "2021-10-22T19:27:01.150881Z"
    }
   },
   "outputs": [],
   "source": [
    "#compression_opts = dict(method='zip', archive_name='out.csv')  \n",
    "summary.to_csv('out.csv', index=False)  "
   ]
  },
  {
   "cell_type": "markdown",
   "metadata": {
    "id": "sKevvD1349cb"
   },
   "source": [
    "Слишком высокий precision_at_k на тестовых данных. Может правильнее считать наоборот **precision_at_k**(row['actual'],row[f'fs={factors}_rg={regularization}']):"
   ]
  },
  {
   "cell_type": "code",
   "execution_count": 91,
   "metadata": {},
   "outputs": [
    {
     "data": {
      "text/plain": [
       "0.06017740429505144"
      ]
     },
     "execution_count": 91,
     "metadata": {},
     "output_type": "execute_result"
    }
   ],
   "source": [
    "valid.apply(lambda row: precision_at_k(row['actual'],row['fs=180_rg=0.0001']), axis=1).mean()"
   ]
  },
  {
   "cell_type": "code",
   "execution_count": null,
   "metadata": {},
   "outputs": [],
   "source": []
  }
 ],
 "metadata": {
  "kernelspec": {
   "display_name": "Python 3 (ipykernel)",
   "language": "python",
   "name": "python3"
  },
  "language_info": {
   "codemirror_mode": {
    "name": "ipython",
    "version": 3
   },
   "file_extension": ".py",
   "mimetype": "text/x-python",
   "name": "python",
   "nbconvert_exporter": "python",
   "pygments_lexer": "ipython3",
   "version": "3.8.11"
  }
 },
 "nbformat": 4,
 "nbformat_minor": 4
}
