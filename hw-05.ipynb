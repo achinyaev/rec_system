{
 "cells": [
  {
   "cell_type": "markdown",
   "metadata": {},
   "source": [
    "### Домашнее задание №5 ###\n",
    "<ol>\n",
    "<li>Ответьте на вопросы:\n",
    "В чем принципиальное отличие гибридных рекомендательных систем от коллаборативной филтьтрации?\n",
    "\n",
    "Приведите 2-3 примера задач, в которых необходимо использовать гибридные системы\n",
    "\n",
    "<li>Прочитайте статью про поиск на hh.ru https://habr.com/ru/company/hh/blog/347276/ Нам интересна именно рекомендательная система, раздел \"Производительность системы\" можно пропустить Какие основные отличия предложенной системы от тех подходов, которые мы разбирали на семинарах? Какие проблемы могут возникнуть при выводе такой модели в продакшен?\n",
    "\n",
    "<li>На вебинаре мы рассматривали модель LightFM (https://making.lyst.com/lightfm/docs/lightfm.html). В работе Data Scientist'а важную часть заниет research - исследование существующих архитектур и разбор научных статей, в которых они описываются. Вам предлагается изчуть оригинальную статью про LightFM https://arxiv.org/pdf/1507.08439.pdf и ответить на следующие вопросы:\n",
    "\n",
    "<ol>\n",
    "<li>Какой датасет используют авторы?\n",
    "<li>Что используют в качестве признаков?\n",
    "<li>С какими моделями сравнивают LightFM? Опишите их основные идеи кратко\n",
    "</ol></ol>"
   ]
  },
  {
   "cell_type": "markdown",
   "metadata": {},
   "source": [
    "## Практическая часть ##"
   ]
  },
  {
   "cell_type": "markdown",
   "metadata": {},
   "source": [
    "### 1. Модуль SRC"
   ]
  },
  {
   "cell_type": "code",
   "execution_count": 1,
   "metadata": {
    "_cell_guid": "b1076dfc-b9ad-4769-8c92-a6c4dae69d19",
    "_uuid": "8f2839f25d086af736a60e9eeb907d3b93b6e0e5",
    "execution": {
     "iopub.execute_input": "2021-10-26T14:53:25.753188Z",
     "iopub.status.busy": "2021-10-26T14:53:25.752358Z",
     "iopub.status.idle": "2021-10-26T14:53:26.159387Z",
     "shell.execute_reply": "2021-10-26T14:53:26.158594Z",
     "shell.execute_reply.started": "2021-10-26T14:53:25.753035Z"
    }
   },
   "outputs": [
    {
     "name": "stdout",
     "output_type": "stream",
     "text": [
      "module path = C:\\Users\\User\\edu\\git_works\n",
      "module path = ['C:\\\\Users\\\\User\\\\edu\\\\git_works\\\\rec_system', 'C:\\\\Users\\\\User\\\\anaconda3\\\\python38.zip', 'C:\\\\Users\\\\User\\\\anaconda3\\\\DLLs', 'C:\\\\Users\\\\User\\\\anaconda3\\\\lib', 'C:\\\\Users\\\\User\\\\anaconda3', '', 'C:\\\\Users\\\\User\\\\anaconda3\\\\lib\\\\site-packages', 'C:\\\\Users\\\\User\\\\anaconda3\\\\lib\\\\site-packages\\\\locket-0.2.1-py3.8.egg', 'C:\\\\Users\\\\User\\\\anaconda3\\\\lib\\\\site-packages\\\\win32', 'C:\\\\Users\\\\User\\\\anaconda3\\\\lib\\\\site-packages\\\\win32\\\\lib', 'C:\\\\Users\\\\User\\\\anaconda3\\\\lib\\\\site-packages\\\\Pythonwin', 'C:\\\\Users\\\\User\\\\anaconda3\\\\lib\\\\site-packages\\\\IPython\\\\extensions', 'C:\\\\Users\\\\User\\\\.ipython', 'C:\\\\Users\\\\User\\\\edu\\\\git_works']\n"
     ]
    }
   ],
   "source": [
    "# This Python 3 environment comes with many helpful analytics libraries installed\n",
    "# It is defined by the kaggle/python Docker image: https://github.com/kaggle/docker-python\n",
    "# For example, here's several helpful packages to load\n",
    "\n",
    "import numpy as np # linear algebra\n",
    "import pandas as pd # data processing, CSV file I/O (e.g. pd.read_csv)\n",
    "\n",
    "import os,sys\n",
    "\n",
    "\n",
    "module_path = os.path.abspath(os.path.join(os.pardir))\n",
    "print(f'module path = {module_path}')\n",
    "if module_path not in sys.path:\n",
    "    sys.path.append(module_path)\n",
    "\n",
    "print(f'module path = {sys.path}')\n",
    "\n",
    "import warnings\n",
    "warnings.filterwarnings('ignore')\n",
    "\n",
    "from scipy.sparse import csr_matrix, coo_matrix    \n",
    "from src.metrics import precision_at_k, recall_at_k\n",
    "from src.recommenders import MainRecommender\n",
    "from src.utils import prefilter_items\n",
    "import lightfm.evaluation\n",
    "import seaborn as sns\n",
    "\n"
   ]
  },
  {
   "cell_type": "code",
   "execution_count": 4,
   "metadata": {
    "execution": {
     "iopub.execute_input": "2021-10-26T14:53:26.161516Z",
     "iopub.status.busy": "2021-10-26T14:53:26.161106Z",
     "iopub.status.idle": "2021-10-26T14:53:30.733538Z",
     "shell.execute_reply": "2021-10-26T14:53:30.732554Z",
     "shell.execute_reply.started": "2021-10-26T14:53:26.161478Z"
    }
   },
   "outputs": [],
   "source": [
    "data = pd.read_csv('../rec_data/transaction_data.csv')\n",
    "item_features = pd.read_csv('../rec_data/product.csv')\n",
    "user_features = pd.read_csv('../rec_data/hh_demographic.csv')"
   ]
  },
  {
   "cell_type": "code",
   "execution_count": 5,
   "metadata": {
    "execution": {
     "iopub.execute_input": "2021-10-26T15:05:36.731962Z",
     "iopub.status.busy": "2021-10-26T15:05:36.731047Z",
     "iopub.status.idle": "2021-10-26T15:05:37.193152Z",
     "shell.execute_reply": "2021-10-26T15:05:37.192304Z",
     "shell.execute_reply.started": "2021-10-26T15:05:36.731903Z"
    }
   },
   "outputs": [
    {
     "data": {
      "text/html": [
       "<style type=\"text/css\">\n",
       "</style>\n",
       "<table id=\"T_9eba2_\">\n",
       "  <thead>\n",
       "    <tr>\n",
       "      <th class=\"blank level0\" >&nbsp;</th>\n",
       "      <th class=\"col_heading level0 col0\" >household_key</th>\n",
       "      <th class=\"col_heading level0 col1\" >BASKET_ID</th>\n",
       "      <th class=\"col_heading level0 col2\" >DAY</th>\n",
       "      <th class=\"col_heading level0 col3\" >PRODUCT_ID</th>\n",
       "      <th class=\"col_heading level0 col4\" >QUANTITY</th>\n",
       "      <th class=\"col_heading level0 col5\" >SALES_VALUE</th>\n",
       "      <th class=\"col_heading level0 col6\" >STORE_ID</th>\n",
       "      <th class=\"col_heading level0 col7\" >RETAIL_DISC</th>\n",
       "      <th class=\"col_heading level0 col8\" >TRANS_TIME</th>\n",
       "      <th class=\"col_heading level0 col9\" >WEEK_NO</th>\n",
       "      <th class=\"col_heading level0 col10\" >COUPON_DISC</th>\n",
       "      <th class=\"col_heading level0 col11\" >COUPON_MATCH_DISC</th>\n",
       "    </tr>\n",
       "  </thead>\n",
       "  <tbody>\n",
       "    <tr>\n",
       "      <th id=\"T_9eba2_level0_row0\" class=\"row_heading level0 row0\" >count</th>\n",
       "      <td id=\"T_9eba2_row0_col0\" class=\"data row0 col0\" >2595732</td>\n",
       "      <td id=\"T_9eba2_row0_col1\" class=\"data row0 col1\" >2595732</td>\n",
       "      <td id=\"T_9eba2_row0_col2\" class=\"data row0 col2\" >2595732</td>\n",
       "      <td id=\"T_9eba2_row0_col3\" class=\"data row0 col3\" >2595732</td>\n",
       "      <td id=\"T_9eba2_row0_col4\" class=\"data row0 col4\" >2595732</td>\n",
       "      <td id=\"T_9eba2_row0_col5\" class=\"data row0 col5\" >2595732</td>\n",
       "      <td id=\"T_9eba2_row0_col6\" class=\"data row0 col6\" >2595732</td>\n",
       "      <td id=\"T_9eba2_row0_col7\" class=\"data row0 col7\" >2595732</td>\n",
       "      <td id=\"T_9eba2_row0_col8\" class=\"data row0 col8\" >2595732</td>\n",
       "      <td id=\"T_9eba2_row0_col9\" class=\"data row0 col9\" >2595732</td>\n",
       "      <td id=\"T_9eba2_row0_col10\" class=\"data row0 col10\" >2595732</td>\n",
       "      <td id=\"T_9eba2_row0_col11\" class=\"data row0 col11\" >2595732</td>\n",
       "    </tr>\n",
       "    <tr>\n",
       "      <th id=\"T_9eba2_level0_row1\" class=\"row_heading level0 row1\" >mean</th>\n",
       "      <td id=\"T_9eba2_row1_col0\" class=\"data row1 col0\" >1272</td>\n",
       "      <td id=\"T_9eba2_row1_col1\" class=\"data row1 col1\" >34026199139</td>\n",
       "      <td id=\"T_9eba2_row1_col2\" class=\"data row1 col2\" >389</td>\n",
       "      <td id=\"T_9eba2_row1_col3\" class=\"data row1 col3\" >2891435</td>\n",
       "      <td id=\"T_9eba2_row1_col4\" class=\"data row1 col4\" >100</td>\n",
       "      <td id=\"T_9eba2_row1_col5\" class=\"data row1 col5\" >3</td>\n",
       "      <td id=\"T_9eba2_row1_col6\" class=\"data row1 col6\" >3143</td>\n",
       "      <td id=\"T_9eba2_row1_col7\" class=\"data row1 col7\" >-1</td>\n",
       "      <td id=\"T_9eba2_row1_col8\" class=\"data row1 col8\" >1562</td>\n",
       "      <td id=\"T_9eba2_row1_col9\" class=\"data row1 col9\" >56</td>\n",
       "      <td id=\"T_9eba2_row1_col10\" class=\"data row1 col10\" >-0</td>\n",
       "      <td id=\"T_9eba2_row1_col11\" class=\"data row1 col11\" >-0</td>\n",
       "    </tr>\n",
       "    <tr>\n",
       "      <th id=\"T_9eba2_level0_row2\" class=\"row_heading level0 row2\" >std</th>\n",
       "      <td id=\"T_9eba2_row2_col0\" class=\"data row2 col0\" >726</td>\n",
       "      <td id=\"T_9eba2_row2_col1\" class=\"data row2 col1\" >4711649038</td>\n",
       "      <td id=\"T_9eba2_row2_col2\" class=\"data row2 col2\" >190</td>\n",
       "      <td id=\"T_9eba2_row2_col3\" class=\"data row2 col3\" >3837404</td>\n",
       "      <td id=\"T_9eba2_row2_col4\" class=\"data row2 col4\" >1153</td>\n",
       "      <td id=\"T_9eba2_row2_col5\" class=\"data row2 col5\" >4</td>\n",
       "      <td id=\"T_9eba2_row2_col6\" class=\"data row2 col6\" >8937</td>\n",
       "      <td id=\"T_9eba2_row2_col7\" class=\"data row2 col7\" >1</td>\n",
       "      <td id=\"T_9eba2_row2_col8\" class=\"data row2 col8\" >400</td>\n",
       "      <td id=\"T_9eba2_row2_col9\" class=\"data row2 col9\" >27</td>\n",
       "      <td id=\"T_9eba2_row2_col10\" class=\"data row2 col10\" >0</td>\n",
       "      <td id=\"T_9eba2_row2_col11\" class=\"data row2 col11\" >0</td>\n",
       "    </tr>\n",
       "    <tr>\n",
       "      <th id=\"T_9eba2_level0_row3\" class=\"row_heading level0 row3\" >min</th>\n",
       "      <td id=\"T_9eba2_row3_col0\" class=\"data row3 col0\" >1</td>\n",
       "      <td id=\"T_9eba2_row3_col1\" class=\"data row3 col1\" >26984851472</td>\n",
       "      <td id=\"T_9eba2_row3_col2\" class=\"data row3 col2\" >1</td>\n",
       "      <td id=\"T_9eba2_row3_col3\" class=\"data row3 col3\" >25671</td>\n",
       "      <td id=\"T_9eba2_row3_col4\" class=\"data row3 col4\" >0</td>\n",
       "      <td id=\"T_9eba2_row3_col5\" class=\"data row3 col5\" >0</td>\n",
       "      <td id=\"T_9eba2_row3_col6\" class=\"data row3 col6\" >1</td>\n",
       "      <td id=\"T_9eba2_row3_col7\" class=\"data row3 col7\" >-180</td>\n",
       "      <td id=\"T_9eba2_row3_col8\" class=\"data row3 col8\" >0</td>\n",
       "      <td id=\"T_9eba2_row3_col9\" class=\"data row3 col9\" >1</td>\n",
       "      <td id=\"T_9eba2_row3_col10\" class=\"data row3 col10\" >-56</td>\n",
       "      <td id=\"T_9eba2_row3_col11\" class=\"data row3 col11\" >-8</td>\n",
       "    </tr>\n",
       "    <tr>\n",
       "      <th id=\"T_9eba2_level0_row4\" class=\"row_heading level0 row4\" >25%</th>\n",
       "      <td id=\"T_9eba2_row4_col0\" class=\"data row4 col0\" >656</td>\n",
       "      <td id=\"T_9eba2_row4_col1\" class=\"data row4 col1\" >30408046256</td>\n",
       "      <td id=\"T_9eba2_row4_col2\" class=\"data row4 col2\" >229</td>\n",
       "      <td id=\"T_9eba2_row4_col3\" class=\"data row4 col3\" >917459</td>\n",
       "      <td id=\"T_9eba2_row4_col4\" class=\"data row4 col4\" >1</td>\n",
       "      <td id=\"T_9eba2_row4_col5\" class=\"data row4 col5\" >1</td>\n",
       "      <td id=\"T_9eba2_row4_col6\" class=\"data row4 col6\" >330</td>\n",
       "      <td id=\"T_9eba2_row4_col7\" class=\"data row4 col7\" >-1</td>\n",
       "      <td id=\"T_9eba2_row4_col8\" class=\"data row4 col8\" >1308</td>\n",
       "      <td id=\"T_9eba2_row4_col9\" class=\"data row4 col9\" >33</td>\n",
       "      <td id=\"T_9eba2_row4_col10\" class=\"data row4 col10\" >0</td>\n",
       "      <td id=\"T_9eba2_row4_col11\" class=\"data row4 col11\" >0</td>\n",
       "    </tr>\n",
       "    <tr>\n",
       "      <th id=\"T_9eba2_level0_row5\" class=\"row_heading level0 row5\" >50%</th>\n",
       "      <td id=\"T_9eba2_row5_col0\" class=\"data row5 col0\" >1272</td>\n",
       "      <td id=\"T_9eba2_row5_col1\" class=\"data row5 col1\" >32760806548</td>\n",
       "      <td id=\"T_9eba2_row5_col2\" class=\"data row5 col2\" >390</td>\n",
       "      <td id=\"T_9eba2_row5_col3\" class=\"data row5 col3\" >1028816</td>\n",
       "      <td id=\"T_9eba2_row5_col4\" class=\"data row5 col4\" >1</td>\n",
       "      <td id=\"T_9eba2_row5_col5\" class=\"data row5 col5\" >2</td>\n",
       "      <td id=\"T_9eba2_row5_col6\" class=\"data row5 col6\" >372</td>\n",
       "      <td id=\"T_9eba2_row5_col7\" class=\"data row5 col7\" >-0</td>\n",
       "      <td id=\"T_9eba2_row5_col8\" class=\"data row5 col8\" >1613</td>\n",
       "      <td id=\"T_9eba2_row5_col9\" class=\"data row5 col9\" >56</td>\n",
       "      <td id=\"T_9eba2_row5_col10\" class=\"data row5 col10\" >0</td>\n",
       "      <td id=\"T_9eba2_row5_col11\" class=\"data row5 col11\" >0</td>\n",
       "    </tr>\n",
       "    <tr>\n",
       "      <th id=\"T_9eba2_level0_row6\" class=\"row_heading level0 row6\" >75%</th>\n",
       "      <td id=\"T_9eba2_row6_col0\" class=\"data row6 col0\" >1913</td>\n",
       "      <td id=\"T_9eba2_row6_col1\" class=\"data row6 col1\" >40126853628</td>\n",
       "      <td id=\"T_9eba2_row6_col2\" class=\"data row6 col2\" >553</td>\n",
       "      <td id=\"T_9eba2_row6_col3\" class=\"data row6 col3\" >1133018</td>\n",
       "      <td id=\"T_9eba2_row6_col4\" class=\"data row6 col4\" >1</td>\n",
       "      <td id=\"T_9eba2_row6_col5\" class=\"data row6 col5\" >3</td>\n",
       "      <td id=\"T_9eba2_row6_col6\" class=\"data row6 col6\" >422</td>\n",
       "      <td id=\"T_9eba2_row6_col7\" class=\"data row6 col7\" >0</td>\n",
       "      <td id=\"T_9eba2_row6_col8\" class=\"data row6 col8\" >1843</td>\n",
       "      <td id=\"T_9eba2_row6_col9\" class=\"data row6 col9\" >80</td>\n",
       "      <td id=\"T_9eba2_row6_col10\" class=\"data row6 col10\" >0</td>\n",
       "      <td id=\"T_9eba2_row6_col11\" class=\"data row6 col11\" >0</td>\n",
       "    </tr>\n",
       "    <tr>\n",
       "      <th id=\"T_9eba2_level0_row7\" class=\"row_heading level0 row7\" >max</th>\n",
       "      <td id=\"T_9eba2_row7_col0\" class=\"data row7 col0\" >2500</td>\n",
       "      <td id=\"T_9eba2_row7_col1\" class=\"data row7 col1\" >42305362535</td>\n",
       "      <td id=\"T_9eba2_row7_col2\" class=\"data row7 col2\" >711</td>\n",
       "      <td id=\"T_9eba2_row7_col3\" class=\"data row7 col3\" >18316298</td>\n",
       "      <td id=\"T_9eba2_row7_col4\" class=\"data row7 col4\" >89638</td>\n",
       "      <td id=\"T_9eba2_row7_col5\" class=\"data row7 col5\" >840</td>\n",
       "      <td id=\"T_9eba2_row7_col6\" class=\"data row7 col6\" >34280</td>\n",
       "      <td id=\"T_9eba2_row7_col7\" class=\"data row7 col7\" >4</td>\n",
       "      <td id=\"T_9eba2_row7_col8\" class=\"data row7 col8\" >2359</td>\n",
       "      <td id=\"T_9eba2_row7_col9\" class=\"data row7 col9\" >102</td>\n",
       "      <td id=\"T_9eba2_row7_col10\" class=\"data row7 col10\" >0</td>\n",
       "      <td id=\"T_9eba2_row7_col11\" class=\"data row7 col11\" >0</td>\n",
       "    </tr>\n",
       "  </tbody>\n",
       "</table>\n"
      ],
      "text/plain": [
       "<pandas.io.formats.style.Styler at 0x23bb5310e80>"
      ]
     },
     "execution_count": 5,
     "metadata": {},
     "output_type": "execute_result"
    }
   ],
   "source": [
    "data.describe().style.set_precision(0)"
   ]
  },
  {
   "cell_type": "code",
   "execution_count": 11,
   "metadata": {
    "execution": {
     "iopub.execute_input": "2021-10-26T14:53:31.741464Z",
     "iopub.status.busy": "2021-10-26T14:53:31.741216Z",
     "iopub.status.idle": "2021-10-26T14:53:31.758336Z",
     "shell.execute_reply": "2021-10-26T14:53:31.757412Z",
     "shell.execute_reply.started": "2021-10-26T14:53:31.741434Z"
    }
   },
   "outputs": [
    {
     "name": "stdout",
     "output_type": "stream",
     "text": [
      "<class 'pandas.core.frame.DataFrame'>\n",
      "RangeIndex: 2595732 entries, 0 to 2595731\n",
      "Data columns (total 12 columns):\n",
      " #   Column             Dtype  \n",
      "---  ------             -----  \n",
      " 0   household_key      int64  \n",
      " 1   BASKET_ID          int64  \n",
      " 2   DAY                int64  \n",
      " 3   PRODUCT_ID         int64  \n",
      " 4   QUANTITY           int64  \n",
      " 5   SALES_VALUE        float64\n",
      " 6   STORE_ID           int64  \n",
      " 7   RETAIL_DISC        float64\n",
      " 8   TRANS_TIME         int64  \n",
      " 9   WEEK_NO            int64  \n",
      " 10  COUPON_DISC        float64\n",
      " 11  COUPON_MATCH_DISC  float64\n",
      "dtypes: float64(4), int64(8)\n",
      "memory usage: 237.6 MB\n"
     ]
    },
    {
     "data": {
      "text/plain": [
       "(None, '--------------------', (2595732, 12))"
      ]
     },
     "execution_count": 11,
     "metadata": {},
     "output_type": "execute_result"
    }
   ],
   "source": [
    "data.info(),'--------------------', data.shape"
   ]
  },
  {
   "cell_type": "code",
   "execution_count": 12,
   "metadata": {
    "execution": {
     "iopub.execute_input": "2021-10-26T14:53:31.759920Z",
     "iopub.status.busy": "2021-10-26T14:53:31.759578Z",
     "iopub.status.idle": "2021-10-26T14:53:31.841946Z",
     "shell.execute_reply": "2021-10-26T14:53:31.841097Z",
     "shell.execute_reply.started": "2021-10-26T14:53:31.759886Z"
    }
   },
   "outputs": [
    {
     "name": "stdout",
     "output_type": "stream",
     "text": [
      "<class 'pandas.core.frame.DataFrame'>\n",
      "RangeIndex: 92353 entries, 0 to 92352\n",
      "Data columns (total 7 columns):\n",
      " #   Column                Non-Null Count  Dtype \n",
      "---  ------                --------------  ----- \n",
      " 0   PRODUCT_ID            92353 non-null  int64 \n",
      " 1   MANUFACTURER          92353 non-null  int64 \n",
      " 2   DEPARTMENT            92353 non-null  object\n",
      " 3   BRAND                 92353 non-null  object\n",
      " 4   COMMODITY_DESC        92353 non-null  object\n",
      " 5   SUB_COMMODITY_DESC    92353 non-null  object\n",
      " 6   CURR_SIZE_OF_PRODUCT  92353 non-null  object\n",
      "dtypes: int64(2), object(5)\n",
      "memory usage: 4.9+ MB\n"
     ]
    },
    {
     "data": {
      "text/plain": [
       "(None,\n",
       " '--------------------',\n",
       "          PRODUCT_ID  MANUFACTURER\n",
       " count  9.235300e+04   92353.00000\n",
       " mean   5.328353e+06    1739.22833\n",
       " std    5.359937e+06    1818.26957\n",
       " min    2.567100e+04       1.00000\n",
       " 25%    9.706280e+05     328.00000\n",
       " 50%    1.621091e+06    1094.00000\n",
       " 75%    9.704770e+06    2264.00000\n",
       " max    1.831630e+07    6477.00000,\n",
       " '--------------------',\n",
       " (92353, 7))"
      ]
     },
     "execution_count": 12,
     "metadata": {},
     "output_type": "execute_result"
    }
   ],
   "source": [
    "item_features.info(),'--------------------', item_features.describe(),'--------------------',  item_features.shape"
   ]
  },
  {
   "cell_type": "code",
   "execution_count": 13,
   "metadata": {
    "execution": {
     "iopub.execute_input": "2021-10-26T14:53:31.843548Z",
     "iopub.status.busy": "2021-10-26T14:53:31.843248Z",
     "iopub.status.idle": "2021-10-26T14:53:31.907050Z",
     "shell.execute_reply": "2021-10-26T14:53:31.906092Z",
     "shell.execute_reply.started": "2021-10-26T14:53:31.843508Z"
    }
   },
   "outputs": [
    {
     "name": "stdout",
     "output_type": "stream",
     "text": [
      "<class 'pandas.core.frame.DataFrame'>\n",
      "RangeIndex: 92353 entries, 0 to 92352\n",
      "Data columns (total 7 columns):\n",
      " #   Column                Non-Null Count  Dtype \n",
      "---  ------                --------------  ----- \n",
      " 0   PRODUCT_ID            92353 non-null  int64 \n",
      " 1   MANUFACTURER          92353 non-null  int64 \n",
      " 2   DEPARTMENT            92353 non-null  object\n",
      " 3   BRAND                 92353 non-null  object\n",
      " 4   COMMODITY_DESC        92353 non-null  object\n",
      " 5   SUB_COMMODITY_DESC    92353 non-null  object\n",
      " 6   CURR_SIZE_OF_PRODUCT  92353 non-null  object\n",
      "dtypes: int64(2), object(5)\n",
      "memory usage: 4.9+ MB\n"
     ]
    }
   ],
   "source": [
    "item_features.info()"
   ]
  },
  {
   "cell_type": "code",
   "execution_count": 14,
   "metadata": {
    "execution": {
     "iopub.execute_input": "2021-10-26T14:54:03.084302Z",
     "iopub.status.busy": "2021-10-26T14:54:03.083550Z",
     "iopub.status.idle": "2021-10-26T14:54:03.099382Z",
     "shell.execute_reply": "2021-10-26T14:54:03.098720Z",
     "shell.execute_reply.started": "2021-10-26T14:54:03.084224Z"
    }
   },
   "outputs": [
    {
     "data": {
      "text/html": [
       "<div>\n",
       "<style scoped>\n",
       "    .dataframe tbody tr th:only-of-type {\n",
       "        vertical-align: middle;\n",
       "    }\n",
       "\n",
       "    .dataframe tbody tr th {\n",
       "        vertical-align: top;\n",
       "    }\n",
       "\n",
       "    .dataframe thead th {\n",
       "        text-align: right;\n",
       "    }\n",
       "</style>\n",
       "<table border=\"1\" class=\"dataframe\">\n",
       "  <thead>\n",
       "    <tr style=\"text-align: right;\">\n",
       "      <th></th>\n",
       "      <th>household_key</th>\n",
       "    </tr>\n",
       "  </thead>\n",
       "  <tbody>\n",
       "    <tr>\n",
       "      <th>count</th>\n",
       "      <td>801.000000</td>\n",
       "    </tr>\n",
       "    <tr>\n",
       "      <th>mean</th>\n",
       "      <td>1235.176030</td>\n",
       "    </tr>\n",
       "    <tr>\n",
       "      <th>std</th>\n",
       "      <td>736.804647</td>\n",
       "    </tr>\n",
       "    <tr>\n",
       "      <th>min</th>\n",
       "      <td>1.000000</td>\n",
       "    </tr>\n",
       "    <tr>\n",
       "      <th>25%</th>\n",
       "      <td>596.000000</td>\n",
       "    </tr>\n",
       "    <tr>\n",
       "      <th>50%</th>\n",
       "      <td>1218.000000</td>\n",
       "    </tr>\n",
       "    <tr>\n",
       "      <th>75%</th>\n",
       "      <td>1914.000000</td>\n",
       "    </tr>\n",
       "    <tr>\n",
       "      <th>max</th>\n",
       "      <td>2499.000000</td>\n",
       "    </tr>\n",
       "  </tbody>\n",
       "</table>\n",
       "</div>"
      ],
      "text/plain": [
       "       household_key\n",
       "count     801.000000\n",
       "mean     1235.176030\n",
       "std       736.804647\n",
       "min         1.000000\n",
       "25%       596.000000\n",
       "50%      1218.000000\n",
       "75%      1914.000000\n",
       "max      2499.000000"
      ]
     },
     "execution_count": 14,
     "metadata": {},
     "output_type": "execute_result"
    }
   ],
   "source": [
    "user_features.describe()"
   ]
  },
  {
   "cell_type": "code",
   "execution_count": 15,
   "metadata": {
    "execution": {
     "iopub.execute_input": "2021-10-26T14:56:44.436127Z",
     "iopub.status.busy": "2021-10-26T14:56:44.435730Z",
     "iopub.status.idle": "2021-10-26T14:56:44.443229Z",
     "shell.execute_reply": "2021-10-26T14:56:44.442578Z",
     "shell.execute_reply.started": "2021-10-26T14:56:44.436086Z"
    }
   },
   "outputs": [
    {
     "data": {
      "text/plain": [
       "(801, 8)"
      ]
     },
     "execution_count": 15,
     "metadata": {},
     "output_type": "execute_result"
    }
   ],
   "source": [
    "user_features.shape"
   ]
  },
  {
   "cell_type": "code",
   "execution_count": 16,
   "metadata": {
    "_kg_hide-input": true,
    "execution": {
     "iopub.execute_input": "2021-10-26T14:56:47.472069Z",
     "iopub.status.busy": "2021-10-26T14:56:47.471723Z",
     "iopub.status.idle": "2021-10-26T14:56:47.482017Z",
     "shell.execute_reply": "2021-10-26T14:56:47.481109Z",
     "shell.execute_reply.started": "2021-10-26T14:56:47.472034Z"
    }
   },
   "outputs": [],
   "source": [
    "#переименовываем заголовки столбцов, для удобства работы, все строчные\n",
    "item_features.columns = [col.lower() for col in item_features.columns]\n",
    "data.columns = [col.lower() for col in data.columns]\n",
    "\n",
    "# переименовываем заголовки для user и item\n",
    "item_features.rename(columns={'product_id': 'item_id'}, inplace=True)\n",
    "user_features.rename(columns={'household_key': 'user_id'}, inplace=True)\n",
    "data.rename(columns={'household_key': 'user_id'}, inplace=True)\n",
    "data.rename(columns={'product_id': 'item_id'}, inplace=True)"
   ]
  },
  {
   "cell_type": "code",
   "execution_count": 17,
   "metadata": {
    "execution": {
     "iopub.execute_input": "2021-10-26T14:56:50.810017Z",
     "iopub.status.busy": "2021-10-26T14:56:50.809674Z",
     "iopub.status.idle": "2021-10-26T14:56:52.527859Z",
     "shell.execute_reply": "2021-10-26T14:56:52.527173Z",
     "shell.execute_reply.started": "2021-10-26T14:56:50.809978Z"
    }
   },
   "outputs": [
    {
     "name": "stdout",
     "output_type": "stream",
     "text": [
      "Wall time: 3.23 s\n"
     ]
    }
   ],
   "source": [
    "%%time\n",
    "data = prefilter_items(data)"
   ]
  },
  {
   "cell_type": "code",
   "execution_count": 18,
   "metadata": {
    "execution": {
     "iopub.execute_input": "2021-10-26T14:56:54.689914Z",
     "iopub.status.busy": "2021-10-26T14:56:54.689544Z",
     "iopub.status.idle": "2021-10-26T14:56:54.718560Z",
     "shell.execute_reply": "2021-10-26T14:56:54.717459Z",
     "shell.execute_reply.started": "2021-10-26T14:56:54.689877Z"
    }
   },
   "outputs": [
    {
     "data": {
      "text/html": [
       "<div>\n",
       "<style scoped>\n",
       "    .dataframe tbody tr th:only-of-type {\n",
       "        vertical-align: middle;\n",
       "    }\n",
       "\n",
       "    .dataframe tbody tr th {\n",
       "        vertical-align: top;\n",
       "    }\n",
       "\n",
       "    .dataframe thead th {\n",
       "        text-align: right;\n",
       "    }\n",
       "</style>\n",
       "<table border=\"1\" class=\"dataframe\">\n",
       "  <thead>\n",
       "    <tr style=\"text-align: right;\">\n",
       "      <th></th>\n",
       "      <th>user_id</th>\n",
       "      <th>basket_id</th>\n",
       "      <th>day</th>\n",
       "      <th>item_id</th>\n",
       "      <th>quantity</th>\n",
       "      <th>sales_value</th>\n",
       "      <th>store_id</th>\n",
       "      <th>retail_disc</th>\n",
       "      <th>trans_time</th>\n",
       "      <th>week_no</th>\n",
       "      <th>coupon_disc</th>\n",
       "      <th>coupon_match_disc</th>\n",
       "      <th>price</th>\n",
       "    </tr>\n",
       "  </thead>\n",
       "  <tbody>\n",
       "    <tr>\n",
       "      <th>7</th>\n",
       "      <td>2375</td>\n",
       "      <td>26984851516</td>\n",
       "      <td>1</td>\n",
       "      <td>1085983</td>\n",
       "      <td>1</td>\n",
       "      <td>2.99</td>\n",
       "      <td>364</td>\n",
       "      <td>-0.40</td>\n",
       "      <td>1642</td>\n",
       "      <td>1</td>\n",
       "      <td>0.0</td>\n",
       "      <td>0.0</td>\n",
       "      <td>2.99</td>\n",
       "    </tr>\n",
       "    <tr>\n",
       "      <th>11</th>\n",
       "      <td>1364</td>\n",
       "      <td>26984896261</td>\n",
       "      <td>1</td>\n",
       "      <td>999999</td>\n",
       "      <td>1</td>\n",
       "      <td>2.19</td>\n",
       "      <td>31742</td>\n",
       "      <td>0.00</td>\n",
       "      <td>1520</td>\n",
       "      <td>1</td>\n",
       "      <td>0.0</td>\n",
       "      <td>0.0</td>\n",
       "      <td>2.19</td>\n",
       "    </tr>\n",
       "    <tr>\n",
       "      <th>12</th>\n",
       "      <td>1364</td>\n",
       "      <td>26984896261</td>\n",
       "      <td>1</td>\n",
       "      <td>999999</td>\n",
       "      <td>1</td>\n",
       "      <td>2.99</td>\n",
       "      <td>31742</td>\n",
       "      <td>-0.40</td>\n",
       "      <td>1520</td>\n",
       "      <td>1</td>\n",
       "      <td>0.0</td>\n",
       "      <td>0.0</td>\n",
       "      <td>2.99</td>\n",
       "    </tr>\n",
       "    <tr>\n",
       "      <th>13</th>\n",
       "      <td>1364</td>\n",
       "      <td>26984896261</td>\n",
       "      <td>1</td>\n",
       "      <td>999999</td>\n",
       "      <td>1</td>\n",
       "      <td>3.09</td>\n",
       "      <td>31742</td>\n",
       "      <td>0.00</td>\n",
       "      <td>1520</td>\n",
       "      <td>1</td>\n",
       "      <td>0.0</td>\n",
       "      <td>0.0</td>\n",
       "      <td>3.09</td>\n",
       "    </tr>\n",
       "    <tr>\n",
       "      <th>14</th>\n",
       "      <td>1364</td>\n",
       "      <td>26984896261</td>\n",
       "      <td>1</td>\n",
       "      <td>937406</td>\n",
       "      <td>1</td>\n",
       "      <td>2.50</td>\n",
       "      <td>31742</td>\n",
       "      <td>-0.99</td>\n",
       "      <td>1520</td>\n",
       "      <td>1</td>\n",
       "      <td>0.0</td>\n",
       "      <td>0.0</td>\n",
       "      <td>2.50</td>\n",
       "    </tr>\n",
       "    <tr>\n",
       "      <th>...</th>\n",
       "      <td>...</td>\n",
       "      <td>...</td>\n",
       "      <td>...</td>\n",
       "      <td>...</td>\n",
       "      <td>...</td>\n",
       "      <td>...</td>\n",
       "      <td>...</td>\n",
       "      <td>...</td>\n",
       "      <td>...</td>\n",
       "      <td>...</td>\n",
       "      <td>...</td>\n",
       "      <td>...</td>\n",
       "      <td>...</td>\n",
       "    </tr>\n",
       "    <tr>\n",
       "      <th>2595717</th>\n",
       "      <td>2225</td>\n",
       "      <td>42302712298</td>\n",
       "      <td>711</td>\n",
       "      <td>999999</td>\n",
       "      <td>1</td>\n",
       "      <td>4.89</td>\n",
       "      <td>446</td>\n",
       "      <td>0.00</td>\n",
       "      <td>1754</td>\n",
       "      <td>102</td>\n",
       "      <td>0.0</td>\n",
       "      <td>0.0</td>\n",
       "      <td>4.89</td>\n",
       "    </tr>\n",
       "    <tr>\n",
       "      <th>2595728</th>\n",
       "      <td>1598</td>\n",
       "      <td>42305362535</td>\n",
       "      <td>711</td>\n",
       "      <td>999999</td>\n",
       "      <td>1</td>\n",
       "      <td>8.89</td>\n",
       "      <td>3228</td>\n",
       "      <td>0.00</td>\n",
       "      <td>1520</td>\n",
       "      <td>102</td>\n",
       "      <td>0.0</td>\n",
       "      <td>0.0</td>\n",
       "      <td>8.89</td>\n",
       "    </tr>\n",
       "    <tr>\n",
       "      <th>2595729</th>\n",
       "      <td>1598</td>\n",
       "      <td>42305362535</td>\n",
       "      <td>711</td>\n",
       "      <td>999999</td>\n",
       "      <td>1</td>\n",
       "      <td>6.99</td>\n",
       "      <td>3228</td>\n",
       "      <td>0.00</td>\n",
       "      <td>1520</td>\n",
       "      <td>102</td>\n",
       "      <td>0.0</td>\n",
       "      <td>0.0</td>\n",
       "      <td>6.99</td>\n",
       "    </tr>\n",
       "    <tr>\n",
       "      <th>2595730</th>\n",
       "      <td>1598</td>\n",
       "      <td>42305362535</td>\n",
       "      <td>711</td>\n",
       "      <td>999999</td>\n",
       "      <td>1</td>\n",
       "      <td>4.50</td>\n",
       "      <td>3228</td>\n",
       "      <td>-0.49</td>\n",
       "      <td>1520</td>\n",
       "      <td>102</td>\n",
       "      <td>0.0</td>\n",
       "      <td>0.0</td>\n",
       "      <td>4.50</td>\n",
       "    </tr>\n",
       "    <tr>\n",
       "      <th>2595731</th>\n",
       "      <td>1598</td>\n",
       "      <td>42305362535</td>\n",
       "      <td>711</td>\n",
       "      <td>999999</td>\n",
       "      <td>1</td>\n",
       "      <td>6.99</td>\n",
       "      <td>3228</td>\n",
       "      <td>0.00</td>\n",
       "      <td>1520</td>\n",
       "      <td>102</td>\n",
       "      <td>0.0</td>\n",
       "      <td>0.0</td>\n",
       "      <td>6.99</td>\n",
       "    </tr>\n",
       "  </tbody>\n",
       "</table>\n",
       "<p>1079613 rows × 13 columns</p>\n",
       "</div>"
      ],
      "text/plain": [
       "         user_id    basket_id  day  item_id  quantity  sales_value  store_id  \\\n",
       "7           2375  26984851516    1  1085983         1         2.99       364   \n",
       "11          1364  26984896261    1   999999         1         2.19     31742   \n",
       "12          1364  26984896261    1   999999         1         2.99     31742   \n",
       "13          1364  26984896261    1   999999         1         3.09     31742   \n",
       "14          1364  26984896261    1   937406         1         2.50     31742   \n",
       "...          ...          ...  ...      ...       ...          ...       ...   \n",
       "2595717     2225  42302712298  711   999999         1         4.89       446   \n",
       "2595728     1598  42305362535  711   999999         1         8.89      3228   \n",
       "2595729     1598  42305362535  711   999999         1         6.99      3228   \n",
       "2595730     1598  42305362535  711   999999         1         4.50      3228   \n",
       "2595731     1598  42305362535  711   999999         1         6.99      3228   \n",
       "\n",
       "         retail_disc  trans_time  week_no  coupon_disc  coupon_match_disc  \\\n",
       "7              -0.40        1642        1          0.0                0.0   \n",
       "11              0.00        1520        1          0.0                0.0   \n",
       "12             -0.40        1520        1          0.0                0.0   \n",
       "13              0.00        1520        1          0.0                0.0   \n",
       "14             -0.99        1520        1          0.0                0.0   \n",
       "...              ...         ...      ...          ...                ...   \n",
       "2595717         0.00        1754      102          0.0                0.0   \n",
       "2595728         0.00        1520      102          0.0                0.0   \n",
       "2595729         0.00        1520      102          0.0                0.0   \n",
       "2595730        -0.49        1520      102          0.0                0.0   \n",
       "2595731         0.00        1520      102          0.0                0.0   \n",
       "\n",
       "         price  \n",
       "7         2.99  \n",
       "11        2.19  \n",
       "12        2.99  \n",
       "13        3.09  \n",
       "14        2.50  \n",
       "...        ...  \n",
       "2595717   4.89  \n",
       "2595728   8.89  \n",
       "2595729   6.99  \n",
       "2595730   4.50  \n",
       "2595731   6.99  \n",
       "\n",
       "[1079613 rows x 13 columns]"
      ]
     },
     "execution_count": 18,
     "metadata": {},
     "output_type": "execute_result"
    }
   ],
   "source": [
    "data"
   ]
  },
  {
   "cell_type": "code",
   "execution_count": 19,
   "metadata": {
    "execution": {
     "iopub.execute_input": "2021-10-26T14:57:03.719537Z",
     "iopub.status.busy": "2021-10-26T14:57:03.719186Z",
     "iopub.status.idle": "2021-10-26T14:57:10.472098Z",
     "shell.execute_reply": "2021-10-26T14:57:10.471259Z",
     "shell.execute_reply.started": "2021-10-26T14:57:03.719500Z"
    }
   },
   "outputs": [
    {
     "name": "stderr",
     "output_type": "stream",
     "text": [
      "WARNING:root:Intel MKL BLAS detected. Its highly recommend to set the environment variable 'export MKL_NUM_THREADS=1' to disable its internal multithreading\n"
     ]
    },
    {
     "data": {
      "application/vnd.jupyter.widget-view+json": {
       "model_id": "e21a937566c549abbf634d1302c0c5f4",
       "version_major": 2,
       "version_minor": 0
      },
      "text/plain": [
       "  0%|          | 0/15 [00:00<?, ?it/s]"
      ]
     },
     "metadata": {},
     "output_type": "display_data"
    },
    {
     "data": {
      "application/vnd.jupyter.widget-view+json": {
       "model_id": "dfa6d0b176034142a73dd1daf14ea959",
       "version_major": 2,
       "version_minor": 0
      },
      "text/plain": [
       "  0%|          | 0/5001 [00:00<?, ?it/s]"
      ]
     },
     "metadata": {},
     "output_type": "display_data"
    },
    {
     "name": "stdout",
     "output_type": "stream",
     "text": [
      "Wall time: 6.78 s\n"
     ]
    }
   ],
   "source": [
    "%%time\n",
    "model = MainRecommender(data)"
   ]
  },
  {
   "cell_type": "code",
   "execution_count": 20,
   "metadata": {
    "execution": {
     "iopub.execute_input": "2021-10-26T14:57:16.385629Z",
     "iopub.status.busy": "2021-10-26T14:57:16.385343Z",
     "iopub.status.idle": "2021-10-26T14:57:16.390643Z",
     "shell.execute_reply": "2021-10-26T14:57:16.389512Z",
     "shell.execute_reply.started": "2021-10-26T14:57:16.385600Z"
    }
   },
   "outputs": [],
   "source": [
    "user = 2000"
   ]
  },
  {
   "cell_type": "code",
   "execution_count": 21,
   "metadata": {
    "execution": {
     "iopub.execute_input": "2021-10-26T14:57:20.216021Z",
     "iopub.status.busy": "2021-10-26T14:57:20.215519Z",
     "iopub.status.idle": "2021-10-26T14:57:20.228591Z",
     "shell.execute_reply": "2021-10-26T14:57:20.227910Z",
     "shell.execute_reply.started": "2021-10-26T14:57:20.215980Z"
    }
   },
   "outputs": [
    {
     "data": {
      "text/plain": [
       "58"
      ]
     },
     "execution_count": 21,
     "metadata": {},
     "output_type": "execute_result"
    }
   ],
   "source": [
    "user_purchases = data[(data['user_id'] == user)&(data['item_id'] != 999999)]['item_id']\n",
    "user_purchases = np.array(user_purchases)\n",
    "len(user_purchases)"
   ]
  },
  {
   "cell_type": "code",
   "execution_count": 22,
   "metadata": {
    "execution": {
     "iopub.execute_input": "2021-10-26T14:57:24.799784Z",
     "iopub.status.busy": "2021-10-26T14:57:24.799466Z",
     "iopub.status.idle": "2021-10-26T14:57:24.805441Z",
     "shell.execute_reply": "2021-10-26T14:57:24.804831Z",
     "shell.execute_reply.started": "2021-10-26T14:57:24.799750Z"
    }
   },
   "outputs": [
    {
     "data": {
      "text/plain": [
       "array([  844179,  1029743,  8090521,   926905,   967144,  1138677,\n",
       "        8090509,  1016800,   839656,  8090509,  8090537,   826842,\n",
       "         967144,   926905,  8090521,  1050851,   973002,  5569172,\n",
       "         828055,  1016800,  1029743,  1057113,  1029743,   926905,\n",
       "         998119,  8019921,   823266,  8090513,  8090521,  8090537,\n",
       "        8090513,  8090537,   930385,  9655696,  1046555,  1050851,\n",
       "        1060292,   835619,   830935,   843689,  1007136,  1035691,\n",
       "        9707240,   909249,  1009719,   850102,  1015785,   916122,\n",
       "        1000753,  1050851,  1070702,  9835223,  1068719,   842769,\n",
       "         947146,  9296856,  5569172, 13115666], dtype=int64)"
      ]
     },
     "execution_count": 22,
     "metadata": {},
     "output_type": "execute_result"
    }
   ],
   "source": [
    "user_purchases"
   ]
  },
  {
   "cell_type": "code",
   "execution_count": 23,
   "metadata": {
    "execution": {
     "iopub.execute_input": "2021-10-26T14:57:28.687936Z",
     "iopub.status.busy": "2021-10-26T14:57:28.687380Z",
     "iopub.status.idle": "2021-10-26T14:57:28.711637Z",
     "shell.execute_reply": "2021-10-26T14:57:28.710846Z",
     "shell.execute_reply.started": "2021-10-26T14:57:28.687900Z"
    }
   },
   "outputs": [
    {
     "data": {
      "text/plain": [
       "[850102, 8090509, 12301405, 972931, 1016800]"
      ]
     },
     "execution_count": 23,
     "metadata": {},
     "output_type": "execute_result"
    }
   ],
   "source": [
    "items = model.get_similar_items_recommendation(user, N=len(user_purchases))\n",
    "items[:5]"
   ]
  },
  {
   "cell_type": "markdown",
   "metadata": {},
   "source": [
    "### 2. Работа с признаками"
   ]
  },
  {
   "cell_type": "markdown",
   "metadata": {
    "execution": {
     "iopub.execute_input": "2021-10-26T10:56:32.092568Z",
     "iopub.status.busy": "2021-10-26T10:56:32.092205Z",
     "iopub.status.idle": "2021-10-26T10:56:32.101400Z",
     "shell.execute_reply": "2021-10-26T10:56:32.099565Z",
     "shell.execute_reply.started": "2021-10-26T10:56:32.092520Z"
    }
   },
   "source": [
    "У этого алогритма есть множество параметров (item/user_alpha, loss, no_components).  \n",
    "Проведите эксперименты аналогично дз 3 (подберите гипперпараметры каким удобно способои и постройте графики)  \n",
    "На выходе необходимо получить pr@5 на валидации (последние 3 недели) > 17%  \n",
    "\n",
    "У Вас, скорее всего, возникнет проблема со временем обучения. Почему они возникает?    \n",
    "\n",
    "Попробуйте запустить алгоритм вообще без фичей или используйте только признаки с небольшим числом уникальных категорий. (item_features['commodity_desc'].unique() - 300 уникальных категорий - это очень много)"
   ]
  },
  {
   "cell_type": "code",
   "execution_count": 24,
   "metadata": {
    "execution": {
     "iopub.execute_input": "2021-10-26T14:58:36.152855Z",
     "iopub.status.busy": "2021-10-26T14:58:36.152502Z",
     "iopub.status.idle": "2021-10-26T14:58:36.197379Z",
     "shell.execute_reply": "2021-10-26T14:58:36.196249Z",
     "shell.execute_reply.started": "2021-10-26T14:58:36.152817Z"
    }
   },
   "outputs": [
    {
     "name": "stdout",
     "output_type": "stream",
     "text": [
      "<class 'pandas.core.frame.DataFrame'>\n",
      "Int64Index: 1079613 entries, 7 to 2595731\n",
      "Data columns (total 13 columns):\n",
      " #   Column             Non-Null Count    Dtype  \n",
      "---  ------             --------------    -----  \n",
      " 0   user_id            1079613 non-null  int64  \n",
      " 1   basket_id          1079613 non-null  int64  \n",
      " 2   day                1079613 non-null  int64  \n",
      " 3   item_id            1079613 non-null  int64  \n",
      " 4   quantity           1079613 non-null  int64  \n",
      " 5   sales_value        1079613 non-null  float64\n",
      " 6   store_id           1079613 non-null  int64  \n",
      " 7   retail_disc        1079613 non-null  float64\n",
      " 8   trans_time         1079613 non-null  int64  \n",
      " 9   week_no            1079613 non-null  int64  \n",
      " 10  coupon_disc        1079613 non-null  float64\n",
      " 11  coupon_match_disc  1079613 non-null  float64\n",
      " 12  price              1079613 non-null  float64\n",
      "dtypes: float64(5), int64(8)\n",
      "memory usage: 115.3 MB\n"
     ]
    }
   ],
   "source": [
    "data.info()"
   ]
  },
  {
   "cell_type": "code",
   "execution_count": 25,
   "metadata": {
    "execution": {
     "iopub.execute_input": "2021-10-26T14:58:39.176538Z",
     "iopub.status.busy": "2021-10-26T14:58:39.175882Z",
     "iopub.status.idle": "2021-10-26T14:58:39.759209Z",
     "shell.execute_reply": "2021-10-26T14:58:39.758337Z",
     "shell.execute_reply.started": "2021-10-26T14:58:39.176490Z"
    }
   },
   "outputs": [
    {
     "data": {
      "text/html": [
       "<style type=\"text/css\">\n",
       "</style>\n",
       "<table id=\"T_df719_\">\n",
       "  <thead>\n",
       "    <tr>\n",
       "      <th class=\"blank level0\" >&nbsp;</th>\n",
       "      <th class=\"col_heading level0 col0\" >user_id</th>\n",
       "      <th class=\"col_heading level0 col1\" >basket_id</th>\n",
       "      <th class=\"col_heading level0 col2\" >day</th>\n",
       "      <th class=\"col_heading level0 col3\" >item_id</th>\n",
       "      <th class=\"col_heading level0 col4\" >quantity</th>\n",
       "      <th class=\"col_heading level0 col5\" >sales_value</th>\n",
       "      <th class=\"col_heading level0 col6\" >store_id</th>\n",
       "      <th class=\"col_heading level0 col7\" >retail_disc</th>\n",
       "      <th class=\"col_heading level0 col8\" >trans_time</th>\n",
       "      <th class=\"col_heading level0 col9\" >week_no</th>\n",
       "      <th class=\"col_heading level0 col10\" >coupon_disc</th>\n",
       "      <th class=\"col_heading level0 col11\" >coupon_match_disc</th>\n",
       "      <th class=\"col_heading level0 col12\" >price</th>\n",
       "    </tr>\n",
       "  </thead>\n",
       "  <tbody>\n",
       "    <tr>\n",
       "      <th id=\"T_df719_level0_row0\" class=\"row_heading level0 row0\" >count</th>\n",
       "      <td id=\"T_df719_row0_col0\" class=\"data row0 col0\" >1079613.0</td>\n",
       "      <td id=\"T_df719_row0_col1\" class=\"data row0 col1\" >1079613.0</td>\n",
       "      <td id=\"T_df719_row0_col2\" class=\"data row0 col2\" >1079613.0</td>\n",
       "      <td id=\"T_df719_row0_col3\" class=\"data row0 col3\" >1079613.0</td>\n",
       "      <td id=\"T_df719_row0_col4\" class=\"data row0 col4\" >1079613.0</td>\n",
       "      <td id=\"T_df719_row0_col5\" class=\"data row0 col5\" >1079613.0</td>\n",
       "      <td id=\"T_df719_row0_col6\" class=\"data row0 col6\" >1079613.0</td>\n",
       "      <td id=\"T_df719_row0_col7\" class=\"data row0 col7\" >1079613.0</td>\n",
       "      <td id=\"T_df719_row0_col8\" class=\"data row0 col8\" >1079613.0</td>\n",
       "      <td id=\"T_df719_row0_col9\" class=\"data row0 col9\" >1079613.0</td>\n",
       "      <td id=\"T_df719_row0_col10\" class=\"data row0 col10\" >1079613.0</td>\n",
       "      <td id=\"T_df719_row0_col11\" class=\"data row0 col11\" >1079613.0</td>\n",
       "      <td id=\"T_df719_row0_col12\" class=\"data row0 col12\" >1079613.0</td>\n",
       "    </tr>\n",
       "    <tr>\n",
       "      <th id=\"T_df719_level0_row1\" class=\"row_heading level0 row1\" >mean</th>\n",
       "      <td id=\"T_df719_row1_col0\" class=\"data row1 col0\" >1276.0</td>\n",
       "      <td id=\"T_df719_row1_col1\" class=\"data row1 col1\" >34088317957.8</td>\n",
       "      <td id=\"T_df719_row1_col2\" class=\"data row1 col2\" >391.0</td>\n",
       "      <td id=\"T_df719_row1_col3\" class=\"data row1 col3\" >2228258.3</td>\n",
       "      <td id=\"T_df719_row1_col4\" class=\"data row1 col4\" >1.1</td>\n",
       "      <td id=\"T_df719_row1_col5\" class=\"data row1 col5\" >4.7</td>\n",
       "      <td id=\"T_df719_row1_col6\" class=\"data row1 col6\" >3332.8</td>\n",
       "      <td id=\"T_df719_row1_col7\" class=\"data row1 col7\" >-0.7</td>\n",
       "      <td id=\"T_df719_row1_col8\" class=\"data row1 col8\" >1563.5</td>\n",
       "      <td id=\"T_df719_row1_col9\" class=\"data row1 col9\" >56.5</td>\n",
       "      <td id=\"T_df719_row1_col10\" class=\"data row1 col10\" >-0.0</td>\n",
       "      <td id=\"T_df719_row1_col11\" class=\"data row1 col11\" >-0.0</td>\n",
       "      <td id=\"T_df719_row1_col12\" class=\"data row1 col12\" >4.1</td>\n",
       "    </tr>\n",
       "    <tr>\n",
       "      <th id=\"T_df719_level0_row2\" class=\"row_heading level0 row2\" >std</th>\n",
       "      <td id=\"T_df719_row2_col0\" class=\"data row2 col0\" >721.7</td>\n",
       "      <td id=\"T_df719_row2_col1\" class=\"data row2 col1\" >4742827639.5</td>\n",
       "      <td id=\"T_df719_row2_col2\" class=\"data row2 col2\" >190.7</td>\n",
       "      <td id=\"T_df719_row2_col3\" class=\"data row2 col3\" >3050786.1</td>\n",
       "      <td id=\"T_df719_row2_col4\" class=\"data row2 col4\" >0.5</td>\n",
       "      <td id=\"T_df719_row2_col5\" class=\"data row2 col5\" >3.8</td>\n",
       "      <td id=\"T_df719_row2_col6\" class=\"data row2 col6\" >9210.0</td>\n",
       "      <td id=\"T_df719_row2_col7\" class=\"data row2 col7\" >1.7</td>\n",
       "      <td id=\"T_df719_row2_col8\" class=\"data row2 col8\" >395.7</td>\n",
       "      <td id=\"T_df719_row2_col9\" class=\"data row2 col9\" >27.2</td>\n",
       "      <td id=\"T_df719_row2_col10\" class=\"data row2 col10\" >0.2</td>\n",
       "      <td id=\"T_df719_row2_col11\" class=\"data row2 col11\" >0.0</td>\n",
       "      <td id=\"T_df719_row2_col12\" class=\"data row2 col12\" >2.9</td>\n",
       "    </tr>\n",
       "    <tr>\n",
       "      <th id=\"T_df719_level0_row3\" class=\"row_heading level0 row3\" >min</th>\n",
       "      <td id=\"T_df719_row3_col0\" class=\"data row3 col0\" >1.0</td>\n",
       "      <td id=\"T_df719_row3_col1\" class=\"data row3 col1\" >26984851516.0</td>\n",
       "      <td id=\"T_df719_row3_col2\" class=\"data row3 col2\" >1.0</td>\n",
       "      <td id=\"T_df719_row3_col3\" class=\"data row3 col3\" >818981.0</td>\n",
       "      <td id=\"T_df719_row3_col4\" class=\"data row3 col4\" >0.0</td>\n",
       "      <td id=\"T_df719_row3_col5\" class=\"data row3 col5\" >2.0</td>\n",
       "      <td id=\"T_df719_row3_col6\" class=\"data row3 col6\" >1.0</td>\n",
       "      <td id=\"T_df719_row3_col7\" class=\"data row3 col7\" >-180.0</td>\n",
       "      <td id=\"T_df719_row3_col8\" class=\"data row3 col8\" >0.0</td>\n",
       "      <td id=\"T_df719_row3_col9\" class=\"data row3 col9\" >1.0</td>\n",
       "      <td id=\"T_df719_row3_col10\" class=\"data row3 col10\" >-55.9</td>\n",
       "      <td id=\"T_df719_row3_col11\" class=\"data row3 col11\" >-2.7</td>\n",
       "      <td id=\"T_df719_row3_col12\" class=\"data row3 col12\" >2.0</td>\n",
       "    </tr>\n",
       "    <tr>\n",
       "      <th id=\"T_df719_level0_row4\" class=\"row_heading level0 row4\" >25%</th>\n",
       "      <td id=\"T_df719_row4_col0\" class=\"data row4 col0\" >671.0</td>\n",
       "      <td id=\"T_df719_row4_col1\" class=\"data row4 col1\" >30503918029.0</td>\n",
       "      <td id=\"T_df719_row4_col2\" class=\"data row4 col2\" >230.0</td>\n",
       "      <td id=\"T_df719_row4_col3\" class=\"data row4 col3\" >983584.0</td>\n",
       "      <td id=\"T_df719_row4_col4\" class=\"data row4 col4\" >1.0</td>\n",
       "      <td id=\"T_df719_row4_col5\" class=\"data row4 col5\" >2.7</td>\n",
       "      <td id=\"T_df719_row4_col6\" class=\"data row4 col6\" >333.0</td>\n",
       "      <td id=\"T_df719_row4_col7\" class=\"data row4 col7\" >-0.8</td>\n",
       "      <td id=\"T_df719_row4_col8\" class=\"data row4 col8\" >1309.0</td>\n",
       "      <td id=\"T_df719_row4_col9\" class=\"data row4 col9\" >34.0</td>\n",
       "      <td id=\"T_df719_row4_col10\" class=\"data row4 col10\" >0.0</td>\n",
       "      <td id=\"T_df719_row4_col11\" class=\"data row4 col11\" >0.0</td>\n",
       "      <td id=\"T_df719_row4_col12\" class=\"data row4 col12\" >2.5</td>\n",
       "    </tr>\n",
       "    <tr>\n",
       "      <th id=\"T_df719_level0_row5\" class=\"row_heading level0 row5\" >50%</th>\n",
       "      <td id=\"T_df719_row5_col0\" class=\"data row5 col0\" >1274.0</td>\n",
       "      <td id=\"T_df719_row5_col1\" class=\"data row5 col1\" >32835682876.0</td>\n",
       "      <td id=\"T_df719_row5_col2\" class=\"data row5 col2\" >394.0</td>\n",
       "      <td id=\"T_df719_row5_col3\" class=\"data row5 col3\" >999999.0</td>\n",
       "      <td id=\"T_df719_row5_col4\" class=\"data row5 col4\" >1.0</td>\n",
       "      <td id=\"T_df719_row5_col5\" class=\"data row5 col5\" >3.5</td>\n",
       "      <td id=\"T_df719_row5_col6\" class=\"data row5 col6\" >372.0</td>\n",
       "      <td id=\"T_df719_row5_col7\" class=\"data row5 col7\" >0.0</td>\n",
       "      <td id=\"T_df719_row5_col8\" class=\"data row5 col8\" >1614.0</td>\n",
       "      <td id=\"T_df719_row5_col9\" class=\"data row5 col9\" >57.0</td>\n",
       "      <td id=\"T_df719_row5_col10\" class=\"data row5 col10\" >0.0</td>\n",
       "      <td id=\"T_df719_row5_col11\" class=\"data row5 col11\" >0.0</td>\n",
       "      <td id=\"T_df719_row5_col12\" class=\"data row5 col12\" >3.2</td>\n",
       "    </tr>\n",
       "    <tr>\n",
       "      <th id=\"T_df719_level0_row6\" class=\"row_heading level0 row6\" >75%</th>\n",
       "      <td id=\"T_df719_row6_col0\" class=\"data row6 col0\" >1907.0</td>\n",
       "      <td id=\"T_df719_row6_col1\" class=\"data row6 col1\" >40186351956.0</td>\n",
       "      <td id=\"T_df719_row6_col2\" class=\"data row6 col2\" >558.0</td>\n",
       "      <td id=\"T_df719_row6_col3\" class=\"data row6 col3\" >1088771.0</td>\n",
       "      <td id=\"T_df719_row6_col4\" class=\"data row6 col4\" >1.0</td>\n",
       "      <td id=\"T_df719_row6_col5\" class=\"data row6 col5\" >5.0</td>\n",
       "      <td id=\"T_df719_row6_col6\" class=\"data row6 col6\" >424.0</td>\n",
       "      <td id=\"T_df719_row6_col7\" class=\"data row6 col7\" >0.0</td>\n",
       "      <td id=\"T_df719_row6_col8\" class=\"data row6 col8\" >1843.0</td>\n",
       "      <td id=\"T_df719_row6_col9\" class=\"data row6 col9\" >80.0</td>\n",
       "      <td id=\"T_df719_row6_col10\" class=\"data row6 col10\" >0.0</td>\n",
       "      <td id=\"T_df719_row6_col11\" class=\"data row6 col11\" >0.0</td>\n",
       "      <td id=\"T_df719_row6_col12\" class=\"data row6 col12\" >4.4</td>\n",
       "    </tr>\n",
       "    <tr>\n",
       "      <th id=\"T_df719_level0_row7\" class=\"row_heading level0 row7\" >max</th>\n",
       "      <td id=\"T_df719_row7_col0\" class=\"data row7 col0\" >2500.0</td>\n",
       "      <td id=\"T_df719_row7_col1\" class=\"data row7 col1\" >42305362535.0</td>\n",
       "      <td id=\"T_df719_row7_col2\" class=\"data row7 col2\" >711.0</td>\n",
       "      <td id=\"T_df719_row7_col3\" class=\"data row7 col3\" >18119016.0</td>\n",
       "      <td id=\"T_df719_row7_col4\" class=\"data row7 col4\" >40.0</td>\n",
       "      <td id=\"T_df719_row7_col5\" class=\"data row7 col5\" >324.8</td>\n",
       "      <td id=\"T_df719_row7_col6\" class=\"data row7 col6\" >34280.0</td>\n",
       "      <td id=\"T_df719_row7_col7\" class=\"data row7 col7\" >4.0</td>\n",
       "      <td id=\"T_df719_row7_col8\" class=\"data row7 col8\" >2359.0</td>\n",
       "      <td id=\"T_df719_row7_col9\" class=\"data row7 col9\" >102.0</td>\n",
       "      <td id=\"T_df719_row7_col10\" class=\"data row7 col10\" >0.0</td>\n",
       "      <td id=\"T_df719_row7_col11\" class=\"data row7 col11\" >0.0</td>\n",
       "      <td id=\"T_df719_row7_col12\" class=\"data row7 col12\" >50.0</td>\n",
       "    </tr>\n",
       "  </tbody>\n",
       "</table>\n"
      ],
      "text/plain": [
       "<pandas.io.formats.style.Styler at 0x23bb5310580>"
      ]
     },
     "execution_count": 25,
     "metadata": {},
     "output_type": "execute_result"
    }
   ],
   "source": [
    "data.describe().style.set_precision(1)"
   ]
  },
  {
   "cell_type": "code",
   "execution_count": 26,
   "metadata": {
    "execution": {
     "iopub.execute_input": "2021-10-26T14:58:42.778381Z",
     "iopub.status.busy": "2021-10-26T14:58:42.778047Z",
     "iopub.status.idle": "2021-10-26T14:58:42.914779Z",
     "shell.execute_reply": "2021-10-26T14:58:42.913886Z",
     "shell.execute_reply.started": "2021-10-26T14:58:42.778346Z"
    }
   },
   "outputs": [
    {
     "data": {
      "text/plain": [
       "user_id                2500\n",
       "basket_id            208830\n",
       "day                     710\n",
       "item_id                5001\n",
       "quantity                 30\n",
       "sales_value            3414\n",
       "store_id                522\n",
       "retail_disc            2340\n",
       "trans_time             1440\n",
       "week_no                 102\n",
       "coupon_disc             218\n",
       "coupon_match_disc        30\n",
       "price                  5039\n",
       "dtype: int64"
      ]
     },
     "execution_count": 26,
     "metadata": {},
     "output_type": "execute_result"
    }
   ],
   "source": [
    "data.nunique()"
   ]
  },
  {
   "cell_type": "code",
   "execution_count": 27,
   "metadata": {
    "execution": {
     "iopub.execute_input": "2021-10-26T14:58:46.976617Z",
     "iopub.status.busy": "2021-10-26T14:58:46.976312Z",
     "iopub.status.idle": "2021-10-26T14:58:47.117155Z",
     "shell.execute_reply": "2021-10-26T14:58:47.115935Z",
     "shell.execute_reply.started": "2021-10-26T14:58:46.976586Z"
    }
   },
   "outputs": [
    {
     "name": "stdout",
     "output_type": "stream",
     "text": [
      "user_id : [2375 1364 1172 ... 1984 2259 2325] \n",
      "\n",
      "basket_id : [26984851516 26984896261 26985025264 ... 42302712189 42302712298\n",
      " 42305362535] \n",
      "\n",
      "day : [  1   2   3   4   5   6   7   8   9  10  11  12  13  14  15  16  17  18\n",
      "  19  20  21  22  23  24  25  26  27  28  29  30  31  32  33  34  35  36\n",
      "  37  38  39  40  41  42  43  44  45  46  47  48  49  50  51  52  53  54\n",
      "  55  56  57  58  59  60  61  62  63  64  65  66  67  68  69  70  71  72\n",
      "  73  74  75  76  77  78  79  80  81  82  83  84  85  86  87  88  89  90\n",
      "  91  92  93  94  95  96  97  98  99 100 101 102 103 104 105 106 107 108\n",
      " 109 110 111 112 113 114 115 116 117 118 119 120 121 122 123 124 125 126\n",
      " 127 128 129 130 131 132 133 134 135 136 137 138 139 140 141 142 143 144\n",
      " 145 146 147 148 149 150 151 152 153 154 155 156 157 158 159 160 161 162\n",
      " 163 164 165 166 167 168 169 170 171 172 173 174 175 176 177 178 179 180\n",
      " 181 182 183 184 185 186 187 188 189 190 191 192 193 194 195 196 197 198\n",
      " 199 200 201 203 202 204 205 206 207 208 210 211 212 209 213 214 215 216\n",
      " 217 218 219 220 221 222 223 224 225 226 227 228 239 238 240 229 230 232\n",
      " 231 233 234 235 236 237 241 242 243 244 245 246 247 248 249 250 251 252\n",
      " 253 254 255 256 257 258 259 260 261 262 263 264 265 266 267 268 269 270\n",
      " 271 272 273 274 275 276 277 278 279 280 281 282 283 284 285 286 287 288\n",
      " 289 290 291 292 293 294 295 296 297 298 299 300 301 302 303 304 305 306\n",
      " 307 308 309 311 310 312 313 314 315 316 317 318 319 320 321 322 323 324\n",
      " 325 326 327 328 329 330 331 332 333 334 335 336 337 338 339 340 341 342\n",
      " 343 344 345 346 347 348 349 350 351 352 353 354 355 356 357 358 359 360\n",
      " 361 362 363 364 365 366 367 368 369 370 371 372 373 374 375 376 377 378\n",
      " 379 380 381 382 383 384 385 386 387 388 389 390 391 392 393 394 395 396\n",
      " 397 398 399 400 401 402 403 404 405 406 407 408 410 409 411 412 413 414\n",
      " 415 416 417 418 419 420 421 422 423 424 425 426 427 428 429 430 431 432\n",
      " 433 434 435 436 437 438 439 440 441 442 443 444 445 447 449 453 446 448\n",
      " 450 451 452 454 455 456 457 459 458 460 461 462 463 464 465 466 467 468\n",
      " 469 470 471 472 473 474 475 476 477 478 479 480 481 482 483 484 485 486\n",
      " 487 488 489 490 491 492 493 494 495 496 497 498 499 500 501 502 503 504\n",
      " 505 506 507 508 509 510 511 512 513 514 515 516 517 518 519 520 521 522\n",
      " 523 524 525 526 527 528 529 530 531 532 533 534 535 536 537 538 539 540\n",
      " 541 543 542 544 545 546 547 548 549 550 551 552 553 554 555 556 557 558\n",
      " 559 560 561 562 563 564 565 566 567 568 569 570 571 572 573 574 575 576\n",
      " 577 578 579 580 581 582 583 584 585 586 587 588 589 590 591 592 593 594\n",
      " 595 596 597 598 599 600 601 602 603 604 605 606 607 608 609 610 611 612\n",
      " 613 614 615 616 617 618 619 620 621 622 623 624 625 626 627 628 629 630\n",
      " 631 632 633 634 635 636 637 638 639 640 641 642 644 645 646 647 648 649\n",
      " 650 651 652 653 654 655 656 657 658 659 660 661 662 663 664 665 666 667\n",
      " 668 669 670 671 672 673 674 675 676 677 678 679 680 681 682 683 684 685\n",
      " 686 687 688 689 690 691 692 693 694 695 696 697 698 699 700 701 702 703\n",
      " 704 705 706 707 708 709 710 711] \n",
      "\n",
      "item_id : [ 1085983   999999   937406 ... 17179856   969932 18119016] \n",
      "\n",
      "quantity : [ 1  2  3  4  6  5  8  7 17 10 11 14 12 20 38 15  9 16 13 30 24 29  0 25\n",
      " 18 40 19 22 21 23] \n",
      "\n",
      "sales_value : [ 2.99  2.19  3.09 ... 40.26 27.47 33.37] \n",
      "\n",
      "store_id : [  364 31742   396   315   288   400   324  2602   286 31782   414   446\n",
      "   329   424   440   317   367   427   296 32004 31642   358   442   323\n",
      "   327   406   299   401   382   375   436   333   359   391   345   322\n",
      "   634   441   330   374   381   368   319   352   356   321   443   306\n",
      "   402   790  3313    27   408   412   388   292   384   439   422   370\n",
      "   320   298   447   363   379   403   341   313   438   334 31862   448\n",
      " 31401   433   445   300   421   420   555   362   337   372   361   450\n",
      "   310   354   311   339   410   318   563   355   316   289   304   483\n",
      "   295   389   309   340 31762   297   293   369   432   429   338   380\n",
      " 31582   360   365   498   566   335   346  2915  3262  2866   404   678\n",
      "     1    46   569  2865  3182   476   724  3131  3525   366   154  2765\n",
      "  3439  1582  2898   616   594   582  3287  3257  2971    21  3036  3234\n",
      "  3356  2880  3165   721  2779  3235   149   578  3083  2841   669  2799\n",
      "  2840  2807  2786   343   486  3168  2804   176  3398  3526  3334    77\n",
      "  2815   695   707  3293   732   503  3278  3214  3217  3001   778   773\n",
      "  3076  3479   511   651  3333   514  3242   542  2957  2930  3027  3272\n",
      "   758   185   715   208  2836  2933  2773   595  3134  3417  2624   673\n",
      "  2538   244  3468   577  3087  2962   197  3091  3236  3270    45  2941\n",
      "  3191  3316   545   105  3274  3126  2955  1039  2887  2946   538  3431\n",
      "   215  2529  3267  3043   854   752   627 31863  3102  3248  2875  2747\n",
      "  3128  3124   949  3238  3177  2966  2918  3008  2761  2975   470   656\n",
      "  3381   160 32124  2783  2891  3294   134  2882   784   722  3283  2764\n",
      "  3206  3233  1542  2886   788  2676 31904  2974  2767  2852  2931  3394\n",
      "  2816  2888  1252  2762  3388  2748  3013  3111  2998  3210   984  1365\n",
      "   604  3073  1994   132  3418  3638   274   107  2972  2863 30685  3672\n",
      "   683  2849   622  1102  3000   523  3553  2686  3253  2817  3383  2731\n",
      "  3251   795 31822  3266  2981   736  3710  3072  3271  3149  3090    65\n",
      "   219   278   543   704  1210    22  2980  2924  3068    62  2937  3007\n",
      "  1010   696  2900  2903  2996  3461  3297  3163  2954  2818  2873   501\n",
      "  2694   484  3175   677  2950   887   589   895  2883  2991   714   644\n",
      "   625  3237   136  3024  3082  2734     2  3382  2945   276  3060   706\n",
      "  3146   115  2858  3464  1247   549   903   621    55 33863  1089  3298\n",
      "   189 33923  1132  2885   572   224    20 33904   720  2839  2942  2867\n",
      "    42  3311  2774  3042  3319 32064  4443    12  3064  2914  2848   635\n",
      "   771  2879  3015   672   753  3517  2959  1145  2768   668   779  2857\n",
      "  3112   128  1156   265  3005   660   112 34007  2869   698  2876   739\n",
      "   755  3035  2805  2919   567 33843  1679  1829  3478  2186  3487   178\n",
      "   687   528    37   602  3256  3181  3327  2987  3422 34011   227  3292\n",
      "   110   659  2920  2979 32269   184  2054  3092  3536  3197   618  3377\n",
      " 30632   643  3101   725   220 30733   762   518   632   108 34016  3113\n",
      "  3403   415   109  3390 31704   550  1098   901 32310  3851   203  1240\n",
      " 34038 34280   776  3483  3465    19   580   202   783   661   145  3359\n",
      " 32810  1547   535  3179  2961   670   246  3047  3385    53 34037  2844\n",
      "   180   213  1128   411  1084  3228] \n",
      "\n",
      "retail_disc : [ -0.4    0.    -0.99 ... -21.49 -22.54 -27.02] \n",
      "\n",
      "trans_time : [1642 1520  946 ...  326  423  429] \n",
      "\n",
      "week_no : [  1   2   3   4   5   6   7   8   9  10  11  12  13  14  15  16  17  18\n",
      "  19  20  21  22  23  24  25  26  27  28  29  30  31  32  33  35  34  36\n",
      "  37  38  39  40  41  42  43  44  45  46  47  48  49  50  51  52  53  54\n",
      "  55  56  57  58  59  60  61  62  63  64  65  66  67  68  69  70  71  72\n",
      "  73  74  75  76  77  78  79  80  81  82  83  84  85  86  87  88  89  90\n",
      "  91  92  93  94  95  96  97  98  99 100 101 102] \n",
      "\n",
      "coupon_disc : [  0.    -1.    -0.55  -0.5   -0.25  -2.89  -3.    -2.    -0.3   -0.4\n",
      "  -0.75  -5.    -0.35  -1.5   -6.   -16.    -1.4   -0.45  -0.9   -5.99\n",
      "  -0.6   -9.99  -3.99  -0.49  -4.    -2.49 -12.    -3.19  -2.99  -2.5\n",
      "  -2.59  -0.7   -1.1   -1.65  -3.3   -1.25  -3.6   -2.79  -2.2   -2.24\n",
      "  -4.99  -3.5   -1.98  -1.34 -15.58  -2.25 -13.98  -0.8  -13.99  -2.55\n",
      "  -3.05  -2.67  -8.98  -7.99  -1.69  -0.99  -4.29 -10.    -2.58 -14.39\n",
      "  -0.88  -3.18  -5.17  -3.29  -5.19  -1.05  -7.    -2.69  -1.2   -5.49\n",
      "  -1.19  -3.59  -7.79  -0.65  -2.19  -4.5   -5.59  -6.99  -1.75  -2.51\n",
      "  -1.8   -5.93  -0.2   -2.32  -4.77  -3.14  -8.    -5.98  -9.98  -5.38\n",
      "  -2.77 -29.99  -1.59  -8.99  -2.9   -1.39  -3.39  -2.75  -4.97  -4.59\n",
      "  -9.38  -6.58 -14.29  -1.67  -4.69  -2.88  -7.49 -20.    -3.79  -3.49\n",
      "  -1.3  -11.98  -0.15  -6.38  -2.34  -1.7   -1.09  -2.29  -1.89 -14.58\n",
      "  -2.84  -4.19  -0.79 -19.99  -3.38  -6.66  -2.26  -4.58  -3.69  -4.01\n",
      "  -2.09  -4.49  -3.75  -2.39  -7.98  -2.1   -1.55 -55.93  -1.47  -2.52\n",
      " -11.99 -14.98 -16.98  -6.88  -5.69  -1.49  -2.68  -4.79 -12.99  -3.34\n",
      "  -0.85  -3.54  -1.99  -1.33 -10.99  -1.29  -7.29  -7.5   -3.45  -6.69\n",
      "  -5.39 -15.   -34.    -8.39  -9.    -1.76  -0.68 -10.29 -20.99  -2.87\n",
      "  -5.04  -0.1   -1.35  -3.84  -2.97  -1.85  -3.17  -4.39  -1.88  -1.24\n",
      "  -2.61  -5.48  -3.09  -6.13  -5.29  -3.35  -2.07  -6.77  -5.1   -3.2\n",
      "  -3.95  -0.95  -5.51 -15.99 -11.49  -4.89  -3.89 -15.98 -23.98 -17.99\n",
      "  -3.25  -3.74  -4.37  -4.32  -0.43  -1.15  -0.39  -1.93  -0.09  -0.08\n",
      "  -4.33  -2.4   -1.26  -1.79  -4.38  -2.8   -1.08  -1.45] \n",
      "\n",
      "coupon_match_disc : [ 0.   -0.45 -0.5  -0.25 -0.3  -0.4  -0.35 -0.9  -1.35 -2.7  -1.8  -0.8\n",
      " -0.7  -1.   -0.12 -0.55 -0.6  -0.2  -0.75 -0.65 -0.15 -1.2  -0.49 -1.5\n",
      " -0.95 -0.85 -2.45 -1.05 -2.   -0.1 ] \n",
      "\n",
      "price : [ 2.99        2.19        3.09       ... 19.86        2.04333333\n",
      "  4.3625    ] \n",
      "\n"
     ]
    }
   ],
   "source": [
    "for col in data.columns:\n",
    "    print(col, ':', data[col].unique(), '\\n')"
   ]
  },
  {
   "cell_type": "code",
   "execution_count": 28,
   "metadata": {
    "execution": {
     "iopub.execute_input": "2021-10-26T14:59:02.702794Z",
     "iopub.status.busy": "2021-10-26T14:59:02.702505Z",
     "iopub.status.idle": "2021-10-26T14:59:02.764359Z",
     "shell.execute_reply": "2021-10-26T14:59:02.763491Z",
     "shell.execute_reply.started": "2021-10-26T14:59:02.702764Z"
    }
   },
   "outputs": [
    {
     "data": {
      "text/plain": [
       "item_id                 92353\n",
       "manufacturer             6476\n",
       "department                 44\n",
       "brand                       2\n",
       "commodity_desc            308\n",
       "sub_commodity_desc       2383\n",
       "curr_size_of_product     4345\n",
       "dtype: int64"
      ]
     },
     "execution_count": 28,
     "metadata": {},
     "output_type": "execute_result"
    }
   ],
   "source": [
    "item_features.nunique()"
   ]
  },
  {
   "cell_type": "code",
   "execution_count": 29,
   "metadata": {
    "execution": {
     "iopub.execute_input": "2021-10-26T14:59:08.256161Z",
     "iopub.status.busy": "2021-10-26T14:59:08.255841Z",
     "iopub.status.idle": "2021-10-26T14:59:08.321169Z",
     "shell.execute_reply": "2021-10-26T14:59:08.320550Z",
     "shell.execute_reply.started": "2021-10-26T14:59:08.256129Z"
    }
   },
   "outputs": [
    {
     "name": "stdout",
     "output_type": "stream",
     "text": [
      "item_id : [   25671    26081    26093 ... 18293696 18294080 18316298] \n",
      "\n",
      "manufacturer : [   2   69   16 ... 2748 4868 2227] \n",
      "\n",
      "department : ['GROCERY' 'MISC. TRANS.' 'PASTRY' 'DRUG GM' 'MEAT-PCKGD' 'SEAFOOD-PCKGD'\n",
      " 'PRODUCE' 'NUTRITION' 'DELI' 'COSMETICS' 'MEAT' 'FLORAL'\n",
      " 'TRAVEL & LEISUR' 'SEAFOOD' 'MISC SALES TRAN' 'SALAD BAR' 'KIOSK-GAS'\n",
      " 'ELECT &PLUMBING' 'GRO BAKERY' 'GM MERCH EXP' 'FROZEN GROCERY'\n",
      " 'COUP/STR & MFG' 'SPIRITS' 'GARDEN CENTER' 'TOYS' 'CHARITABLE CONT'\n",
      " 'RESTAURANT' 'RX' 'PROD-WHS SALES' 'MEAT-WHSE' 'DAIRY DELI' 'CHEF SHOPPE'\n",
      " 'HBC' 'DELI/SNACK BAR' 'PORK' 'AUTOMOTIVE' 'VIDEO RENTAL' ' '\n",
      " 'CNTRL/STORE SUP' 'HOUSEWARES' 'POSTAL CENTER' 'PHOTO' 'VIDEO'\n",
      " 'PHARMACY SUPPLY'] \n",
      "\n",
      "brand : ['National' 'Private'] \n",
      "\n",
      "commodity_desc : ['FRZN ICE' 'NO COMMODITY DESCRIPTION' 'BREAD' 'FRUIT - SHELF STABLE'\n",
      " 'COOKIES/CONES' 'SPICES & EXTRACTS' 'VITAMINS' 'BREAKFAST SWEETS'\n",
      " 'PNT BTR/JELLY/JAMS' 'ICE CREAM/MILK/SHERBTS' 'MAGAZINE' 'AIR CARE'\n",
      " 'CHEESE' 'SHORTENING/OIL' 'COFFEE' 'DIETARY AID PRODUCTS'\n",
      " 'PAPER HOUSEWARES' 'BAKED BREAD/BUNS/ROLLS' 'VEGETABLES - SHELF STABLE'\n",
      " 'HISPANIC' 'DINNER MXS:DRY' 'CONDIMENTS/SAUCES' 'FRZN VEGETABLE/VEG DSH'\n",
      " 'BAKING NEEDS' 'DINNER SAUSAGE' 'FRZN FRUITS' 'SEAFOOD - FROZEN'\n",
      " 'HOUSEHOLD CLEANG NEEDS' 'FD WRAPS/BAGS/TRSH BG' 'DRY MIX DESSERTS'\n",
      " 'PICKLE/RELISH/PKLD VEG' 'CAKES' 'BAKING MIXES' 'POTATOES'\n",
      " 'FLUID MILK PRODUCTS' 'SOUP' 'BAKED SWEET GOODS' 'COOKIES'\n",
      " 'DRY BN/VEG/POTATO/RICE' 'FACIAL TISS/DNR NAPKIN' 'FROZEN PIZZA' 'EGGS'\n",
      " 'REFRGRATD DOUGH PRODUCTS' 'HOT CEREAL' 'COLD CEREAL' 'SUGARS/SWEETNERS'\n",
      " 'SEAFOOD - SHELF STABLE' 'POPCORN' 'CANNED JUICES'\n",
      " 'STATIONERY & SCHOOL SUPPLIES' 'COLD AND FLU' 'BABY HBC' 'BAG SNACKS'\n",
      " 'BEANS - CANNED GLASS & MW' 'FROZEN MEAT' 'SOAP - LIQUID & BAR' 'ROLLS'\n",
      " 'NON-DAIRY BEVERAGES' 'KITCHEN GADGETS' 'CRACKERS/MISC BKD FD'\n",
      " 'CONVENIENT BRKFST/WHLSM SNACKS' 'CHIPS&SNACKS' 'CANDY - PACKAGED'\n",
      " 'SOFT DRINKS' 'HAIR CARE PRODUCTS' 'CANDY - CHECKLANE' 'BUTTER'\n",
      " 'FRZN MEAT/MEAT DINNERS' 'SHAVING CARE PRODUCTS'\n",
      " 'WATER - CARBONATED/FLVRD DRINK' 'FRZN BREAKFAST FOODS'\n",
      " 'MILK BY-PRODUCTS' 'FIRST AID PRODUCTS' 'NEWSPAPER' 'SALADS/DIPS'\n",
      " 'INSECTICIDES' 'ORGANICS FRUIT & VEGETABLES' 'ELECTRICAL SUPPPLIES'\n",
      " 'LAUNDRY DETERGENTS' 'JUICE' 'ISOTONIC DRINKS' 'FRZN JCE CONC/DRNKS'\n",
      " 'LAUNDRY ADDITIVES' 'IRONING AND CHEMICALS' 'TEAS' 'DRY NOODLES/PASTA'\n",
      " 'PASTA SAUCE' 'PROCESSED' 'MAKEUP AND TREATMENT' 'ANALGESICS'\n",
      " 'HOSIERY/SOCKS' 'CAT FOOD' 'BATTERIES' 'MOLASSES/SYRUP/PANCAKE MIXS'\n",
      " 'BOOKSTORE' 'BATH TISSUES' 'FROZEN PIE/DESSERTS' 'MEAT - SHELF STABLE'\n",
      " 'MEAT - MISC' 'SPRING/SUMMER SEASONAL' 'LUNCHMEAT'\n",
      " 'BREAKFAST SAUSAGE/SANDWICHES' 'DRIED FRUIT' 'CHARCOAL AND LIGHTER FLUID'\n",
      " 'SALD DRSNG/SNDWCH SPRD' 'LIQUOR' 'FROZEN BREAD/DOUGH'\n",
      " 'HAND/BODY/FACIAL PRODUCTS' 'SNACK NUTS' 'ORAL HYGIENE PRODUCTS'\n",
      " 'BEERS/ALES' 'INFANT FORMULA' 'REFRGRATD JUICES/DRNKS' 'YOGURT'\n",
      " 'DEODORANTS' 'BACON' 'DOG FOODS' 'FRZN NOVELTIES/WTR ICE'\n",
      " 'FEMININE HYGIENE' 'COFFEE FILTERS' 'BROOMS AND MOPS'\n",
      " 'GREETING CARDS/WRAP/PARTY SPLY' 'WAREHOUSE SNACKS' 'DRY SAUCES/GRAVY'\n",
      " 'MARGARINES' 'PWDR/CRYSTL DRNK MX' 'OLIVES' 'MISC. DAIRY' 'COCOA MIXES'\n",
      " 'SALAD MIX' 'HARDWARE SUPPLIES' 'HOT DOGS' 'FLOUR & MEALS'\n",
      " 'SYRUPS/TOPPINGS' 'ANTACIDS' 'BLEACH' 'PAPER TOWELS' 'STONE FRUIT'\n",
      " 'MELONS' 'BERRIES' 'CHICKEN' 'SANDWICHES' 'GRAPES' 'CARROTS' 'APPLES'\n",
      " 'HERBS' 'CIGARETTES' 'HEAT/SERVE' 'BABY FOODS' 'SQUASH'\n",
      " 'VEGETABLES - ALL OTHERS' 'DELI MEATS' 'BEEF' 'FRZN POTATOES' 'CORN'\n",
      " 'CHEESES' 'MISCELLANEOUS' 'CITRUS' 'FROZEN' 'DISHWASH DETERGENTS'\n",
      " 'SWEET GOODS & SNACKS' 'NUTS' 'TROPICAL FRUIT' 'CHICKEN/POULTRY'\n",
      " 'BROCCOLI/CAULIFLOWER' 'SINUS AND ALLERGY' 'MUSHROOMS' 'CANNED MILK'\n",
      " 'ONIONS' 'INFANT CARE PRODUCTS' 'TURKEY' 'WATER' 'CAT LITTER'\n",
      " 'SEAFOOD-FRESH' 'PIES' 'TOBACCO OTHER' 'SEAFOOD - MISC'\n",
      " 'FILM AND CAMERA PRODUCTS' 'PEPPERS-ALL' 'PLASTIC HOUSEWARES'\n",
      " 'FOOT CARE PRODUCTS' 'SHOE CARE' 'FIREWORKS' 'FLORAL-FLOWERING PLANTS'\n",
      " 'SUNTAN' 'CEREAL/BREAKFAST' 'CANDLES/ACCESSORIES' 'COOKWARE & BAKEWARE'\n",
      " 'DISPOSIBLE FOILWARE' 'FLORAL-FRESH CUT' 'VEGETABLES SALAD'\n",
      " 'AUDIO/VIDEO PRODUCTS' 'REFRIGERATED' 'FROZEN CHICKEN' 'SMOKED MEATS'\n",
      " 'VALUE ADDED VEGETABLES' 'EYE AND EAR CARE PRODUCTS'\n",
      " 'SNKS/CKYS/CRKR/CNDY' 'FLORAL BALLOONS' 'AUTOMOTIVE PRODUCTS' 'LAXATIVES'\n",
      " 'DOMESTIC WINE' 'MISC WINE' 'OVERNIGHT PHOTOFINISHING' 'TOMATOES' 'PEARS'\n",
      " 'FITNESS&DIET' 'BATH' 'COUPON/MISC ITEMS' 'PORK'\n",
      " 'PERSONAL CARE APPLIANCES' 'CONDIMENTS' 'BEVERAGE' 'SNACKS'\n",
      " 'VALUE ADDED FRUIT' 'SALAD BAR' 'HAIR CARE ACCESSORIES'\n",
      " 'DIAPERS & DISPOSABLES' 'SMOKING CESSATIONS' 'FUEL' 'PREPARED FOOD'\n",
      " 'PET CARE SUPPLIES' 'COFFEE SHOP' 'COUPON' '(CORP USE ONLY)' 'ROSES'\n",
      " 'PROD SUPPLIES' 'J-HOOKS' 'RICE CAKES' 'LAMB' 'IMPORTED WINE' 'UNKNOWN'\n",
      " 'DELI SPECIALTIES (RETAIL PK)' 'PREPARED/PKGD FOODS' 'FAMILY PLANNING'\n",
      " 'EASTER' 'CIGARS' 'PACKAGED NATURAL SNACKS' 'FLORAL-FOLIAGE PLANTS'\n",
      " 'MISCELLANEOUS CROUTONS' 'COUPONS/STORE & MFG' 'APPAREL'\n",
      " 'PREPAID WIRELESS&ACCESSORIES' 'HOME FREEZING & CANNING SUPPLY'\n",
      " 'IN-STORE PHOTOFINISHING' 'ADULT INCONTINENCE' 'PARTY TRAYS'\n",
      " 'DOMESTIC GOODS' 'FALL AND WINTER SEASONAL' 'TOYS AND GAMES'\n",
      " 'LAWN AND GARDEN SHOP' 'GLASSWARE & DINNERWARE' 'BAKING'\n",
      " 'RESTRICTED DIET' 'FRAGRANCES' 'HALLOWEEN' 'BAKERY PARTY TRAYS' 'SEWING'\n",
      " 'NATURAL HBC' 'BIRD SEED' 'GARDEN CENTER' 'COSMETIC ACCESSORIES'\n",
      " 'ETHNIC PERSONAL CARE' 'GLASSES/VISION AIDS' 'FLORAL- HARD GOODS'\n",
      " 'BABYFOOD' 'TOYS' 'CHRISTMAS  SEASONAL' 'COFFEE SHOP SWEET GOODS&RETAIL'\n",
      " 'DRY TEA/COFFEE/COCO MIX' 'VEAL' 'CONTINUITIES'\n",
      " 'PORTABLE ELECTRIC APPLIANCES' 'VALENTINE' 'FROZEN - BOXED(GROCERY)'\n",
      " 'SERVICE BEVERAGE' 'GIFT & FRUIT BASKETS' 'SUSHI' 'PROPANE'\n",
      " 'FRZN SEAFOOD' 'HOME FURNISHINGS' 'PHARMACY' 'NATURAL VITAMINS'\n",
      " 'DELI SUPPLIES' 'WATCHES/CALCULATORS/LOBBY' 'SEASONAL'\n",
      " 'BOUQUET (NON ROSE)' 'HOME HEALTH CARE' 'RW FRESH PROCESSED MEAT'\n",
      " 'EXOTIC GAME/FOWL' 'NDAIRY/TEAS/JUICE/SOD' 'TICKETS' 'MEAT SUPPLIES'\n",
      " 'NEW AGE' 'FLORAL-ACCESSORIES' 'EASTER LILY' 'MISCELLANEOUS HBC'\n",
      " 'BULK FOODS' 'NON EDIBLE PRODUCTS' 'QUICK SERVICE' 'BOTTLE DEPOSITS' ' '\n",
      " 'DOLLAR VALUE PRODUCTS' 'MISCELLANEOUS(CORP USE ONLY)'\n",
      " 'SPORTS MEMORABLILIA' 'LONG DISTANCE CALLING CARDS' 'PKG.SEAFOOD MISC'\n",
      " 'FROZEN PACKAGE MEAT'] \n",
      "\n",
      "sub_commodity_desc : ['ICE - CRUSHED/CUBED' 'NO SUBCOMMODITY DESCRIPTION'\n",
      " 'BREAD:ITALIAN/FRENCH' ... 'SEMI MOIST CAT FOOD: BOX' 'BERRIES OTHER'\n",
      " 'ROSES OTHER'] \n",
      "\n",
      "curr_size_of_product : ['22 LB' ' ' '50 OZ' ... '6.3 IN' '35 LD' '2 LTR PET'] \n",
      "\n"
     ]
    }
   ],
   "source": [
    "for col in item_features.columns:\n",
    "    print(col, ':', item_features[col].unique(), '\\n')"
   ]
  },
  {
   "cell_type": "code",
   "execution_count": 30,
   "metadata": {
    "execution": {
     "iopub.execute_input": "2021-10-26T15:00:20.989349Z",
     "iopub.status.busy": "2021-10-26T15:00:20.988537Z",
     "iopub.status.idle": "2021-10-26T15:00:26.402624Z",
     "shell.execute_reply": "2021-10-26T15:00:26.401814Z",
     "shell.execute_reply.started": "2021-10-26T15:00:20.989300Z"
    }
   },
   "outputs": [
    {
     "data": {
      "image/png": "[encoded data removed]",
      "text/plain": [
       "<Figure size 1152x1152 with 16 Axes>"
      ]
     },
     "metadata": {
      "needs_background": "light"
     },
     "output_type": "display_data"
    }
   ],
   "source": [
    "#Первый год\n",
    "data[data['week_no']<=52].hist(figsize=(16,16), bins=100, grid=True);"
   ]
  },
  {
   "cell_type": "code",
   "execution_count": 31,
   "metadata": {
    "execution": {
     "iopub.execute_input": "2021-10-26T15:01:19.005454Z",
     "iopub.status.busy": "2021-10-26T15:01:19.004287Z",
     "iopub.status.idle": "2021-10-26T15:01:24.465769Z",
     "shell.execute_reply": "2021-10-26T15:01:24.464817Z",
     "shell.execute_reply.started": "2021-10-26T15:01:19.005398Z"
    }
   },
   "outputs": [
    {
     "data": {
      "image/png": "[encoded data removed]",
      "text/plain": [
       "<Figure size 1152x1152 with 16 Axes>"
      ]
     },
     "metadata": {
      "needs_background": "light"
     },
     "output_type": "display_data"
    }
   ],
   "source": [
    "#второй год\n",
    "data[data['week_no']>52].hist(figsize=(16,16), bins=100, grid=True);"
   ]
  },
  {
   "cell_type": "code",
   "execution_count": 32,
   "metadata": {
    "execution": {
     "iopub.status.busy": "2021-10-26T14:53:32.040829Z",
     "iopub.status.idle": "2021-10-26T14:53:32.041270Z",
     "shell.execute_reply": "2021-10-26T14:53:32.041050Z",
     "shell.execute_reply.started": "2021-10-26T14:53:32.041025Z"
    }
   },
   "outputs": [
    {
     "data": {
      "text/plain": [
       "<AxesSubplot:xlabel='basket_id', ylabel='Density'>"
      ]
     },
     "execution_count": 32,
     "metadata": {},
     "output_type": "execute_result"
    },
    {
     "data": {
      "image/png": "[encoded data removed]",
      "text/plain": [
       "<Figure size 432x288 with 1 Axes>"
      ]
     },
     "metadata": {
      "needs_background": "light"
     },
     "output_type": "display_data"
    }
   ],
   "source": [
    "list = data.columns\n",
    "sns.kdeplot(data=data[list[1]])"
   ]
  },
  {
   "cell_type": "code",
   "execution_count": 37,
   "metadata": {
    "execution": {
     "iopub.status.busy": "2021-10-26T14:53:32.042511Z",
     "iopub.status.idle": "2021-10-26T14:53:32.043007Z",
     "shell.execute_reply": "2021-10-26T14:53:32.042779Z",
     "shell.execute_reply.started": "2021-10-26T14:53:32.042752Z"
    }
   },
   "outputs": [
    {
     "data": {
      "text/plain": [
       "<AxesSubplot:xlabel='basket_id', ylabel='Density'>"
      ]
     },
     "execution_count": 37,
     "metadata": {},
     "output_type": "execute_result"
    },
    {
     "data": {
      "image/png": "[encoded data removed]",
      "text/plain": [
       "<Figure size 432x288 with 1 Axes>"
      ]
     },
     "metadata": {
      "needs_background": "light"
     },
     "output_type": "display_data"
    }
   ],
   "source": [
    "sns.kdeplot(data=data[list[1]],fill=True)\n"
   ]
  },
  {
   "cell_type": "code",
   "execution_count": 38,
   "metadata": {
    "execution": {
     "iopub.status.busy": "2021-10-26T14:53:32.047043Z",
     "iopub.status.idle": "2021-10-26T14:53:32.047629Z",
     "shell.execute_reply": "2021-10-26T14:53:32.047371Z",
     "shell.execute_reply.started": "2021-10-26T14:53:32.047341Z"
    }
   },
   "outputs": [
    {
     "data": {
      "text/plain": [
       "<AxesSubplot:xlabel='day', ylabel='Density'>"
      ]
     },
     "execution_count": 38,
     "metadata": {},
     "output_type": "execute_result"
    },
    {
     "data": {
      "image/png": "[encoded data removed]",
      "text/plain": [
       "<Figure size 432x288 with 1 Axes>"
      ]
     },
     "metadata": {
      "needs_background": "light"
     },
     "output_type": "display_data"
    }
   ],
   "source": [
    "sns.kdeplot(data=data[list[2]],fill=True)"
   ]
  },
  {
   "cell_type": "code",
   "execution_count": 39,
   "metadata": {
    "execution": {
     "iopub.execute_input": "2021-10-26T15:03:10.302439Z",
     "iopub.status.busy": "2021-10-26T15:03:10.302105Z",
     "iopub.status.idle": "2021-10-26T15:03:16.646423Z",
     "shell.execute_reply": "2021-10-26T15:03:16.645544Z",
     "shell.execute_reply.started": "2021-10-26T15:03:10.302403Z"
    }
   },
   "outputs": [
    {
     "data": {
      "text/plain": [
       "<AxesSubplot:xlabel='week_no', ylabel='Density'>"
      ]
     },
     "execution_count": 39,
     "metadata": {},
     "output_type": "execute_result"
    },
    {
     "data": {
      "image/png": "[encoded data removed]",
      "text/plain": [
       "<Figure size 432x288 with 1 Axes>"
      ]
     },
     "metadata": {
      "needs_background": "light"
     },
     "output_type": "display_data"
    }
   ],
   "source": [
    "sns.kdeplot(data=data['week_no'],fill=True)"
   ]
  },
  {
   "cell_type": "code",
   "execution_count": 36,
   "metadata": {
    "execution": {
     "iopub.execute_input": "2021-10-26T15:03:16.648753Z",
     "iopub.status.busy": "2021-10-26T15:03:16.648310Z",
     "iopub.status.idle": "2021-10-26T15:03:22.018546Z",
     "shell.execute_reply": "2021-10-26T15:03:22.017507Z",
     "shell.execute_reply.started": "2021-10-26T15:03:16.648688Z"
    }
   },
   "outputs": [
    {
     "data": {
      "text/plain": [
       "<AxesSubplot:xlabel='price', ylabel='Density'>"
      ]
     },
     "execution_count": 36,
     "metadata": {},
     "output_type": "execute_result"
    },
    {
     "data": {
      "image/png": "[encoded data removed]",
      "text/plain": [
       "<Figure size 432x288 with 1 Axes>"
      ]
     },
     "metadata": {
      "needs_background": "light"
     },
     "output_type": "display_data"
    }
   ],
   "source": [
    "sns.kdeplot(data=data['price'],fill=True)"
   ]
  },
  {
   "cell_type": "code",
   "execution_count": null,
   "metadata": {
    "execution": {
     "iopub.execute_input": "2021-10-26T15:14:31.857904Z",
     "iopub.status.busy": "2021-10-26T15:14:31.857408Z",
     "iopub.status.idle": "2021-10-26T15:14:38.087371Z",
     "shell.execute_reply": "2021-10-26T15:14:38.086435Z",
     "shell.execute_reply.started": "2021-10-26T15:14:31.857867Z"
    }
   },
   "outputs": [],
   "source": [
    "sns.kdeplot(data=data['trans_time'],fill=True)"
   ]
  },
  {
   "cell_type": "code",
   "execution_count": null,
   "metadata": {
    "execution": {
     "iopub.execute_input": "2021-10-26T15:14:09.563365Z",
     "iopub.status.busy": "2021-10-26T15:14:09.563046Z",
     "iopub.status.idle": "2021-10-26T15:14:09.998025Z",
     "shell.execute_reply": "2021-10-26T15:14:09.997159Z",
     "shell.execute_reply.started": "2021-10-26T15:14:09.563334Z"
    }
   },
   "outputs": [],
   "source": [
    "data.describe().style.set_precision(0)"
   ]
  },
  {
   "cell_type": "markdown",
   "metadata": {},
   "source": [
    "Больше всего покупок совершалось в районе 18-43\n",
    "\n",
    "Популярный магазин № 424\n",
    "\n",
    "Виден рост кол-во покупок в начале, далее рост стабилизируется.\n",
    "больше всего покупок на 558 день,это 193 день второго года от начала отсчета. Если считать, что отсчет велся от 1 января, то 193 день это 11 июля. Странно что 11 июля совершенно больше всего покупок, обычно больше всего покупок совершается в дни распродаж в конце года, то можно считать что отсчет в датасете велся не с 1 января и привязываться к датам не стоит.\n"
   ]
  },
  {
   "cell_type": "code",
   "execution_count": null,
   "metadata": {
    "execution": {
     "iopub.status.busy": "2021-10-26T14:53:32.053306Z",
     "iopub.status.idle": "2021-10-26T14:53:32.053611Z",
     "shell.execute_reply": "2021-10-26T14:53:32.053466Z",
     "shell.execute_reply.started": "2021-10-26T14:53:32.053450Z"
    }
   },
   "outputs": [],
   "source": [
    "import matplotlib.pyplot as plt\n",
    "%matplotlib inline"
   ]
  },
  {
   "cell_type": "code",
   "execution_count": null,
   "metadata": {
    "execution": {
     "iopub.execute_input": "2021-10-26T15:32:22.872769Z",
     "iopub.status.busy": "2021-10-26T15:32:22.872476Z",
     "iopub.status.idle": "2021-10-26T15:32:45.188101Z",
     "shell.execute_reply": "2021-10-26T15:32:45.186674Z",
     "shell.execute_reply.started": "2021-10-26T15:32:22.872716Z"
    }
   },
   "outputs": [],
   "source": [
    "f, ax = plt.subplots(figsize=(7, 6))\n",
    "ax.set_yscale(\"log\")\n",
    "sns.histplot(data=data['item_id'])"
   ]
  },
  {
   "cell_type": "code",
   "execution_count": null,
   "metadata": {},
   "outputs": [],
   "source": [
    "f, ax = plt.subplots(figsize=(7, 6))\n",
    "ax.set_yscale(\"log\")\n",
    "\n",
    "sns.histplot(data=data['quantity'])"
   ]
  },
  {
   "cell_type": "markdown",
   "metadata": {},
   "source": [
    "**3.** LightFM "
   ]
  },
  {
   "cell_type": "code",
   "execution_count": null,
   "metadata": {
    "execution": {
     "iopub.execute_input": "2021-10-26T15:35:09.860132Z",
     "iopub.status.busy": "2021-10-26T15:35:09.859807Z",
     "iopub.status.idle": "2021-10-26T15:35:13.602107Z",
     "shell.execute_reply": "2021-10-26T15:35:13.601093Z",
     "shell.execute_reply.started": "2021-10-26T15:35:09.860097Z"
    }
   },
   "outputs": [],
   "source": [
    "data = pd.read_csv('../input/hw5-data/transaction_data.csv')\n",
    "item_features = pd.read_csv('../input/hw5-data/product.csv')\n",
    "user_features = pd.read_csv('../input/hw5-data/hh_demographic.csv')"
   ]
  },
  {
   "cell_type": "code",
   "execution_count": null,
   "metadata": {
    "execution": {
     "iopub.execute_input": "2021-10-26T15:35:35.095316Z",
     "iopub.status.busy": "2021-10-26T15:35:35.094987Z",
     "iopub.status.idle": "2021-10-26T15:35:35.103168Z",
     "shell.execute_reply": "2021-10-26T15:35:35.102048Z",
     "shell.execute_reply.started": "2021-10-26T15:35:35.095285Z"
    }
   },
   "outputs": [],
   "source": [
    "data.shape"
   ]
  }
 ],
 "metadata": {
  "kernelspec": {
   "display_name": "Python 3 (ipykernel)",
   "language": "python",
   "name": "python3"
  },
  "language_info": {
   "codemirror_mode": {
    "name": "ipython",
    "version": 3
   },
   "file_extension": ".py",
   "mimetype": "text/x-python",
   "name": "python",
   "nbconvert_exporter": "python",
   "pygments_lexer": "ipython3",
   "version": "3.8.11"
  }
 },
 "nbformat": 4,
 "nbformat_minor": 4
}
