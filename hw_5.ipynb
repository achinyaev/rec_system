{
 "cells": [
  {
   "cell_type": "markdown",
   "metadata": {},
   "source": [
    "## Теоретическая часть"
   ]
  },
  {
   "cell_type": "markdown",
   "metadata": {},
   "source": [
    "\n",
    "1. Ответьте на вопросы:  \n",
    "В чем принципиальное отличие гибридных рекомендательных систем от коллаборативной филтьтрации?  \n",
    "Приведите 2-3 примера задач, в которых необходимо использовать гибридные системы  \n",
    "\n",
    "### Ответ ###\n",
    "*Отличие коллаборативной фильтрации от гибридных рекомендательных систем, заключается в следующем, коллаборативная фильтрация этот один из методов используемых для построения рекомендательных систем, основанный на предпочтениях похожих пользователей, а гибридная рекомендательная система явлеяется системой и может в себя включать разные методы, в том числе и метод коллаборативной фильтрации.*\n",
    "\n",
    "\n"
   ]
  },
  {
   "cell_type": "markdown",
   "metadata": {},
   "source": [
    "2.  Прочитайте статью про поиск на hh.ru https://habr.com/ru/company/hh/blog/347276/\n",
    "Нам интересна именно рекомендательная система, раздел \"Производительность системы\" можно пропустить\n",
    "Какие основные отличия предложенной системы от тех подходов, которые мы разбирали на семинарах? Какие проблемы могут возникнуть при выводе такой модели в продакшен?\n",
    "\n",
    "### Ответ ###\n",
    "Коллеги из hh.ru используют в своей рек.системе журналы действий пользователей, возрастающее усложение и расчетные статистические признаки их система гораздо сложнее чем рассматривали на семинаре, но на мой взгляд подход у нас с ними общие. \n",
    "При выводе в продакшен, результат может прийти не сразу, системе придется потратить время на обучение, а коллегам на доработку журналов действий пользователей, всё сразу нельзя учесть."
   ]
  },
  {
   "cell_type": "markdown",
   "metadata": {},
   "source": [
    "3. На вебинаре мы рассматривали модель LightFM (https://making.lyst.com/lightfm/docs/lightfm.html). В работе Data Scientist'а важную часть занимает research - исследование существующих архитектур и разбор научных статей, в которых они описываются. Вам предлагается изчуть оригинальную статью про LightFM https://arxiv.org/pdf/1507.08439.pdf и ответить на следующие вопросы:  \n",
    "1) Какой датасет используют авторы?  \n",
    "2) Что используют в качестве признаков?  \n",
    "3) С какими моделями сравнивают LightFM? Опишите их основные идеи кратко  \n",
    "\n",
    "### Ответ ###\n",
    "1 и 2. датасеты MovieLens 10M (relevance,rating,timestamp,title,genres) и CrossValidated ( questions,  answers)<br>\n",
    "3. LSI-LR, LSI-UP,MF.  MF - матричная модель факторизации пользователь*элемент с функцией сигмоида. LSI-LR основанная на контенте матричная модель с линейной регресией. LSI-UP - гибридная модель базирующаяся на профилях пользователей с сингулярным разложением матрицы"
   ]
  },
  {
   "cell_type": "markdown",
   "metadata": {},
   "source": [
    "## Практическая часть\n"
   ]
  },
  {
   "cell_type": "markdown",
   "metadata": {},
   "source": [
    "### 1. Модуль SRC"
   ]
  },
  {
   "cell_type": "markdown",
   "metadata": {},
   "source": [
    "На вебинаре было рассказано про модуль src. Он приложен в материалах. Скачайте его, изучите структуру, импортируйте функции"
   ]
  },
  {
   "cell_type": "code",
   "execution_count": 1,
   "metadata": {},
   "outputs": [],
   "source": [
    "import numpy as np \n",
    "import pandas as pd\n",
    "\n",
    "from src.metrics import precision_at_k, recall_at_k\n",
    "from src.recommenders import MainRecommender\n",
    "from src.utils import prefilter_items\n",
    "\n",
    "import warnings\n",
    "warnings.filterwarnings('ignore')\n",
    "\n",
    "from scipy.sparse import csr_matrix, coo_matrix  \n",
    "import lightfm.evaluation\n",
    "import seaborn as sns\n",
    "\n",
    "import lightfm"
   ]
  },
  {
   "cell_type": "markdown",
   "metadata": {},
   "source": [
    "### 2. Работа с признаками"
   ]
  },
  {
   "cell_type": "markdown",
   "metadata": {},
   "source": [
    "У нас есть внешние данные. Что с ними не так? Чего не хватает?  \n",
    "\n",
    "Проведите исследование внешних данных и составьте какие-нибудь содержательные выводы.  \n",
    "Формально Вам нужно построить 3+ графиков (scatter plot, hist или что-то иное) и описать, что мы видим (например, товары такой-то категории болле часто покупаются в следующие дни недели или пользователи с большим достатком предпочитают такие-то товары).  \n",
    "Исследуйте те закономерности, которые Вам интересно, чем менее тривиальный вывод получается, тем лучше! "
   ]
  },
  {
   "cell_type": "code",
   "execution_count": 2,
   "metadata": {},
   "outputs": [],
   "source": [
    "data = pd.read_csv('../rec_data/transaction_data.csv')\n",
    "item_features = pd.read_csv('../rec_data/product.csv')\n",
    "user_features = pd.read_csv('../rec_data/hh_demographic.csv')"
   ]
  },
  {
   "cell_type": "code",
   "execution_count": 49,
   "metadata": {},
   "outputs": [
    {
     "data": {
      "text/plain": [
       "(False, False, False)"
      ]
     },
     "execution_count": 49,
     "metadata": {},
     "output_type": "execute_result"
    }
   ],
   "source": [
    "data.empty,item_features.empty,user_features.empty"
   ]
  },
  {
   "cell_type": "code",
   "execution_count": 3,
   "metadata": {},
   "outputs": [
    {
     "data": {
      "text/html": [
       "<div>\n",
       "<style scoped>\n",
       "    .dataframe tbody tr th:only-of-type {\n",
       "        vertical-align: middle;\n",
       "    }\n",
       "\n",
       "    .dataframe tbody tr th {\n",
       "        vertical-align: top;\n",
       "    }\n",
       "\n",
       "    .dataframe thead th {\n",
       "        text-align: right;\n",
       "    }\n",
       "</style>\n",
       "<table border=\"1\" class=\"dataframe\">\n",
       "  <thead>\n",
       "    <tr style=\"text-align: right;\">\n",
       "      <th></th>\n",
       "      <th>household_key</th>\n",
       "      <th>BASKET_ID</th>\n",
       "      <th>DAY</th>\n",
       "      <th>PRODUCT_ID</th>\n",
       "      <th>QUANTITY</th>\n",
       "      <th>SALES_VALUE</th>\n",
       "      <th>STORE_ID</th>\n",
       "      <th>RETAIL_DISC</th>\n",
       "      <th>TRANS_TIME</th>\n",
       "      <th>WEEK_NO</th>\n",
       "      <th>COUPON_DISC</th>\n",
       "      <th>COUPON_MATCH_DISC</th>\n",
       "    </tr>\n",
       "  </thead>\n",
       "  <tbody>\n",
       "    <tr>\n",
       "      <th>0</th>\n",
       "      <td>2375</td>\n",
       "      <td>26984851472</td>\n",
       "      <td>1</td>\n",
       "      <td>1004906</td>\n",
       "      <td>1</td>\n",
       "      <td>1.39</td>\n",
       "      <td>364</td>\n",
       "      <td>-0.6</td>\n",
       "      <td>1631</td>\n",
       "      <td>1</td>\n",
       "      <td>0.0</td>\n",
       "      <td>0.0</td>\n",
       "    </tr>\n",
       "    <tr>\n",
       "      <th>1</th>\n",
       "      <td>2375</td>\n",
       "      <td>26984851472</td>\n",
       "      <td>1</td>\n",
       "      <td>1033142</td>\n",
       "      <td>1</td>\n",
       "      <td>0.82</td>\n",
       "      <td>364</td>\n",
       "      <td>0.0</td>\n",
       "      <td>1631</td>\n",
       "      <td>1</td>\n",
       "      <td>0.0</td>\n",
       "      <td>0.0</td>\n",
       "    </tr>\n",
       "    <tr>\n",
       "      <th>2</th>\n",
       "      <td>2375</td>\n",
       "      <td>26984851472</td>\n",
       "      <td>1</td>\n",
       "      <td>1036325</td>\n",
       "      <td>1</td>\n",
       "      <td>0.99</td>\n",
       "      <td>364</td>\n",
       "      <td>-0.3</td>\n",
       "      <td>1631</td>\n",
       "      <td>1</td>\n",
       "      <td>0.0</td>\n",
       "      <td>0.0</td>\n",
       "    </tr>\n",
       "  </tbody>\n",
       "</table>\n",
       "</div>"
      ],
      "text/plain": [
       "   household_key    BASKET_ID  DAY  PRODUCT_ID  QUANTITY  SALES_VALUE  \\\n",
       "0           2375  26984851472    1     1004906         1         1.39   \n",
       "1           2375  26984851472    1     1033142         1         0.82   \n",
       "2           2375  26984851472    1     1036325         1         0.99   \n",
       "\n",
       "   STORE_ID  RETAIL_DISC  TRANS_TIME  WEEK_NO  COUPON_DISC  COUPON_MATCH_DISC  \n",
       "0       364         -0.6        1631        1          0.0                0.0  \n",
       "1       364          0.0        1631        1          0.0                0.0  \n",
       "2       364         -0.3        1631        1          0.0                0.0  "
      ]
     },
     "execution_count": 3,
     "metadata": {},
     "output_type": "execute_result"
    }
   ],
   "source": [
    "data.head(3)"
   ]
  },
  {
   "cell_type": "code",
   "execution_count": 7,
   "metadata": {},
   "outputs": [
    {
     "data": {
      "text/html": [
       "<style type=\"text/css\">\n",
       "</style>\n",
       "<table id=\"T_1c28e_\">\n",
       "  <thead>\n",
       "    <tr>\n",
       "      <th class=\"blank level0\" >&nbsp;</th>\n",
       "      <th class=\"col_heading level0 col0\" >household_key</th>\n",
       "      <th class=\"col_heading level0 col1\" >BASKET_ID</th>\n",
       "      <th class=\"col_heading level0 col2\" >DAY</th>\n",
       "      <th class=\"col_heading level0 col3\" >PRODUCT_ID</th>\n",
       "      <th class=\"col_heading level0 col4\" >QUANTITY</th>\n",
       "      <th class=\"col_heading level0 col5\" >SALES_VALUE</th>\n",
       "      <th class=\"col_heading level0 col6\" >STORE_ID</th>\n",
       "      <th class=\"col_heading level0 col7\" >RETAIL_DISC</th>\n",
       "      <th class=\"col_heading level0 col8\" >TRANS_TIME</th>\n",
       "      <th class=\"col_heading level0 col9\" >WEEK_NO</th>\n",
       "      <th class=\"col_heading level0 col10\" >COUPON_DISC</th>\n",
       "      <th class=\"col_heading level0 col11\" >COUPON_MATCH_DISC</th>\n",
       "    </tr>\n",
       "  </thead>\n",
       "  <tbody>\n",
       "    <tr>\n",
       "      <th id=\"T_1c28e_level0_row0\" class=\"row_heading level0 row0\" >count</th>\n",
       "      <td id=\"T_1c28e_row0_col0\" class=\"data row0 col0\" >2595732</td>\n",
       "      <td id=\"T_1c28e_row0_col1\" class=\"data row0 col1\" >2595732</td>\n",
       "      <td id=\"T_1c28e_row0_col2\" class=\"data row0 col2\" >2595732</td>\n",
       "      <td id=\"T_1c28e_row0_col3\" class=\"data row0 col3\" >2595732</td>\n",
       "      <td id=\"T_1c28e_row0_col4\" class=\"data row0 col4\" >2595732</td>\n",
       "      <td id=\"T_1c28e_row0_col5\" class=\"data row0 col5\" >2595732</td>\n",
       "      <td id=\"T_1c28e_row0_col6\" class=\"data row0 col6\" >2595732</td>\n",
       "      <td id=\"T_1c28e_row0_col7\" class=\"data row0 col7\" >2595732</td>\n",
       "      <td id=\"T_1c28e_row0_col8\" class=\"data row0 col8\" >2595732</td>\n",
       "      <td id=\"T_1c28e_row0_col9\" class=\"data row0 col9\" >2595732</td>\n",
       "      <td id=\"T_1c28e_row0_col10\" class=\"data row0 col10\" >2595732</td>\n",
       "      <td id=\"T_1c28e_row0_col11\" class=\"data row0 col11\" >2595732</td>\n",
       "    </tr>\n",
       "    <tr>\n",
       "      <th id=\"T_1c28e_level0_row1\" class=\"row_heading level0 row1\" >mean</th>\n",
       "      <td id=\"T_1c28e_row1_col0\" class=\"data row1 col0\" >1272</td>\n",
       "      <td id=\"T_1c28e_row1_col1\" class=\"data row1 col1\" >34026199139</td>\n",
       "      <td id=\"T_1c28e_row1_col2\" class=\"data row1 col2\" >389</td>\n",
       "      <td id=\"T_1c28e_row1_col3\" class=\"data row1 col3\" >2891435</td>\n",
       "      <td id=\"T_1c28e_row1_col4\" class=\"data row1 col4\" >100</td>\n",
       "      <td id=\"T_1c28e_row1_col5\" class=\"data row1 col5\" >3</td>\n",
       "      <td id=\"T_1c28e_row1_col6\" class=\"data row1 col6\" >3143</td>\n",
       "      <td id=\"T_1c28e_row1_col7\" class=\"data row1 col7\" >-1</td>\n",
       "      <td id=\"T_1c28e_row1_col8\" class=\"data row1 col8\" >1562</td>\n",
       "      <td id=\"T_1c28e_row1_col9\" class=\"data row1 col9\" >56</td>\n",
       "      <td id=\"T_1c28e_row1_col10\" class=\"data row1 col10\" >-0</td>\n",
       "      <td id=\"T_1c28e_row1_col11\" class=\"data row1 col11\" >-0</td>\n",
       "    </tr>\n",
       "    <tr>\n",
       "      <th id=\"T_1c28e_level0_row2\" class=\"row_heading level0 row2\" >std</th>\n",
       "      <td id=\"T_1c28e_row2_col0\" class=\"data row2 col0\" >726</td>\n",
       "      <td id=\"T_1c28e_row2_col1\" class=\"data row2 col1\" >4711649038</td>\n",
       "      <td id=\"T_1c28e_row2_col2\" class=\"data row2 col2\" >190</td>\n",
       "      <td id=\"T_1c28e_row2_col3\" class=\"data row2 col3\" >3837404</td>\n",
       "      <td id=\"T_1c28e_row2_col4\" class=\"data row2 col4\" >1153</td>\n",
       "      <td id=\"T_1c28e_row2_col5\" class=\"data row2 col5\" >4</td>\n",
       "      <td id=\"T_1c28e_row2_col6\" class=\"data row2 col6\" >8937</td>\n",
       "      <td id=\"T_1c28e_row2_col7\" class=\"data row2 col7\" >1</td>\n",
       "      <td id=\"T_1c28e_row2_col8\" class=\"data row2 col8\" >400</td>\n",
       "      <td id=\"T_1c28e_row2_col9\" class=\"data row2 col9\" >27</td>\n",
       "      <td id=\"T_1c28e_row2_col10\" class=\"data row2 col10\" >0</td>\n",
       "      <td id=\"T_1c28e_row2_col11\" class=\"data row2 col11\" >0</td>\n",
       "    </tr>\n",
       "    <tr>\n",
       "      <th id=\"T_1c28e_level0_row3\" class=\"row_heading level0 row3\" >min</th>\n",
       "      <td id=\"T_1c28e_row3_col0\" class=\"data row3 col0\" >1</td>\n",
       "      <td id=\"T_1c28e_row3_col1\" class=\"data row3 col1\" >26984851472</td>\n",
       "      <td id=\"T_1c28e_row3_col2\" class=\"data row3 col2\" >1</td>\n",
       "      <td id=\"T_1c28e_row3_col3\" class=\"data row3 col3\" >25671</td>\n",
       "      <td id=\"T_1c28e_row3_col4\" class=\"data row3 col4\" >0</td>\n",
       "      <td id=\"T_1c28e_row3_col5\" class=\"data row3 col5\" >0</td>\n",
       "      <td id=\"T_1c28e_row3_col6\" class=\"data row3 col6\" >1</td>\n",
       "      <td id=\"T_1c28e_row3_col7\" class=\"data row3 col7\" >-180</td>\n",
       "      <td id=\"T_1c28e_row3_col8\" class=\"data row3 col8\" >0</td>\n",
       "      <td id=\"T_1c28e_row3_col9\" class=\"data row3 col9\" >1</td>\n",
       "      <td id=\"T_1c28e_row3_col10\" class=\"data row3 col10\" >-56</td>\n",
       "      <td id=\"T_1c28e_row3_col11\" class=\"data row3 col11\" >-8</td>\n",
       "    </tr>\n",
       "    <tr>\n",
       "      <th id=\"T_1c28e_level0_row4\" class=\"row_heading level0 row4\" >25%</th>\n",
       "      <td id=\"T_1c28e_row4_col0\" class=\"data row4 col0\" >656</td>\n",
       "      <td id=\"T_1c28e_row4_col1\" class=\"data row4 col1\" >30408046256</td>\n",
       "      <td id=\"T_1c28e_row4_col2\" class=\"data row4 col2\" >229</td>\n",
       "      <td id=\"T_1c28e_row4_col3\" class=\"data row4 col3\" >917459</td>\n",
       "      <td id=\"T_1c28e_row4_col4\" class=\"data row4 col4\" >1</td>\n",
       "      <td id=\"T_1c28e_row4_col5\" class=\"data row4 col5\" >1</td>\n",
       "      <td id=\"T_1c28e_row4_col6\" class=\"data row4 col6\" >330</td>\n",
       "      <td id=\"T_1c28e_row4_col7\" class=\"data row4 col7\" >-1</td>\n",
       "      <td id=\"T_1c28e_row4_col8\" class=\"data row4 col8\" >1308</td>\n",
       "      <td id=\"T_1c28e_row4_col9\" class=\"data row4 col9\" >33</td>\n",
       "      <td id=\"T_1c28e_row4_col10\" class=\"data row4 col10\" >0</td>\n",
       "      <td id=\"T_1c28e_row4_col11\" class=\"data row4 col11\" >0</td>\n",
       "    </tr>\n",
       "    <tr>\n",
       "      <th id=\"T_1c28e_level0_row5\" class=\"row_heading level0 row5\" >50%</th>\n",
       "      <td id=\"T_1c28e_row5_col0\" class=\"data row5 col0\" >1272</td>\n",
       "      <td id=\"T_1c28e_row5_col1\" class=\"data row5 col1\" >32760806548</td>\n",
       "      <td id=\"T_1c28e_row5_col2\" class=\"data row5 col2\" >390</td>\n",
       "      <td id=\"T_1c28e_row5_col3\" class=\"data row5 col3\" >1028816</td>\n",
       "      <td id=\"T_1c28e_row5_col4\" class=\"data row5 col4\" >1</td>\n",
       "      <td id=\"T_1c28e_row5_col5\" class=\"data row5 col5\" >2</td>\n",
       "      <td id=\"T_1c28e_row5_col6\" class=\"data row5 col6\" >372</td>\n",
       "      <td id=\"T_1c28e_row5_col7\" class=\"data row5 col7\" >-0</td>\n",
       "      <td id=\"T_1c28e_row5_col8\" class=\"data row5 col8\" >1613</td>\n",
       "      <td id=\"T_1c28e_row5_col9\" class=\"data row5 col9\" >56</td>\n",
       "      <td id=\"T_1c28e_row5_col10\" class=\"data row5 col10\" >0</td>\n",
       "      <td id=\"T_1c28e_row5_col11\" class=\"data row5 col11\" >0</td>\n",
       "    </tr>\n",
       "    <tr>\n",
       "      <th id=\"T_1c28e_level0_row6\" class=\"row_heading level0 row6\" >75%</th>\n",
       "      <td id=\"T_1c28e_row6_col0\" class=\"data row6 col0\" >1913</td>\n",
       "      <td id=\"T_1c28e_row6_col1\" class=\"data row6 col1\" >40126853628</td>\n",
       "      <td id=\"T_1c28e_row6_col2\" class=\"data row6 col2\" >553</td>\n",
       "      <td id=\"T_1c28e_row6_col3\" class=\"data row6 col3\" >1133018</td>\n",
       "      <td id=\"T_1c28e_row6_col4\" class=\"data row6 col4\" >1</td>\n",
       "      <td id=\"T_1c28e_row6_col5\" class=\"data row6 col5\" >3</td>\n",
       "      <td id=\"T_1c28e_row6_col6\" class=\"data row6 col6\" >422</td>\n",
       "      <td id=\"T_1c28e_row6_col7\" class=\"data row6 col7\" >0</td>\n",
       "      <td id=\"T_1c28e_row6_col8\" class=\"data row6 col8\" >1843</td>\n",
       "      <td id=\"T_1c28e_row6_col9\" class=\"data row6 col9\" >80</td>\n",
       "      <td id=\"T_1c28e_row6_col10\" class=\"data row6 col10\" >0</td>\n",
       "      <td id=\"T_1c28e_row6_col11\" class=\"data row6 col11\" >0</td>\n",
       "    </tr>\n",
       "    <tr>\n",
       "      <th id=\"T_1c28e_level0_row7\" class=\"row_heading level0 row7\" >max</th>\n",
       "      <td id=\"T_1c28e_row7_col0\" class=\"data row7 col0\" >2500</td>\n",
       "      <td id=\"T_1c28e_row7_col1\" class=\"data row7 col1\" >42305362535</td>\n",
       "      <td id=\"T_1c28e_row7_col2\" class=\"data row7 col2\" >711</td>\n",
       "      <td id=\"T_1c28e_row7_col3\" class=\"data row7 col3\" >18316298</td>\n",
       "      <td id=\"T_1c28e_row7_col4\" class=\"data row7 col4\" >89638</td>\n",
       "      <td id=\"T_1c28e_row7_col5\" class=\"data row7 col5\" >840</td>\n",
       "      <td id=\"T_1c28e_row7_col6\" class=\"data row7 col6\" >34280</td>\n",
       "      <td id=\"T_1c28e_row7_col7\" class=\"data row7 col7\" >4</td>\n",
       "      <td id=\"T_1c28e_row7_col8\" class=\"data row7 col8\" >2359</td>\n",
       "      <td id=\"T_1c28e_row7_col9\" class=\"data row7 col9\" >102</td>\n",
       "      <td id=\"T_1c28e_row7_col10\" class=\"data row7 col10\" >0</td>\n",
       "      <td id=\"T_1c28e_row7_col11\" class=\"data row7 col11\" >0</td>\n",
       "    </tr>\n",
       "  </tbody>\n",
       "</table>\n"
      ],
      "text/plain": [
       "<pandas.io.formats.style.Styler at 0x1d4475bfe80>"
      ]
     },
     "execution_count": 7,
     "metadata": {},
     "output_type": "execute_result"
    }
   ],
   "source": [
    "data.describe().style.set_precision(0)"
   ]
  },
  {
   "cell_type": "code",
   "execution_count": 74,
   "metadata": {},
   "outputs": [
    {
     "data": {
      "text/plain": [
       "2500"
      ]
     },
     "execution_count": 74,
     "metadata": {},
     "output_type": "execute_result"
    }
   ],
   "source": [
    "data['household_key'].unique().size"
   ]
  },
  {
   "cell_type": "code",
   "execution_count": 25,
   "metadata": {},
   "outputs": [
    {
     "data": {
      "text/html": [
       "<div>\n",
       "<style scoped>\n",
       "    .dataframe tbody tr th:only-of-type {\n",
       "        vertical-align: middle;\n",
       "    }\n",
       "\n",
       "    .dataframe tbody tr th {\n",
       "        vertical-align: top;\n",
       "    }\n",
       "\n",
       "    .dataframe thead th {\n",
       "        text-align: right;\n",
       "    }\n",
       "</style>\n",
       "<table border=\"1\" class=\"dataframe\">\n",
       "  <thead>\n",
       "    <tr style=\"text-align: right;\">\n",
       "      <th></th>\n",
       "      <th>household_key</th>\n",
       "      <th>BASKET_ID</th>\n",
       "      <th>DAY</th>\n",
       "      <th>PRODUCT_ID</th>\n",
       "      <th>QUANTITY</th>\n",
       "      <th>SALES_VALUE</th>\n",
       "      <th>STORE_ID</th>\n",
       "      <th>RETAIL_DISC</th>\n",
       "      <th>TRANS_TIME</th>\n",
       "      <th>WEEK_NO</th>\n",
       "      <th>COUPON_DISC</th>\n",
       "      <th>COUPON_MATCH_DISC</th>\n",
       "    </tr>\n",
       "  </thead>\n",
       "  <tbody>\n",
       "    <tr>\n",
       "      <th>752808</th>\n",
       "      <td>801</td>\n",
       "      <td>30822926936</td>\n",
       "      <td>256</td>\n",
       "      <td>12810391</td>\n",
       "      <td>7</td>\n",
       "      <td>1.057500e+02</td>\n",
       "      <td>329</td>\n",
       "      <td>-1.299800e+02</td>\n",
       "      <td>1347</td>\n",
       "      <td>37</td>\n",
       "      <td>0.0</td>\n",
       "      <td>0.0</td>\n",
       "    </tr>\n",
       "    <tr>\n",
       "      <th>968972</th>\n",
       "      <td>1306</td>\n",
       "      <td>31624096856</td>\n",
       "      <td>310</td>\n",
       "      <td>990941</td>\n",
       "      <td>0</td>\n",
       "      <td>1.000000e-02</td>\n",
       "      <td>340</td>\n",
       "      <td>1.000000e-02</td>\n",
       "      <td>2253</td>\n",
       "      <td>45</td>\n",
       "      <td>0.0</td>\n",
       "      <td>0.0</td>\n",
       "    </tr>\n",
       "    <tr>\n",
       "      <th>1001608</th>\n",
       "      <td>1306</td>\n",
       "      <td>31735306143</td>\n",
       "      <td>318</td>\n",
       "      <td>7409789</td>\n",
       "      <td>0</td>\n",
       "      <td>0.000000e+00</td>\n",
       "      <td>381</td>\n",
       "      <td>2.220446e-16</td>\n",
       "      <td>1232</td>\n",
       "      <td>46</td>\n",
       "      <td>0.0</td>\n",
       "      <td>0.0</td>\n",
       "    </tr>\n",
       "    <tr>\n",
       "      <th>1023085</th>\n",
       "      <td>1321</td>\n",
       "      <td>31803641901</td>\n",
       "      <td>323</td>\n",
       "      <td>1051069</td>\n",
       "      <td>0</td>\n",
       "      <td>0.000000e+00</td>\n",
       "      <td>364</td>\n",
       "      <td>5.551115e-17</td>\n",
       "      <td>1931</td>\n",
       "      <td>47</td>\n",
       "      <td>0.0</td>\n",
       "      <td>0.0</td>\n",
       "    </tr>\n",
       "    <tr>\n",
       "      <th>1023086</th>\n",
       "      <td>1321</td>\n",
       "      <td>31803641901</td>\n",
       "      <td>323</td>\n",
       "      <td>1055863</td>\n",
       "      <td>0</td>\n",
       "      <td>0.000000e+00</td>\n",
       "      <td>364</td>\n",
       "      <td>5.551115e-17</td>\n",
       "      <td>1931</td>\n",
       "      <td>47</td>\n",
       "      <td>0.0</td>\n",
       "      <td>0.0</td>\n",
       "    </tr>\n",
       "    <tr>\n",
       "      <th>1067337</th>\n",
       "      <td>37</td>\n",
       "      <td>31944616637</td>\n",
       "      <td>334</td>\n",
       "      <td>8090539</td>\n",
       "      <td>0</td>\n",
       "      <td>0.000000e+00</td>\n",
       "      <td>381</td>\n",
       "      <td>2.220446e-16</td>\n",
       "      <td>1434</td>\n",
       "      <td>48</td>\n",
       "      <td>0.0</td>\n",
       "      <td>0.0</td>\n",
       "    </tr>\n",
       "    <tr>\n",
       "      <th>1143255</th>\n",
       "      <td>2241</td>\n",
       "      <td>32173242560</td>\n",
       "      <td>353</td>\n",
       "      <td>995242</td>\n",
       "      <td>0</td>\n",
       "      <td>0.000000e+00</td>\n",
       "      <td>296</td>\n",
       "      <td>2.220446e-16</td>\n",
       "      <td>2325</td>\n",
       "      <td>51</td>\n",
       "      <td>0.0</td>\n",
       "      <td>0.0</td>\n",
       "    </tr>\n",
       "    <tr>\n",
       "      <th>1210504</th>\n",
       "      <td>923</td>\n",
       "      <td>32446036423</td>\n",
       "      <td>369</td>\n",
       "      <td>1047226</td>\n",
       "      <td>0</td>\n",
       "      <td>0.000000e+00</td>\n",
       "      <td>410</td>\n",
       "      <td>1.110223e-16</td>\n",
       "      <td>1541</td>\n",
       "      <td>53</td>\n",
       "      <td>0.0</td>\n",
       "      <td>0.0</td>\n",
       "    </tr>\n",
       "    <tr>\n",
       "      <th>1215551</th>\n",
       "      <td>1535</td>\n",
       "      <td>32478752229</td>\n",
       "      <td>370</td>\n",
       "      <td>999270</td>\n",
       "      <td>1</td>\n",
       "      <td>7.980000e+00</td>\n",
       "      <td>360</td>\n",
       "      <td>3.990000e+00</td>\n",
       "      <td>1852</td>\n",
       "      <td>54</td>\n",
       "      <td>0.0</td>\n",
       "      <td>0.0</td>\n",
       "    </tr>\n",
       "    <tr>\n",
       "      <th>1216489</th>\n",
       "      <td>2491</td>\n",
       "      <td>32478901200</td>\n",
       "      <td>370</td>\n",
       "      <td>13945244</td>\n",
       "      <td>0</td>\n",
       "      <td>4.440892e-16</td>\n",
       "      <td>389</td>\n",
       "      <td>1.110223e-16</td>\n",
       "      <td>1315</td>\n",
       "      <td>54</td>\n",
       "      <td>0.0</td>\n",
       "      <td>0.0</td>\n",
       "    </tr>\n",
       "    <tr>\n",
       "      <th>1271754</th>\n",
       "      <td>623</td>\n",
       "      <td>32704598135</td>\n",
       "      <td>384</td>\n",
       "      <td>5995423</td>\n",
       "      <td>1</td>\n",
       "      <td>5.100000e-01</td>\n",
       "      <td>381</td>\n",
       "      <td>2.600000e-01</td>\n",
       "      <td>1950</td>\n",
       "      <td>56</td>\n",
       "      <td>0.0</td>\n",
       "      <td>0.0</td>\n",
       "    </tr>\n",
       "    <tr>\n",
       "      <th>1292342</th>\n",
       "      <td>59</td>\n",
       "      <td>32759986795</td>\n",
       "      <td>389</td>\n",
       "      <td>835530</td>\n",
       "      <td>1</td>\n",
       "      <td>2.500000e+00</td>\n",
       "      <td>352</td>\n",
       "      <td>4.440892e-16</td>\n",
       "      <td>1903</td>\n",
       "      <td>56</td>\n",
       "      <td>0.0</td>\n",
       "      <td>0.0</td>\n",
       "    </tr>\n",
       "    <tr>\n",
       "      <th>1381303</th>\n",
       "      <td>1333</td>\n",
       "      <td>33070352309</td>\n",
       "      <td>411</td>\n",
       "      <td>8069350</td>\n",
       "      <td>0</td>\n",
       "      <td>0.000000e+00</td>\n",
       "      <td>317</td>\n",
       "      <td>2.220446e-16</td>\n",
       "      <td>2036</td>\n",
       "      <td>59</td>\n",
       "      <td>0.0</td>\n",
       "      <td>0.0</td>\n",
       "    </tr>\n",
       "    <tr>\n",
       "      <th>1388007</th>\n",
       "      <td>588</td>\n",
       "      <td>33094808535</td>\n",
       "      <td>413</td>\n",
       "      <td>12577242</td>\n",
       "      <td>0</td>\n",
       "      <td>2.220446e-16</td>\n",
       "      <td>388</td>\n",
       "      <td>1.110223e-16</td>\n",
       "      <td>2226</td>\n",
       "      <td>60</td>\n",
       "      <td>0.0</td>\n",
       "      <td>0.0</td>\n",
       "    </tr>\n",
       "    <tr>\n",
       "      <th>1401695</th>\n",
       "      <td>1041</td>\n",
       "      <td>33132710765</td>\n",
       "      <td>417</td>\n",
       "      <td>895190</td>\n",
       "      <td>0</td>\n",
       "      <td>1.000000e-02</td>\n",
       "      <td>297</td>\n",
       "      <td>1.000000e-02</td>\n",
       "      <td>1420</td>\n",
       "      <td>60</td>\n",
       "      <td>0.0</td>\n",
       "      <td>0.0</td>\n",
       "    </tr>\n",
       "    <tr>\n",
       "      <th>1401698</th>\n",
       "      <td>1041</td>\n",
       "      <td>33132710765</td>\n",
       "      <td>417</td>\n",
       "      <td>1006573</td>\n",
       "      <td>0</td>\n",
       "      <td>0.000000e+00</td>\n",
       "      <td>297</td>\n",
       "      <td>1.000000e-02</td>\n",
       "      <td>1420</td>\n",
       "      <td>60</td>\n",
       "      <td>0.0</td>\n",
       "      <td>0.0</td>\n",
       "    </tr>\n",
       "    <tr>\n",
       "      <th>1401701</th>\n",
       "      <td>1041</td>\n",
       "      <td>33132710765</td>\n",
       "      <td>417</td>\n",
       "      <td>1033887</td>\n",
       "      <td>0</td>\n",
       "      <td>1.000000e-02</td>\n",
       "      <td>297</td>\n",
       "      <td>1.000000e-02</td>\n",
       "      <td>1420</td>\n",
       "      <td>60</td>\n",
       "      <td>0.0</td>\n",
       "      <td>0.0</td>\n",
       "    </tr>\n",
       "    <tr>\n",
       "      <th>1406151</th>\n",
       "      <td>544</td>\n",
       "      <td>33155296085</td>\n",
       "      <td>418</td>\n",
       "      <td>908273</td>\n",
       "      <td>0</td>\n",
       "      <td>2.220446e-16</td>\n",
       "      <td>367</td>\n",
       "      <td>1.110223e-16</td>\n",
       "      <td>959</td>\n",
       "      <td>60</td>\n",
       "      <td>0.0</td>\n",
       "      <td>0.0</td>\n",
       "    </tr>\n",
       "    <tr>\n",
       "      <th>1406626</th>\n",
       "      <td>1200</td>\n",
       "      <td>33155361576</td>\n",
       "      <td>418</td>\n",
       "      <td>8292955</td>\n",
       "      <td>0</td>\n",
       "      <td>0.000000e+00</td>\n",
       "      <td>408</td>\n",
       "      <td>4.440892e-16</td>\n",
       "      <td>1707</td>\n",
       "      <td>60</td>\n",
       "      <td>0.0</td>\n",
       "      <td>0.0</td>\n",
       "    </tr>\n",
       "    <tr>\n",
       "      <th>1417669</th>\n",
       "      <td>249</td>\n",
       "      <td>33180312515</td>\n",
       "      <td>420</td>\n",
       "      <td>6034857</td>\n",
       "      <td>0</td>\n",
       "      <td>7.900000e-01</td>\n",
       "      <td>424</td>\n",
       "      <td>7.900000e-01</td>\n",
       "      <td>1806</td>\n",
       "      <td>61</td>\n",
       "      <td>0.0</td>\n",
       "      <td>0.0</td>\n",
       "    </tr>\n",
       "    <tr>\n",
       "      <th>1459271</th>\n",
       "      <td>709</td>\n",
       "      <td>33329943095</td>\n",
       "      <td>431</td>\n",
       "      <td>8090541</td>\n",
       "      <td>0</td>\n",
       "      <td>2.090000e+00</td>\n",
       "      <td>401</td>\n",
       "      <td>2.090000e+00</td>\n",
       "      <td>1731</td>\n",
       "      <td>62</td>\n",
       "      <td>0.0</td>\n",
       "      <td>0.0</td>\n",
       "    </tr>\n",
       "    <tr>\n",
       "      <th>1466571</th>\n",
       "      <td>290</td>\n",
       "      <td>33362690334</td>\n",
       "      <td>433</td>\n",
       "      <td>9575181</td>\n",
       "      <td>2</td>\n",
       "      <td>6.600000e-01</td>\n",
       "      <td>367</td>\n",
       "      <td>1.110223e-16</td>\n",
       "      <td>1723</td>\n",
       "      <td>63</td>\n",
       "      <td>0.0</td>\n",
       "      <td>0.0</td>\n",
       "    </tr>\n",
       "    <tr>\n",
       "      <th>1566360</th>\n",
       "      <td>44</td>\n",
       "      <td>33769749631</td>\n",
       "      <td>458</td>\n",
       "      <td>12385844</td>\n",
       "      <td>0</td>\n",
       "      <td>0.000000e+00</td>\n",
       "      <td>412</td>\n",
       "      <td>1.387779e-17</td>\n",
       "      <td>2120</td>\n",
       "      <td>66</td>\n",
       "      <td>0.0</td>\n",
       "      <td>0.0</td>\n",
       "    </tr>\n",
       "    <tr>\n",
       "      <th>1737342</th>\n",
       "      <td>674</td>\n",
       "      <td>34642125733</td>\n",
       "      <td>500</td>\n",
       "      <td>9836106</td>\n",
       "      <td>0</td>\n",
       "      <td>0.000000e+00</td>\n",
       "      <td>421</td>\n",
       "      <td>2.220446e-16</td>\n",
       "      <td>1124</td>\n",
       "      <td>72</td>\n",
       "      <td>0.0</td>\n",
       "      <td>0.0</td>\n",
       "    </tr>\n",
       "    <tr>\n",
       "      <th>1758882</th>\n",
       "      <td>367</td>\n",
       "      <td>34812010763</td>\n",
       "      <td>505</td>\n",
       "      <td>10456655</td>\n",
       "      <td>7</td>\n",
       "      <td>3.500000e+00</td>\n",
       "      <td>368</td>\n",
       "      <td>1.110223e-16</td>\n",
       "      <td>1413</td>\n",
       "      <td>73</td>\n",
       "      <td>0.0</td>\n",
       "      <td>0.0</td>\n",
       "    </tr>\n",
       "    <tr>\n",
       "      <th>1760927</th>\n",
       "      <td>676</td>\n",
       "      <td>34837161951</td>\n",
       "      <td>506</td>\n",
       "      <td>9834988</td>\n",
       "      <td>0</td>\n",
       "      <td>4.440892e-16</td>\n",
       "      <td>364</td>\n",
       "      <td>1.110223e-16</td>\n",
       "      <td>1934</td>\n",
       "      <td>73</td>\n",
       "      <td>0.0</td>\n",
       "      <td>0.0</td>\n",
       "    </tr>\n",
       "    <tr>\n",
       "      <th>1761179</th>\n",
       "      <td>716</td>\n",
       "      <td>34837205710</td>\n",
       "      <td>506</td>\n",
       "      <td>874025</td>\n",
       "      <td>0</td>\n",
       "      <td>0.000000e+00</td>\n",
       "      <td>296</td>\n",
       "      <td>2.220446e-16</td>\n",
       "      <td>1354</td>\n",
       "      <td>73</td>\n",
       "      <td>0.0</td>\n",
       "      <td>0.0</td>\n",
       "    </tr>\n",
       "    <tr>\n",
       "      <th>1785852</th>\n",
       "      <td>367</td>\n",
       "      <td>35080936104</td>\n",
       "      <td>512</td>\n",
       "      <td>10456655</td>\n",
       "      <td>4</td>\n",
       "      <td>1.000000e+00</td>\n",
       "      <td>368</td>\n",
       "      <td>1.110223e-16</td>\n",
       "      <td>1537</td>\n",
       "      <td>74</td>\n",
       "      <td>0.0</td>\n",
       "      <td>0.0</td>\n",
       "    </tr>\n",
       "    <tr>\n",
       "      <th>1920075</th>\n",
       "      <td>639</td>\n",
       "      <td>40037481487</td>\n",
       "      <td>546</td>\n",
       "      <td>1013321</td>\n",
       "      <td>0</td>\n",
       "      <td>1.110223e-16</td>\n",
       "      <td>446</td>\n",
       "      <td>1.110223e-16</td>\n",
       "      <td>1507</td>\n",
       "      <td>79</td>\n",
       "      <td>0.0</td>\n",
       "      <td>0.0</td>\n",
       "    </tr>\n",
       "    <tr>\n",
       "      <th>2072754</th>\n",
       "      <td>1481</td>\n",
       "      <td>40510706078</td>\n",
       "      <td>585</td>\n",
       "      <td>1111072</td>\n",
       "      <td>0</td>\n",
       "      <td>0.000000e+00</td>\n",
       "      <td>380</td>\n",
       "      <td>1.110223e-16</td>\n",
       "      <td>2307</td>\n",
       "      <td>84</td>\n",
       "      <td>0.0</td>\n",
       "      <td>0.0</td>\n",
       "    </tr>\n",
       "    <tr>\n",
       "      <th>2141593</th>\n",
       "      <td>2413</td>\n",
       "      <td>40727407101</td>\n",
       "      <td>602</td>\n",
       "      <td>980823</td>\n",
       "      <td>0</td>\n",
       "      <td>0.000000e+00</td>\n",
       "      <td>374</td>\n",
       "      <td>1.110223e-16</td>\n",
       "      <td>1735</td>\n",
       "      <td>87</td>\n",
       "      <td>0.0</td>\n",
       "      <td>0.0</td>\n",
       "    </tr>\n",
       "    <tr>\n",
       "      <th>2156344</th>\n",
       "      <td>2450</td>\n",
       "      <td>40765456173</td>\n",
       "      <td>606</td>\n",
       "      <td>17242362</td>\n",
       "      <td>1</td>\n",
       "      <td>1.999900e+02</td>\n",
       "      <td>34011</td>\n",
       "      <td>-1.000000e+02</td>\n",
       "      <td>1057</td>\n",
       "      <td>87</td>\n",
       "      <td>0.0</td>\n",
       "      <td>0.0</td>\n",
       "    </tr>\n",
       "    <tr>\n",
       "      <th>2208775</th>\n",
       "      <td>1653</td>\n",
       "      <td>40941495193</td>\n",
       "      <td>619</td>\n",
       "      <td>12810391</td>\n",
       "      <td>6</td>\n",
       "      <td>1.036700e+02</td>\n",
       "      <td>381</td>\n",
       "      <td>-1.300200e+02</td>\n",
       "      <td>656</td>\n",
       "      <td>89</td>\n",
       "      <td>0.0</td>\n",
       "      <td>0.0</td>\n",
       "    </tr>\n",
       "    <tr>\n",
       "      <th>2211042</th>\n",
       "      <td>2375</td>\n",
       "      <td>40955281225</td>\n",
       "      <td>621</td>\n",
       "      <td>1077285</td>\n",
       "      <td>0</td>\n",
       "      <td>2.220446e-16</td>\n",
       "      <td>364</td>\n",
       "      <td>1.110223e-16</td>\n",
       "      <td>1456</td>\n",
       "      <td>89</td>\n",
       "      <td>0.0</td>\n",
       "      <td>0.0</td>\n",
       "    </tr>\n",
       "    <tr>\n",
       "      <th>2255342</th>\n",
       "      <td>53</td>\n",
       "      <td>41211916762</td>\n",
       "      <td>630</td>\n",
       "      <td>12187390</td>\n",
       "      <td>0</td>\n",
       "      <td>7.700000e-01</td>\n",
       "      <td>367</td>\n",
       "      <td>7.700000e-01</td>\n",
       "      <td>2014</td>\n",
       "      <td>91</td>\n",
       "      <td>0.0</td>\n",
       "      <td>0.0</td>\n",
       "    </tr>\n",
       "    <tr>\n",
       "      <th>2314734</th>\n",
       "      <td>1719</td>\n",
       "      <td>41400686663</td>\n",
       "      <td>644</td>\n",
       "      <td>1068292</td>\n",
       "      <td>0</td>\n",
       "      <td>0.000000e+00</td>\n",
       "      <td>34007</td>\n",
       "      <td>2.220446e-16</td>\n",
       "      <td>2030</td>\n",
       "      <td>93</td>\n",
       "      <td>0.0</td>\n",
       "      <td>0.0</td>\n",
       "    </tr>\n",
       "    <tr>\n",
       "      <th>2333845</th>\n",
       "      <td>788</td>\n",
       "      <td>41466765324</td>\n",
       "      <td>649</td>\n",
       "      <td>9835606</td>\n",
       "      <td>0</td>\n",
       "      <td>0.000000e+00</td>\n",
       "      <td>360</td>\n",
       "      <td>5.551115e-17</td>\n",
       "      <td>1102</td>\n",
       "      <td>93</td>\n",
       "      <td>0.0</td>\n",
       "      <td>0.0</td>\n",
       "    </tr>\n",
       "    <tr>\n",
       "      <th>2417859</th>\n",
       "      <td>2274</td>\n",
       "      <td>41730638954</td>\n",
       "      <td>669</td>\n",
       "      <td>17105530</td>\n",
       "      <td>2</td>\n",
       "      <td>7.998000e+01</td>\n",
       "      <td>329</td>\n",
       "      <td>-1.800000e+02</td>\n",
       "      <td>1722</td>\n",
       "      <td>96</td>\n",
       "      <td>0.0</td>\n",
       "      <td>0.0</td>\n",
       "    </tr>\n",
       "    <tr>\n",
       "      <th>2456636</th>\n",
       "      <td>542</td>\n",
       "      <td>41847882142</td>\n",
       "      <td>678</td>\n",
       "      <td>1121175</td>\n",
       "      <td>0</td>\n",
       "      <td>5.900000e-01</td>\n",
       "      <td>31582</td>\n",
       "      <td>5.900000e-01</td>\n",
       "      <td>1754</td>\n",
       "      <td>98</td>\n",
       "      <td>0.0</td>\n",
       "      <td>0.0</td>\n",
       "    </tr>\n",
       "    <tr>\n",
       "      <th>2567390</th>\n",
       "      <td>1726</td>\n",
       "      <td>42198877124</td>\n",
       "      <td>704</td>\n",
       "      <td>927191</td>\n",
       "      <td>0</td>\n",
       "      <td>0.000000e+00</td>\n",
       "      <td>380</td>\n",
       "      <td>6.938894e-18</td>\n",
       "      <td>1401</td>\n",
       "      <td>101</td>\n",
       "      <td>0.0</td>\n",
       "      <td>0.0</td>\n",
       "    </tr>\n",
       "  </tbody>\n",
       "</table>\n",
       "</div>"
      ],
      "text/plain": [
       "         household_key    BASKET_ID  DAY  PRODUCT_ID  QUANTITY   SALES_VALUE  \\\n",
       "752808             801  30822926936  256    12810391         7  1.057500e+02   \n",
       "968972            1306  31624096856  310      990941         0  1.000000e-02   \n",
       "1001608           1306  31735306143  318     7409789         0  0.000000e+00   \n",
       "1023085           1321  31803641901  323     1051069         0  0.000000e+00   \n",
       "1023086           1321  31803641901  323     1055863         0  0.000000e+00   \n",
       "1067337             37  31944616637  334     8090539         0  0.000000e+00   \n",
       "1143255           2241  32173242560  353      995242         0  0.000000e+00   \n",
       "1210504            923  32446036423  369     1047226         0  0.000000e+00   \n",
       "1215551           1535  32478752229  370      999270         1  7.980000e+00   \n",
       "1216489           2491  32478901200  370    13945244         0  4.440892e-16   \n",
       "1271754            623  32704598135  384     5995423         1  5.100000e-01   \n",
       "1292342             59  32759986795  389      835530         1  2.500000e+00   \n",
       "1381303           1333  33070352309  411     8069350         0  0.000000e+00   \n",
       "1388007            588  33094808535  413    12577242         0  2.220446e-16   \n",
       "1401695           1041  33132710765  417      895190         0  1.000000e-02   \n",
       "1401698           1041  33132710765  417     1006573         0  0.000000e+00   \n",
       "1401701           1041  33132710765  417     1033887         0  1.000000e-02   \n",
       "1406151            544  33155296085  418      908273         0  2.220446e-16   \n",
       "1406626           1200  33155361576  418     8292955         0  0.000000e+00   \n",
       "1417669            249  33180312515  420     6034857         0  7.900000e-01   \n",
       "1459271            709  33329943095  431     8090541         0  2.090000e+00   \n",
       "1466571            290  33362690334  433     9575181         2  6.600000e-01   \n",
       "1566360             44  33769749631  458    12385844         0  0.000000e+00   \n",
       "1737342            674  34642125733  500     9836106         0  0.000000e+00   \n",
       "1758882            367  34812010763  505    10456655         7  3.500000e+00   \n",
       "1760927            676  34837161951  506     9834988         0  4.440892e-16   \n",
       "1761179            716  34837205710  506      874025         0  0.000000e+00   \n",
       "1785852            367  35080936104  512    10456655         4  1.000000e+00   \n",
       "1920075            639  40037481487  546     1013321         0  1.110223e-16   \n",
       "2072754           1481  40510706078  585     1111072         0  0.000000e+00   \n",
       "2141593           2413  40727407101  602      980823         0  0.000000e+00   \n",
       "2156344           2450  40765456173  606    17242362         1  1.999900e+02   \n",
       "2208775           1653  40941495193  619    12810391         6  1.036700e+02   \n",
       "2211042           2375  40955281225  621     1077285         0  2.220446e-16   \n",
       "2255342             53  41211916762  630    12187390         0  7.700000e-01   \n",
       "2314734           1719  41400686663  644     1068292         0  0.000000e+00   \n",
       "2333845            788  41466765324  649     9835606         0  0.000000e+00   \n",
       "2417859           2274  41730638954  669    17105530         2  7.998000e+01   \n",
       "2456636            542  41847882142  678     1121175         0  5.900000e-01   \n",
       "2567390           1726  42198877124  704      927191         0  0.000000e+00   \n",
       "\n",
       "         STORE_ID   RETAIL_DISC  TRANS_TIME  WEEK_NO  COUPON_DISC  \\\n",
       "752808        329 -1.299800e+02        1347       37          0.0   \n",
       "968972        340  1.000000e-02        2253       45          0.0   \n",
       "1001608       381  2.220446e-16        1232       46          0.0   \n",
       "1023085       364  5.551115e-17        1931       47          0.0   \n",
       "1023086       364  5.551115e-17        1931       47          0.0   \n",
       "1067337       381  2.220446e-16        1434       48          0.0   \n",
       "1143255       296  2.220446e-16        2325       51          0.0   \n",
       "1210504       410  1.110223e-16        1541       53          0.0   \n",
       "1215551       360  3.990000e+00        1852       54          0.0   \n",
       "1216489       389  1.110223e-16        1315       54          0.0   \n",
       "1271754       381  2.600000e-01        1950       56          0.0   \n",
       "1292342       352  4.440892e-16        1903       56          0.0   \n",
       "1381303       317  2.220446e-16        2036       59          0.0   \n",
       "1388007       388  1.110223e-16        2226       60          0.0   \n",
       "1401695       297  1.000000e-02        1420       60          0.0   \n",
       "1401698       297  1.000000e-02        1420       60          0.0   \n",
       "1401701       297  1.000000e-02        1420       60          0.0   \n",
       "1406151       367  1.110223e-16         959       60          0.0   \n",
       "1406626       408  4.440892e-16        1707       60          0.0   \n",
       "1417669       424  7.900000e-01        1806       61          0.0   \n",
       "1459271       401  2.090000e+00        1731       62          0.0   \n",
       "1466571       367  1.110223e-16        1723       63          0.0   \n",
       "1566360       412  1.387779e-17        2120       66          0.0   \n",
       "1737342       421  2.220446e-16        1124       72          0.0   \n",
       "1758882       368  1.110223e-16        1413       73          0.0   \n",
       "1760927       364  1.110223e-16        1934       73          0.0   \n",
       "1761179       296  2.220446e-16        1354       73          0.0   \n",
       "1785852       368  1.110223e-16        1537       74          0.0   \n",
       "1920075       446  1.110223e-16        1507       79          0.0   \n",
       "2072754       380  1.110223e-16        2307       84          0.0   \n",
       "2141593       374  1.110223e-16        1735       87          0.0   \n",
       "2156344     34011 -1.000000e+02        1057       87          0.0   \n",
       "2208775       381 -1.300200e+02         656       89          0.0   \n",
       "2211042       364  1.110223e-16        1456       89          0.0   \n",
       "2255342       367  7.700000e-01        2014       91          0.0   \n",
       "2314734     34007  2.220446e-16        2030       93          0.0   \n",
       "2333845       360  5.551115e-17        1102       93          0.0   \n",
       "2417859       329 -1.800000e+02        1722       96          0.0   \n",
       "2456636     31582  5.900000e-01        1754       98          0.0   \n",
       "2567390       380  6.938894e-18        1401      101          0.0   \n",
       "\n",
       "         COUPON_MATCH_DISC  \n",
       "752808                 0.0  \n",
       "968972                 0.0  \n",
       "1001608                0.0  \n",
       "1023085                0.0  \n",
       "1023086                0.0  \n",
       "1067337                0.0  \n",
       "1143255                0.0  \n",
       "1210504                0.0  \n",
       "1215551                0.0  \n",
       "1216489                0.0  \n",
       "1271754                0.0  \n",
       "1292342                0.0  \n",
       "1381303                0.0  \n",
       "1388007                0.0  \n",
       "1401695                0.0  \n",
       "1401698                0.0  \n",
       "1401701                0.0  \n",
       "1406151                0.0  \n",
       "1406626                0.0  \n",
       "1417669                0.0  \n",
       "1459271                0.0  \n",
       "1466571                0.0  \n",
       "1566360                0.0  \n",
       "1737342                0.0  \n",
       "1758882                0.0  \n",
       "1760927                0.0  \n",
       "1761179                0.0  \n",
       "1785852                0.0  \n",
       "1920075                0.0  \n",
       "2072754                0.0  \n",
       "2141593                0.0  \n",
       "2156344                0.0  \n",
       "2208775                0.0  \n",
       "2211042                0.0  \n",
       "2255342                0.0  \n",
       "2314734                0.0  \n",
       "2333845                0.0  \n",
       "2417859                0.0  \n",
       "2456636                0.0  \n",
       "2567390                0.0  "
      ]
     },
     "execution_count": 25,
     "metadata": {},
     "output_type": "execute_result"
    }
   ],
   "source": [
    "#кривые скидки\n",
    "data[(data['RETAIL_DISC'] < -99)|(data['RETAIL_DISC'] > 0)]"
   ]
  },
  {
   "cell_type": "code",
   "execution_count": 5,
   "metadata": {},
   "outputs": [
    {
     "data": {
      "text/html": [
       "<div>\n",
       "<style scoped>\n",
       "    .dataframe tbody tr th:only-of-type {\n",
       "        vertical-align: middle;\n",
       "    }\n",
       "\n",
       "    .dataframe tbody tr th {\n",
       "        vertical-align: top;\n",
       "    }\n",
       "\n",
       "    .dataframe thead th {\n",
       "        text-align: right;\n",
       "    }\n",
       "</style>\n",
       "<table border=\"1\" class=\"dataframe\">\n",
       "  <thead>\n",
       "    <tr style=\"text-align: right;\">\n",
       "      <th></th>\n",
       "      <th>PRODUCT_ID</th>\n",
       "      <th>MANUFACTURER</th>\n",
       "      <th>DEPARTMENT</th>\n",
       "      <th>BRAND</th>\n",
       "      <th>COMMODITY_DESC</th>\n",
       "      <th>SUB_COMMODITY_DESC</th>\n",
       "      <th>CURR_SIZE_OF_PRODUCT</th>\n",
       "    </tr>\n",
       "  </thead>\n",
       "  <tbody>\n",
       "    <tr>\n",
       "      <th>0</th>\n",
       "      <td>25671</td>\n",
       "      <td>2</td>\n",
       "      <td>GROCERY</td>\n",
       "      <td>National</td>\n",
       "      <td>FRZN ICE</td>\n",
       "      <td>ICE - CRUSHED/CUBED</td>\n",
       "      <td>22 LB</td>\n",
       "    </tr>\n",
       "    <tr>\n",
       "      <th>1</th>\n",
       "      <td>26081</td>\n",
       "      <td>2</td>\n",
       "      <td>MISC. TRANS.</td>\n",
       "      <td>National</td>\n",
       "      <td>NO COMMODITY DESCRIPTION</td>\n",
       "      <td>NO SUBCOMMODITY DESCRIPTION</td>\n",
       "      <td></td>\n",
       "    </tr>\n",
       "    <tr>\n",
       "      <th>2</th>\n",
       "      <td>26093</td>\n",
       "      <td>69</td>\n",
       "      <td>PASTRY</td>\n",
       "      <td>Private</td>\n",
       "      <td>BREAD</td>\n",
       "      <td>BREAD:ITALIAN/FRENCH</td>\n",
       "      <td></td>\n",
       "    </tr>\n",
       "  </tbody>\n",
       "</table>\n",
       "</div>"
      ],
      "text/plain": [
       "   PRODUCT_ID  MANUFACTURER    DEPARTMENT     BRAND            COMMODITY_DESC  \\\n",
       "0       25671             2       GROCERY  National                  FRZN ICE   \n",
       "1       26081             2  MISC. TRANS.  National  NO COMMODITY DESCRIPTION   \n",
       "2       26093            69        PASTRY   Private                     BREAD   \n",
       "\n",
       "            SUB_COMMODITY_DESC CURR_SIZE_OF_PRODUCT  \n",
       "0          ICE - CRUSHED/CUBED                22 LB  \n",
       "1  NO SUBCOMMODITY DESCRIPTION                       \n",
       "2         BREAD:ITALIAN/FRENCH                       "
      ]
     },
     "execution_count": 5,
     "metadata": {},
     "output_type": "execute_result"
    }
   ],
   "source": [
    "item_features.head(3)"
   ]
  },
  {
   "cell_type": "code",
   "execution_count": 32,
   "metadata": {},
   "outputs": [
    {
     "data": {
      "text/plain": [
       "(92353, 7)"
      ]
     },
     "execution_count": 32,
     "metadata": {},
     "output_type": "execute_result"
    }
   ],
   "source": [
    "item_features.shape"
   ]
  },
  {
   "cell_type": "code",
   "execution_count": 28,
   "metadata": {},
   "outputs": [
    {
     "data": {
      "text/plain": [
       "array(['GROCERY', 'MISC. TRANS.', 'PASTRY', 'DRUG GM', 'MEAT-PCKGD',\n",
       "       'SEAFOOD-PCKGD', 'PRODUCE', 'NUTRITION', 'DELI', 'COSMETICS',\n",
       "       'MEAT', 'FLORAL', 'TRAVEL & LEISUR', 'SEAFOOD', 'MISC SALES TRAN',\n",
       "       'SALAD BAR', 'KIOSK-GAS', 'ELECT &PLUMBING', 'GRO BAKERY',\n",
       "       'GM MERCH EXP', 'FROZEN GROCERY', 'COUP/STR & MFG', 'SPIRITS',\n",
       "       'GARDEN CENTER', 'TOYS', 'CHARITABLE CONT', 'RESTAURANT', 'RX',\n",
       "       'PROD-WHS SALES', 'MEAT-WHSE', 'DAIRY DELI', 'CHEF SHOPPE', 'HBC',\n",
       "       'DELI/SNACK BAR', 'PORK', 'AUTOMOTIVE', 'VIDEO RENTAL', ' ',\n",
       "       'CNTRL/STORE SUP', 'HOUSEWARES', 'POSTAL CENTER', 'PHOTO', 'VIDEO',\n",
       "       'PHARMACY SUPPLY'], dtype=object)"
      ]
     },
     "execution_count": 28,
     "metadata": {},
     "output_type": "execute_result"
    }
   ],
   "source": [
    "item_features['DEPARTMENT'].unique()"
   ]
  },
  {
   "cell_type": "code",
   "execution_count": 54,
   "metadata": {},
   "outputs": [
    {
     "data": {
      "text/plain": [
       "array(['National', 'Private'], dtype=object)"
      ]
     },
     "execution_count": 54,
     "metadata": {},
     "output_type": "execute_result"
    }
   ],
   "source": [
    "item_features['BRAND'].unique()"
   ]
  },
  {
   "cell_type": "code",
   "execution_count": 46,
   "metadata": {},
   "outputs": [
    {
     "data": {
      "text/plain": [
       "nunique                                                  302\n",
       "count                                                    490\n",
       "size                                                     490\n",
       "unique     [2, 2241, 952, 5176, 673, 5098, 382, 1543, 68,...\n",
       "Name: MANUFACTURER, dtype: object"
      ]
     },
     "execution_count": 46,
     "metadata": {},
     "output_type": "execute_result"
    }
   ],
   "source": [
    "item_features['COMMODITY_DESC'].unique()\n",
    "item_features.query('COMMODITY_DESC == \"NO COMMODITY DESCRIPTION\"')['MANUFACTURER'].agg(['nunique','count','size','unique'])"
   ]
  },
  {
   "cell_type": "code",
   "execution_count": 55,
   "metadata": {},
   "outputs": [
    {
     "data": {
      "text/html": [
       "<div>\n",
       "<style scoped>\n",
       "    .dataframe tbody tr th:only-of-type {\n",
       "        vertical-align: middle;\n",
       "    }\n",
       "\n",
       "    .dataframe tbody tr th {\n",
       "        vertical-align: top;\n",
       "    }\n",
       "\n",
       "    .dataframe thead th {\n",
       "        text-align: right;\n",
       "    }\n",
       "</style>\n",
       "<table border=\"1\" class=\"dataframe\">\n",
       "  <thead>\n",
       "    <tr style=\"text-align: right;\">\n",
       "      <th></th>\n",
       "      <th>AGE_DESC</th>\n",
       "      <th>MARITAL_STATUS_CODE</th>\n",
       "      <th>INCOME_DESC</th>\n",
       "      <th>HOMEOWNER_DESC</th>\n",
       "      <th>HH_COMP_DESC</th>\n",
       "      <th>HOUSEHOLD_SIZE_DESC</th>\n",
       "      <th>KID_CATEGORY_DESC</th>\n",
       "      <th>household_key</th>\n",
       "    </tr>\n",
       "  </thead>\n",
       "  <tbody>\n",
       "    <tr>\n",
       "      <th>0</th>\n",
       "      <td>65+</td>\n",
       "      <td>A</td>\n",
       "      <td>35-49K</td>\n",
       "      <td>Homeowner</td>\n",
       "      <td>2 Adults No Kids</td>\n",
       "      <td>2</td>\n",
       "      <td>None/Unknown</td>\n",
       "      <td>1</td>\n",
       "    </tr>\n",
       "    <tr>\n",
       "      <th>1</th>\n",
       "      <td>45-54</td>\n",
       "      <td>A</td>\n",
       "      <td>50-74K</td>\n",
       "      <td>Homeowner</td>\n",
       "      <td>2 Adults No Kids</td>\n",
       "      <td>2</td>\n",
       "      <td>None/Unknown</td>\n",
       "      <td>7</td>\n",
       "    </tr>\n",
       "    <tr>\n",
       "      <th>2</th>\n",
       "      <td>25-34</td>\n",
       "      <td>U</td>\n",
       "      <td>25-34K</td>\n",
       "      <td>Unknown</td>\n",
       "      <td>2 Adults Kids</td>\n",
       "      <td>3</td>\n",
       "      <td>1</td>\n",
       "      <td>8</td>\n",
       "    </tr>\n",
       "  </tbody>\n",
       "</table>\n",
       "</div>"
      ],
      "text/plain": [
       "  AGE_DESC MARITAL_STATUS_CODE INCOME_DESC HOMEOWNER_DESC      HH_COMP_DESC  \\\n",
       "0      65+                   A      35-49K      Homeowner  2 Adults No Kids   \n",
       "1    45-54                   A      50-74K      Homeowner  2 Adults No Kids   \n",
       "2    25-34                   U      25-34K        Unknown     2 Adults Kids   \n",
       "\n",
       "  HOUSEHOLD_SIZE_DESC KID_CATEGORY_DESC  household_key  \n",
       "0                   2      None/Unknown              1  \n",
       "1                   2      None/Unknown              7  \n",
       "2                   3                 1              8  "
      ]
     },
     "execution_count": 55,
     "metadata": {},
     "output_type": "execute_result"
    }
   ],
   "source": [
    "user_features.head(3)"
   ]
  },
  {
   "cell_type": "code",
   "execution_count": 75,
   "metadata": {},
   "outputs": [
    {
     "data": {
      "text/plain": [
       "801"
      ]
     },
     "execution_count": 75,
     "metadata": {},
     "output_type": "execute_result"
    }
   ],
   "source": [
    "user_features['household_key'].unique().size"
   ]
  },
  {
   "cell_type": "code",
   "execution_count": 72,
   "metadata": {},
   "outputs": [
    {
     "name": "stdout",
     "output_type": "stream",
     "text": [
      "<class 'pandas.core.frame.DataFrame'>\n",
      "RangeIndex: 801 entries, 0 to 800\n",
      "Data columns (total 8 columns):\n",
      " #   Column               Non-Null Count  Dtype \n",
      "---  ------               --------------  ----- \n",
      " 0   AGE_DESC             801 non-null    object\n",
      " 1   MARITAL_STATUS_CODE  801 non-null    object\n",
      " 2   INCOME_DESC          801 non-null    object\n",
      " 3   HOMEOWNER_DESC       801 non-null    object\n",
      " 4   HH_COMP_DESC         801 non-null    object\n",
      " 5   HOUSEHOLD_SIZE_DESC  801 non-null    object\n",
      " 6   KID_CATEGORY_DESC    801 non-null    object\n",
      " 7   household_key        801 non-null    int64 \n",
      "dtypes: int64(1), object(7)\n",
      "memory usage: 50.2+ KB\n"
     ]
    }
   ],
   "source": [
    "user_features.info()"
   ]
  },
  {
   "cell_type": "code",
   "execution_count": 59,
   "metadata": {},
   "outputs": [
    {
     "data": {
      "text/plain": [
       "(array(['A', 'U', 'B'], dtype=object),\n",
       " array(['35-49K', '50-74K', '25-34K', '75-99K', 'Under 15K', '100-124K',\n",
       "        '15-24K', '125-149K', '150-174K', '250K+', '175-199K', '200-249K'],\n",
       "       dtype=object),\n",
       " array(['65+', '45-54', '25-34', '35-44', '19-24', '55-64'], dtype=object))"
      ]
     },
     "execution_count": 59,
     "metadata": {},
     "output_type": "execute_result"
    }
   ],
   "source": [
    "user_features['MARITAL_STATUS_CODE'].unique(),user_features['INCOME_DESC'].unique(),user_features['AGE_DESC'].unique()"
   ]
  },
  {
   "cell_type": "code",
   "execution_count": 64,
   "metadata": {},
   "outputs": [
    {
     "data": {
      "text/plain": [
       "(array(['2 Adults No Kids', '2 Adults Kids', 'Single Female', 'Unknown',\n",
       "        'Single Male', '1 Adult Kids'], dtype=object),\n",
       " array(['Homeowner', 'Unknown', 'Renter', 'Probable Renter',\n",
       "        'Probable Owner'], dtype=object))"
      ]
     },
     "execution_count": 64,
     "metadata": {},
     "output_type": "execute_result"
    }
   ],
   "source": [
    "user_features['HH_COMP_DESC'].unique(),user_features['HOMEOWNER_DESC'].unique()"
   ]
  },
  {
   "cell_type": "code",
   "execution_count": 70,
   "metadata": {},
   "outputs": [
    {
     "data": {
      "text/plain": [
       "584"
      ]
     },
     "execution_count": 70,
     "metadata": {},
     "output_type": "execute_result"
    }
   ],
   "source": [
    "user_features[(user_features['HH_COMP_DESC'] == 'Unknown')].size"
   ]
  },
  {
   "cell_type": "markdown",
   "metadata": {},
   "source": [
    "**Краткое резюме по данным**\n",
    "\n",
    "Данные из трех файлов можно связать по ключевым полям household_key, PRODUCT_ID.<br><br>\n",
    "В data есть ошибочные данные, например для скидок. время покупки TRANS_TIME в data заданы как 4х значное число, можно преобразовать.<br><br>\n",
    "В даных по товарам, например можно использовать и преобразовать DEPARTMENT и BRAND<br><br>\n",
    "В пользовательских признаках все признаки можно трансформировать или использовать как доп признаки."
   ]
  },
  {
   "cell_type": "code",
   "execution_count": 80,
   "metadata": {},
   "outputs": [],
   "source": [
    "\n",
    "#переименовываем заголовки столбцов, для удобства работы, все строчные\n",
    "item_features.columns = [col.lower() for col in item_features.columns]\n",
    "user_features.columns = [col.lower() for col in user_features.columns]\n",
    "data.columns = [col.lower() for col in data.columns]\n",
    "\n",
    "# переименовываем заголовки для user и item\n",
    "item_features.rename(columns={'product_id': 'item_id'}, inplace=True)\n",
    "user_features.rename(columns={'household_key': 'user_id'}, inplace=True)\n",
    "data.rename(columns={'household_key': 'user_id'}, inplace=True)\n",
    "data.rename(columns={'product_id': 'item_id'}, inplace=True)\n"
   ]
  },
  {
   "cell_type": "markdown",
   "metadata": {},
   "source": [
    " (например, товары такой-то категории болле часто покупаются в следующие дни недели или пользователи с большим достатком предпочитают такие-то товары)"
   ]
  },
  {
   "cell_type": "code",
   "execution_count": 191,
   "metadata": {},
   "outputs": [],
   "source": [
    "test = data.copy()"
   ]
  },
  {
   "cell_type": "code",
   "execution_count": 192,
   "metadata": {},
   "outputs": [],
   "source": [
    "test = test.merge(item_features, on='item_id', how='left')"
   ]
  },
  {
   "cell_type": "code",
   "execution_count": 193,
   "metadata": {},
   "outputs": [],
   "source": [
    "test = test.merge(user_features, on='user_id', how='left')"
   ]
  },
  {
   "cell_type": "code",
   "execution_count": 202,
   "metadata": {},
   "outputs": [
    {
     "data": {
      "text/html": [
       "<div>\n",
       "<style scoped>\n",
       "    .dataframe tbody tr th:only-of-type {\n",
       "        vertical-align: middle;\n",
       "    }\n",
       "\n",
       "    .dataframe tbody tr th {\n",
       "        vertical-align: top;\n",
       "    }\n",
       "\n",
       "    .dataframe thead th {\n",
       "        text-align: right;\n",
       "    }\n",
       "</style>\n",
       "<table border=\"1\" class=\"dataframe\">\n",
       "  <thead>\n",
       "    <tr style=\"text-align: right;\">\n",
       "      <th></th>\n",
       "      <th>user_id</th>\n",
       "      <th>basket_id</th>\n",
       "      <th>day</th>\n",
       "      <th>item_id</th>\n",
       "      <th>quantity</th>\n",
       "      <th>sales_value</th>\n",
       "      <th>store_id</th>\n",
       "      <th>retail_disc</th>\n",
       "      <th>trans_time</th>\n",
       "      <th>week_no</th>\n",
       "      <th>coupon_disc</th>\n",
       "      <th>coupon_match_disc</th>\n",
       "    </tr>\n",
       "  </thead>\n",
       "  <tbody>\n",
       "    <tr>\n",
       "      <th>0</th>\n",
       "      <td>2375</td>\n",
       "      <td>26984851472</td>\n",
       "      <td>1</td>\n",
       "      <td>1004906</td>\n",
       "      <td>1</td>\n",
       "      <td>1.39</td>\n",
       "      <td>364</td>\n",
       "      <td>-0.60</td>\n",
       "      <td>1631</td>\n",
       "      <td>1</td>\n",
       "      <td>0.0</td>\n",
       "      <td>0.0</td>\n",
       "    </tr>\n",
       "    <tr>\n",
       "      <th>1</th>\n",
       "      <td>2375</td>\n",
       "      <td>26984851472</td>\n",
       "      <td>1</td>\n",
       "      <td>1033142</td>\n",
       "      <td>1</td>\n",
       "      <td>0.82</td>\n",
       "      <td>364</td>\n",
       "      <td>0.00</td>\n",
       "      <td>1631</td>\n",
       "      <td>1</td>\n",
       "      <td>0.0</td>\n",
       "      <td>0.0</td>\n",
       "    </tr>\n",
       "    <tr>\n",
       "      <th>2</th>\n",
       "      <td>2375</td>\n",
       "      <td>26984851472</td>\n",
       "      <td>1</td>\n",
       "      <td>1036325</td>\n",
       "      <td>1</td>\n",
       "      <td>0.99</td>\n",
       "      <td>364</td>\n",
       "      <td>-0.30</td>\n",
       "      <td>1631</td>\n",
       "      <td>1</td>\n",
       "      <td>0.0</td>\n",
       "      <td>0.0</td>\n",
       "    </tr>\n",
       "    <tr>\n",
       "      <th>3</th>\n",
       "      <td>2375</td>\n",
       "      <td>26984851472</td>\n",
       "      <td>1</td>\n",
       "      <td>1082185</td>\n",
       "      <td>1</td>\n",
       "      <td>1.21</td>\n",
       "      <td>364</td>\n",
       "      <td>0.00</td>\n",
       "      <td>1631</td>\n",
       "      <td>1</td>\n",
       "      <td>0.0</td>\n",
       "      <td>0.0</td>\n",
       "    </tr>\n",
       "    <tr>\n",
       "      <th>4</th>\n",
       "      <td>2375</td>\n",
       "      <td>26984851472</td>\n",
       "      <td>1</td>\n",
       "      <td>8160430</td>\n",
       "      <td>1</td>\n",
       "      <td>1.50</td>\n",
       "      <td>364</td>\n",
       "      <td>-0.39</td>\n",
       "      <td>1631</td>\n",
       "      <td>1</td>\n",
       "      <td>0.0</td>\n",
       "      <td>0.0</td>\n",
       "    </tr>\n",
       "    <tr>\n",
       "      <th>...</th>\n",
       "      <td>...</td>\n",
       "      <td>...</td>\n",
       "      <td>...</td>\n",
       "      <td>...</td>\n",
       "      <td>...</td>\n",
       "      <td>...</td>\n",
       "      <td>...</td>\n",
       "      <td>...</td>\n",
       "      <td>...</td>\n",
       "      <td>...</td>\n",
       "      <td>...</td>\n",
       "      <td>...</td>\n",
       "    </tr>\n",
       "    <tr>\n",
       "      <th>2595727</th>\n",
       "      <td>1598</td>\n",
       "      <td>42305362535</td>\n",
       "      <td>711</td>\n",
       "      <td>92130</td>\n",
       "      <td>1</td>\n",
       "      <td>0.99</td>\n",
       "      <td>3228</td>\n",
       "      <td>0.00</td>\n",
       "      <td>1520</td>\n",
       "      <td>102</td>\n",
       "      <td>0.0</td>\n",
       "      <td>0.0</td>\n",
       "    </tr>\n",
       "    <tr>\n",
       "      <th>2595728</th>\n",
       "      <td>1598</td>\n",
       "      <td>42305362535</td>\n",
       "      <td>711</td>\n",
       "      <td>114102</td>\n",
       "      <td>1</td>\n",
       "      <td>8.89</td>\n",
       "      <td>3228</td>\n",
       "      <td>0.00</td>\n",
       "      <td>1520</td>\n",
       "      <td>102</td>\n",
       "      <td>0.0</td>\n",
       "      <td>0.0</td>\n",
       "    </tr>\n",
       "    <tr>\n",
       "      <th>2595729</th>\n",
       "      <td>1598</td>\n",
       "      <td>42305362535</td>\n",
       "      <td>711</td>\n",
       "      <td>133449</td>\n",
       "      <td>1</td>\n",
       "      <td>6.99</td>\n",
       "      <td>3228</td>\n",
       "      <td>0.00</td>\n",
       "      <td>1520</td>\n",
       "      <td>102</td>\n",
       "      <td>0.0</td>\n",
       "      <td>0.0</td>\n",
       "    </tr>\n",
       "    <tr>\n",
       "      <th>2595730</th>\n",
       "      <td>1598</td>\n",
       "      <td>42305362535</td>\n",
       "      <td>711</td>\n",
       "      <td>6923644</td>\n",
       "      <td>1</td>\n",
       "      <td>4.50</td>\n",
       "      <td>3228</td>\n",
       "      <td>-0.49</td>\n",
       "      <td>1520</td>\n",
       "      <td>102</td>\n",
       "      <td>0.0</td>\n",
       "      <td>0.0</td>\n",
       "    </tr>\n",
       "    <tr>\n",
       "      <th>2595731</th>\n",
       "      <td>1598</td>\n",
       "      <td>42305362535</td>\n",
       "      <td>711</td>\n",
       "      <td>14055192</td>\n",
       "      <td>1</td>\n",
       "      <td>6.99</td>\n",
       "      <td>3228</td>\n",
       "      <td>0.00</td>\n",
       "      <td>1520</td>\n",
       "      <td>102</td>\n",
       "      <td>0.0</td>\n",
       "      <td>0.0</td>\n",
       "    </tr>\n",
       "  </tbody>\n",
       "</table>\n",
       "<p>2595732 rows × 12 columns</p>\n",
       "</div>"
      ],
      "text/plain": [
       "         user_id    basket_id  day   item_id  quantity  sales_value  store_id  \\\n",
       "0           2375  26984851472    1   1004906         1         1.39       364   \n",
       "1           2375  26984851472    1   1033142         1         0.82       364   \n",
       "2           2375  26984851472    1   1036325         1         0.99       364   \n",
       "3           2375  26984851472    1   1082185         1         1.21       364   \n",
       "4           2375  26984851472    1   8160430         1         1.50       364   \n",
       "...          ...          ...  ...       ...       ...          ...       ...   \n",
       "2595727     1598  42305362535  711     92130         1         0.99      3228   \n",
       "2595728     1598  42305362535  711    114102         1         8.89      3228   \n",
       "2595729     1598  42305362535  711    133449         1         6.99      3228   \n",
       "2595730     1598  42305362535  711   6923644         1         4.50      3228   \n",
       "2595731     1598  42305362535  711  14055192         1         6.99      3228   \n",
       "\n",
       "         retail_disc  trans_time  week_no  coupon_disc  coupon_match_disc  \n",
       "0              -0.60        1631        1          0.0                0.0  \n",
       "1               0.00        1631        1          0.0                0.0  \n",
       "2              -0.30        1631        1          0.0                0.0  \n",
       "3               0.00        1631        1          0.0                0.0  \n",
       "4              -0.39        1631        1          0.0                0.0  \n",
       "...              ...         ...      ...          ...                ...  \n",
       "2595727         0.00        1520      102          0.0                0.0  \n",
       "2595728         0.00        1520      102          0.0                0.0  \n",
       "2595729         0.00        1520      102          0.0                0.0  \n",
       "2595730        -0.49        1520      102          0.0                0.0  \n",
       "2595731         0.00        1520      102          0.0                0.0  \n",
       "\n",
       "[2595732 rows x 12 columns]"
      ]
     },
     "execution_count": 202,
     "metadata": {},
     "output_type": "execute_result"
    }
   ],
   "source": [
    "data"
   ]
  },
  {
   "cell_type": "code",
   "execution_count": 195,
   "metadata": {},
   "outputs": [],
   "source": [
    "list_income = ('Under 15K',  '15-24K',  '25-34K', '35-49K', '50-74K', '75-99K',  '100-124K','125-149K', '150-174K','175-199K', '200-249K', '250K+')"
   ]
  },
  {
   "cell_type": "code",
   "execution_count": 196,
   "metadata": {},
   "outputs": [],
   "source": [
    "i = 1\n",
    "for ind in list_income:\n",
    "    test.loc[(test['income_desc']==ind), 'income_indx'] = i\n",
    "    i+=1;\n",
    "test['income_indx']=test['income_indx'].fillna(0)"
   ]
  },
  {
   "cell_type": "code",
   "execution_count": 219,
   "metadata": {},
   "outputs": [],
   "source": [
    "list_dept = list(item_features['department'].unique())"
   ]
  },
  {
   "cell_type": "code",
   "execution_count": 266,
   "metadata": {},
   "outputs": [
    {
     "data": {
      "text/plain": [
       "44"
      ]
     },
     "execution_count": 266,
     "metadata": {},
     "output_type": "execute_result"
    }
   ],
   "source": [
    "len(list_dept)"
   ]
  },
  {
   "cell_type": "code",
   "execution_count": 221,
   "metadata": {},
   "outputs": [],
   "source": [
    "i = 1\n",
    "for ind in list_dept:\n",
    "    test.loc[(test['department']==ind), 'dept_indx'] = i\n",
    "    i+=1;\n",
    "test['dept_indx']=test['dept_indx'].fillna(0)"
   ]
  },
  {
   "cell_type": "markdown",
   "metadata": {},
   "source": [
    "### пользователи с большим достатком предпочитают товары следующих категорий: ###"
   ]
  },
  {
   "cell_type": "code",
   "execution_count": 472,
   "metadata": {},
   "outputs": [
    {
     "data": {
      "text/plain": [
       "array([[<AxesSubplot:title={'center':'dept_indx'}>]], dtype=object)"
      ]
     },
     "execution_count": 472,
     "metadata": {},
     "output_type": "execute_result"
    },
    {
     "data": {
      "image/png": "[encoded data removed]",
      "text/plain": [
       "<Figure size 432x288 with 1 Axes>"
      ]
     },
     "metadata": {
      "needs_background": "light"
     },
     "output_type": "display_data"
    },
    {
     "data": {
      "image/png": "[encoded data removed]",
      "text/plain": [
       "<Figure size 432x288 with 1 Axes>"
      ]
     },
     "metadata": {
      "needs_background": "light"
     },
     "output_type": "display_data"
    }
   ],
   "source": [
    "test[test.income_desc == '250K+'].hist('dept_indx',bins=len(list_dept))\n",
    "test[test.income_desc == '200-249K'].hist('dept_indx',bins=len(list_dept))"
   ]
  },
  {
   "cell_type": "code",
   "execution_count": 287,
   "metadata": {},
   "outputs": [],
   "source": [
    "test['weekday'] = test['day'] % 7 + 1"
   ]
  },
  {
   "cell_type": "markdown",
   "metadata": {},
   "source": [
    "### товары такой-то категории болле часто покупаются в следующие дни недели"
   ]
  },
  {
   "cell_type": "code",
   "execution_count": 471,
   "metadata": {},
   "outputs": [
    {
     "data": {
      "image/png": "[encoded data removed]",
      "text/plain": [
       "<Figure size 720x216 with 1 Axes>"
      ]
     },
     "metadata": {
      "needs_background": "light"
     },
     "output_type": "display_data"
    },
    {
     "data": {
      "image/png": "[encoded data removed]",
      "text/plain": [
       "<Figure size 720x216 with 1 Axes>"
      ]
     },
     "metadata": {
      "needs_background": "light"
     },
     "output_type": "display_data"
    },
    {
     "data": {
      "image/png": "[encoded data removed]",
      "text/plain": [
       "<Figure size 720x216 with 1 Axes>"
      ]
     },
     "metadata": {
      "needs_background": "light"
     },
     "output_type": "display_data"
    },
    {
     "data": {
      "image/png": "[encoded data removed]",
      "text/plain": [
       "<Figure size 720x216 with 1 Axes>"
      ]
     },
     "metadata": {
      "needs_background": "light"
     },
     "output_type": "display_data"
    },
    {
     "data": {
      "image/png": "[encoded data removed]",
      "text/plain": [
       "<Figure size 720x216 with 1 Axes>"
      ]
     },
     "metadata": {
      "needs_background": "light"
     },
     "output_type": "display_data"
    },
    {
     "data": {
      "image/png": "[encoded data removed]",
      "text/plain": [
       "<Figure size 720x216 with 1 Axes>"
      ]
     },
     "metadata": {
      "needs_background": "light"
     },
     "output_type": "display_data"
    },
    {
     "data": {
      "image/png": "[encoded data removed]",
      "text/plain": [
       "<Figure size 720x216 with 1 Axes>"
      ]
     },
     "metadata": {
      "needs_background": "light"
     },
     "output_type": "display_data"
    }
   ],
   "source": [
    "for ind in range(1,8):\n",
    "    test[test['weekday'] == ind].hist('dept_indx',figsize = (10,3), bins=len(list_dept))\n"
   ]
  },
  {
   "cell_type": "markdown",
   "metadata": {},
   "source": [
    "### Покупки по дням недели ###"
   ]
  },
  {
   "cell_type": "code",
   "execution_count": 459,
   "metadata": {},
   "outputs": [
    {
     "data": {
      "text/plain": [
       "<AxesSubplot:xlabel='weekday', ylabel='Density'>"
      ]
     },
     "execution_count": 459,
     "metadata": {},
     "output_type": "execute_result"
    },
    {
     "data": {
      "image/png": "[encoded data removed]",
      "text/plain": [
       "<Figure size 432x288 with 1 Axes>"
      ]
     },
     "metadata": {
      "needs_background": "light"
     },
     "output_type": "display_data"
    }
   ],
   "source": [
    "sns.kdeplot(data=test['weekday'],fill=True)"
   ]
  },
  {
   "cell_type": "markdown",
   "metadata": {},
   "source": [
    "### Количество покупок по дням в первый год работы магазина"
   ]
  },
  {
   "cell_type": "code",
   "execution_count": 473,
   "metadata": {},
   "outputs": [
    {
     "data": {
      "text/plain": [
       "array([[<AxesSubplot:title={'center':'day'}>]], dtype=object)"
      ]
     },
     "execution_count": 473,
     "metadata": {},
     "output_type": "execute_result"
    },
    {
     "data": {
      "image/png": "[encoded data removed]",
      "text/plain": [
       "<Figure size 1152x1152 with 1 Axes>"
      ]
     },
     "metadata": {
      "needs_background": "light"
     },
     "output_type": "display_data"
    }
   ],
   "source": [
    "test[test['week_no']<=52].hist('day',figsize=(16,16),bins=365)"
   ]
  },
  {
   "cell_type": "code",
   "execution_count": null,
   "metadata": {},
   "outputs": [],
   "source": []
  },
  {
   "cell_type": "markdown",
   "metadata": {},
   "source": [
    "### 3. LightFM"
   ]
  },
  {
   "cell_type": "markdown",
   "metadata": {},
   "source": [
    "У этого алогритма есть множество параметров (item/user_alpha, loss, no_components).  \n",
    "Проведите эксперименты аналогично дз 3 (подберите гипперпараметры каким удобно способои и постройте графики)  \n",
    "На выходе необходимо получить pr@5 на валидации (последние 3 недели) > 17%  \n",
    "\n",
    "У Вас, скорее всего, возникнет проблема со временем обучения. Почему они возникает?    \n",
    "\n",
    "Попробуйте запустить алгоритм вообще без фичей или используйте только признаки с небольшим числом уникальных категорий. (item_features['commodity_desc'].unique() - 300 уникальных категорий - это очень много)"
   ]
  },
  {
   "cell_type": "markdown",
   "metadata": {},
   "source": [
    "### *Отбор признаков* * "
   ]
  },
  {
   "cell_type": "markdown",
   "metadata": {},
   "source": [
    "Все данные категориальные, при ohe кодировании для товаров признаков становится невероятно много.      \n",
    "Какие стратегии отбора признаков в классическом ML Вы знаете? Применимы ли они тут?  \n",
    "\n",
    "Попробйте какие-нибудь стратегии. Удалось ли улучшить качество?\n",
    "\n",
    " \\* *задание необязательно*\n"
   ]
  },
  {
   "cell_type": "code",
   "execution_count": null,
   "metadata": {},
   "outputs": [],
   "source": [
    "data_filtered = prefilter_items(data)"
   ]
  },
  {
   "cell_type": "code",
   "execution_count": 474,
   "metadata": {},
   "outputs": [
    {
     "name": "stdout",
     "output_type": "stream",
     "text": [
      "Wall time: 6.31 s\n"
     ]
    }
   ],
   "source": [
    "%%time\n",
    "data = prefilter_items(data)"
   ]
  },
  {
   "cell_type": "code",
   "execution_count": 476,
   "metadata": {},
   "outputs": [
    {
     "data": {
      "text/html": [
       "<style type=\"text/css\">\n",
       "</style>\n",
       "<table id=\"T_73aff_\">\n",
       "  <thead>\n",
       "    <tr>\n",
       "      <th class=\"blank level0\" >&nbsp;</th>\n",
       "      <th class=\"col_heading level0 col0\" >user_id</th>\n",
       "      <th class=\"col_heading level0 col1\" >basket_id</th>\n",
       "      <th class=\"col_heading level0 col2\" >day</th>\n",
       "      <th class=\"col_heading level0 col3\" >item_id</th>\n",
       "      <th class=\"col_heading level0 col4\" >quantity</th>\n",
       "      <th class=\"col_heading level0 col5\" >sales_value</th>\n",
       "      <th class=\"col_heading level0 col6\" >store_id</th>\n",
       "      <th class=\"col_heading level0 col7\" >retail_disc</th>\n",
       "      <th class=\"col_heading level0 col8\" >trans_time</th>\n",
       "      <th class=\"col_heading level0 col9\" >week_no</th>\n",
       "      <th class=\"col_heading level0 col10\" >coupon_disc</th>\n",
       "      <th class=\"col_heading level0 col11\" >coupon_match_disc</th>\n",
       "      <th class=\"col_heading level0 col12\" >price</th>\n",
       "    </tr>\n",
       "  </thead>\n",
       "  <tbody>\n",
       "    <tr>\n",
       "      <th id=\"T_73aff_level0_row0\" class=\"row_heading level0 row0\" >count</th>\n",
       "      <td id=\"T_73aff_row0_col0\" class=\"data row0 col0\" >1079613</td>\n",
       "      <td id=\"T_73aff_row0_col1\" class=\"data row0 col1\" >1079613</td>\n",
       "      <td id=\"T_73aff_row0_col2\" class=\"data row0 col2\" >1079613</td>\n",
       "      <td id=\"T_73aff_row0_col3\" class=\"data row0 col3\" >1079613</td>\n",
       "      <td id=\"T_73aff_row0_col4\" class=\"data row0 col4\" >1079613</td>\n",
       "      <td id=\"T_73aff_row0_col5\" class=\"data row0 col5\" >1079613</td>\n",
       "      <td id=\"T_73aff_row0_col6\" class=\"data row0 col6\" >1079613</td>\n",
       "      <td id=\"T_73aff_row0_col7\" class=\"data row0 col7\" >1079613</td>\n",
       "      <td id=\"T_73aff_row0_col8\" class=\"data row0 col8\" >1079613</td>\n",
       "      <td id=\"T_73aff_row0_col9\" class=\"data row0 col9\" >1079613</td>\n",
       "      <td id=\"T_73aff_row0_col10\" class=\"data row0 col10\" >1079613</td>\n",
       "      <td id=\"T_73aff_row0_col11\" class=\"data row0 col11\" >1079613</td>\n",
       "      <td id=\"T_73aff_row0_col12\" class=\"data row0 col12\" >1079613</td>\n",
       "    </tr>\n",
       "    <tr>\n",
       "      <th id=\"T_73aff_level0_row1\" class=\"row_heading level0 row1\" >mean</th>\n",
       "      <td id=\"T_73aff_row1_col0\" class=\"data row1 col0\" >1276</td>\n",
       "      <td id=\"T_73aff_row1_col1\" class=\"data row1 col1\" >34088317958</td>\n",
       "      <td id=\"T_73aff_row1_col2\" class=\"data row1 col2\" >391</td>\n",
       "      <td id=\"T_73aff_row1_col3\" class=\"data row1 col3\" >2228258</td>\n",
       "      <td id=\"T_73aff_row1_col4\" class=\"data row1 col4\" >1</td>\n",
       "      <td id=\"T_73aff_row1_col5\" class=\"data row1 col5\" >5</td>\n",
       "      <td id=\"T_73aff_row1_col6\" class=\"data row1 col6\" >3333</td>\n",
       "      <td id=\"T_73aff_row1_col7\" class=\"data row1 col7\" >-1</td>\n",
       "      <td id=\"T_73aff_row1_col8\" class=\"data row1 col8\" >1563</td>\n",
       "      <td id=\"T_73aff_row1_col9\" class=\"data row1 col9\" >57</td>\n",
       "      <td id=\"T_73aff_row1_col10\" class=\"data row1 col10\" >-0</td>\n",
       "      <td id=\"T_73aff_row1_col11\" class=\"data row1 col11\" >-0</td>\n",
       "      <td id=\"T_73aff_row1_col12\" class=\"data row1 col12\" >4</td>\n",
       "    </tr>\n",
       "    <tr>\n",
       "      <th id=\"T_73aff_level0_row2\" class=\"row_heading level0 row2\" >std</th>\n",
       "      <td id=\"T_73aff_row2_col0\" class=\"data row2 col0\" >722</td>\n",
       "      <td id=\"T_73aff_row2_col1\" class=\"data row2 col1\" >4742827639</td>\n",
       "      <td id=\"T_73aff_row2_col2\" class=\"data row2 col2\" >191</td>\n",
       "      <td id=\"T_73aff_row2_col3\" class=\"data row2 col3\" >3050786</td>\n",
       "      <td id=\"T_73aff_row2_col4\" class=\"data row2 col4\" >1</td>\n",
       "      <td id=\"T_73aff_row2_col5\" class=\"data row2 col5\" >4</td>\n",
       "      <td id=\"T_73aff_row2_col6\" class=\"data row2 col6\" >9210</td>\n",
       "      <td id=\"T_73aff_row2_col7\" class=\"data row2 col7\" >2</td>\n",
       "      <td id=\"T_73aff_row2_col8\" class=\"data row2 col8\" >396</td>\n",
       "      <td id=\"T_73aff_row2_col9\" class=\"data row2 col9\" >27</td>\n",
       "      <td id=\"T_73aff_row2_col10\" class=\"data row2 col10\" >0</td>\n",
       "      <td id=\"T_73aff_row2_col11\" class=\"data row2 col11\" >0</td>\n",
       "      <td id=\"T_73aff_row2_col12\" class=\"data row2 col12\" >3</td>\n",
       "    </tr>\n",
       "    <tr>\n",
       "      <th id=\"T_73aff_level0_row3\" class=\"row_heading level0 row3\" >min</th>\n",
       "      <td id=\"T_73aff_row3_col0\" class=\"data row3 col0\" >1</td>\n",
       "      <td id=\"T_73aff_row3_col1\" class=\"data row3 col1\" >26984851516</td>\n",
       "      <td id=\"T_73aff_row3_col2\" class=\"data row3 col2\" >1</td>\n",
       "      <td id=\"T_73aff_row3_col3\" class=\"data row3 col3\" >818981</td>\n",
       "      <td id=\"T_73aff_row3_col4\" class=\"data row3 col4\" >0</td>\n",
       "      <td id=\"T_73aff_row3_col5\" class=\"data row3 col5\" >2</td>\n",
       "      <td id=\"T_73aff_row3_col6\" class=\"data row3 col6\" >1</td>\n",
       "      <td id=\"T_73aff_row3_col7\" class=\"data row3 col7\" >-180</td>\n",
       "      <td id=\"T_73aff_row3_col8\" class=\"data row3 col8\" >0</td>\n",
       "      <td id=\"T_73aff_row3_col9\" class=\"data row3 col9\" >1</td>\n",
       "      <td id=\"T_73aff_row3_col10\" class=\"data row3 col10\" >-56</td>\n",
       "      <td id=\"T_73aff_row3_col11\" class=\"data row3 col11\" >-3</td>\n",
       "      <td id=\"T_73aff_row3_col12\" class=\"data row3 col12\" >2</td>\n",
       "    </tr>\n",
       "    <tr>\n",
       "      <th id=\"T_73aff_level0_row4\" class=\"row_heading level0 row4\" >25%</th>\n",
       "      <td id=\"T_73aff_row4_col0\" class=\"data row4 col0\" >671</td>\n",
       "      <td id=\"T_73aff_row4_col1\" class=\"data row4 col1\" >30503918029</td>\n",
       "      <td id=\"T_73aff_row4_col2\" class=\"data row4 col2\" >230</td>\n",
       "      <td id=\"T_73aff_row4_col3\" class=\"data row4 col3\" >983584</td>\n",
       "      <td id=\"T_73aff_row4_col4\" class=\"data row4 col4\" >1</td>\n",
       "      <td id=\"T_73aff_row4_col5\" class=\"data row4 col5\" >3</td>\n",
       "      <td id=\"T_73aff_row4_col6\" class=\"data row4 col6\" >333</td>\n",
       "      <td id=\"T_73aff_row4_col7\" class=\"data row4 col7\" >-1</td>\n",
       "      <td id=\"T_73aff_row4_col8\" class=\"data row4 col8\" >1309</td>\n",
       "      <td id=\"T_73aff_row4_col9\" class=\"data row4 col9\" >34</td>\n",
       "      <td id=\"T_73aff_row4_col10\" class=\"data row4 col10\" >0</td>\n",
       "      <td id=\"T_73aff_row4_col11\" class=\"data row4 col11\" >0</td>\n",
       "      <td id=\"T_73aff_row4_col12\" class=\"data row4 col12\" >2</td>\n",
       "    </tr>\n",
       "    <tr>\n",
       "      <th id=\"T_73aff_level0_row5\" class=\"row_heading level0 row5\" >50%</th>\n",
       "      <td id=\"T_73aff_row5_col0\" class=\"data row5 col0\" >1274</td>\n",
       "      <td id=\"T_73aff_row5_col1\" class=\"data row5 col1\" >32835682876</td>\n",
       "      <td id=\"T_73aff_row5_col2\" class=\"data row5 col2\" >394</td>\n",
       "      <td id=\"T_73aff_row5_col3\" class=\"data row5 col3\" >999999</td>\n",
       "      <td id=\"T_73aff_row5_col4\" class=\"data row5 col4\" >1</td>\n",
       "      <td id=\"T_73aff_row5_col5\" class=\"data row5 col5\" >3</td>\n",
       "      <td id=\"T_73aff_row5_col6\" class=\"data row5 col6\" >372</td>\n",
       "      <td id=\"T_73aff_row5_col7\" class=\"data row5 col7\" >0</td>\n",
       "      <td id=\"T_73aff_row5_col8\" class=\"data row5 col8\" >1614</td>\n",
       "      <td id=\"T_73aff_row5_col9\" class=\"data row5 col9\" >57</td>\n",
       "      <td id=\"T_73aff_row5_col10\" class=\"data row5 col10\" >0</td>\n",
       "      <td id=\"T_73aff_row5_col11\" class=\"data row5 col11\" >0</td>\n",
       "      <td id=\"T_73aff_row5_col12\" class=\"data row5 col12\" >3</td>\n",
       "    </tr>\n",
       "    <tr>\n",
       "      <th id=\"T_73aff_level0_row6\" class=\"row_heading level0 row6\" >75%</th>\n",
       "      <td id=\"T_73aff_row6_col0\" class=\"data row6 col0\" >1907</td>\n",
       "      <td id=\"T_73aff_row6_col1\" class=\"data row6 col1\" >40186351956</td>\n",
       "      <td id=\"T_73aff_row6_col2\" class=\"data row6 col2\" >558</td>\n",
       "      <td id=\"T_73aff_row6_col3\" class=\"data row6 col3\" >1088771</td>\n",
       "      <td id=\"T_73aff_row6_col4\" class=\"data row6 col4\" >1</td>\n",
       "      <td id=\"T_73aff_row6_col5\" class=\"data row6 col5\" >5</td>\n",
       "      <td id=\"T_73aff_row6_col6\" class=\"data row6 col6\" >424</td>\n",
       "      <td id=\"T_73aff_row6_col7\" class=\"data row6 col7\" >0</td>\n",
       "      <td id=\"T_73aff_row6_col8\" class=\"data row6 col8\" >1843</td>\n",
       "      <td id=\"T_73aff_row6_col9\" class=\"data row6 col9\" >80</td>\n",
       "      <td id=\"T_73aff_row6_col10\" class=\"data row6 col10\" >0</td>\n",
       "      <td id=\"T_73aff_row6_col11\" class=\"data row6 col11\" >0</td>\n",
       "      <td id=\"T_73aff_row6_col12\" class=\"data row6 col12\" >4</td>\n",
       "    </tr>\n",
       "    <tr>\n",
       "      <th id=\"T_73aff_level0_row7\" class=\"row_heading level0 row7\" >max</th>\n",
       "      <td id=\"T_73aff_row7_col0\" class=\"data row7 col0\" >2500</td>\n",
       "      <td id=\"T_73aff_row7_col1\" class=\"data row7 col1\" >42305362535</td>\n",
       "      <td id=\"T_73aff_row7_col2\" class=\"data row7 col2\" >711</td>\n",
       "      <td id=\"T_73aff_row7_col3\" class=\"data row7 col3\" >18119016</td>\n",
       "      <td id=\"T_73aff_row7_col4\" class=\"data row7 col4\" >40</td>\n",
       "      <td id=\"T_73aff_row7_col5\" class=\"data row7 col5\" >325</td>\n",
       "      <td id=\"T_73aff_row7_col6\" class=\"data row7 col6\" >34280</td>\n",
       "      <td id=\"T_73aff_row7_col7\" class=\"data row7 col7\" >4</td>\n",
       "      <td id=\"T_73aff_row7_col8\" class=\"data row7 col8\" >2359</td>\n",
       "      <td id=\"T_73aff_row7_col9\" class=\"data row7 col9\" >102</td>\n",
       "      <td id=\"T_73aff_row7_col10\" class=\"data row7 col10\" >0</td>\n",
       "      <td id=\"T_73aff_row7_col11\" class=\"data row7 col11\" >0</td>\n",
       "      <td id=\"T_73aff_row7_col12\" class=\"data row7 col12\" >50</td>\n",
       "    </tr>\n",
       "  </tbody>\n",
       "</table>\n"
      ],
      "text/plain": [
       "<pandas.io.formats.style.Styler at 0x1d5fa82de50>"
      ]
     },
     "execution_count": 476,
     "metadata": {},
     "output_type": "execute_result"
    }
   ],
   "source": [
    "data.describe().style.set_precision(0)"
   ]
  },
  {
   "cell_type": "code",
   "execution_count": 475,
   "metadata": {},
   "outputs": [
    {
     "name": "stderr",
     "output_type": "stream",
     "text": [
      "WARNING:root:Intel MKL BLAS detected. Its highly recommend to set the environment variable 'export MKL_NUM_THREADS=1' to disable its internal multithreading\n"
     ]
    },
    {
     "data": {
      "application/vnd.jupyter.widget-view+json": {
       "model_id": "8f0251a9587042da85e496e9ec248013",
       "version_major": 2,
       "version_minor": 0
      },
      "text/plain": [
       "  0%|          | 0/15 [00:00<?, ?it/s]"
      ]
     },
     "metadata": {},
     "output_type": "display_data"
    },
    {
     "data": {
      "application/vnd.jupyter.widget-view+json": {
       "model_id": "4013d93b0bf44b4f8eff200579a9641e",
       "version_major": 2,
       "version_minor": 0
      },
      "text/plain": [
       "  0%|          | 0/5001 [00:00<?, ?it/s]"
      ]
     },
     "metadata": {},
     "output_type": "display_data"
    },
    {
     "name": "stdout",
     "output_type": "stream",
     "text": [
      "Wall time: 7.14 s\n"
     ]
    }
   ],
   "source": [
    "%%time\n",
    "model = MainRecommender(data)"
   ]
  },
  {
   "cell_type": "code",
   "execution_count": null,
   "metadata": {},
   "outputs": [],
   "source": []
  }
 ],
 "metadata": {
  "kernelspec": {
   "display_name": "Python 3 (ipykernel)",
   "language": "python",
   "name": "python3"
  },
  "language_info": {
   "codemirror_mode": {
    "name": "ipython",
    "version": 3
   },
   "file_extension": ".py",
   "mimetype": "text/x-python",
   "name": "python",
   "nbconvert_exporter": "python",
   "pygments_lexer": "ipython3",
   "version": "3.8.11"
  }
 },
 "nbformat": 4,
 "nbformat_minor": 2
}
